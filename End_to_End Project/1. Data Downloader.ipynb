{
 "cells": [
  {
   "cell_type": "markdown",
   "metadata": {},
   "source": [
    "# Data Downloader\n",
    "\n",
    "Downloading data from the server, creating a directory, and extracting the data.\n",
    "\n"
   ]
  },
  {
   "cell_type": "code",
   "execution_count": 3,
   "metadata": {},
   "outputs": [],
   "source": [
    "# Import necessary modules\n",
    "import os  # Operating system module for file and directory operations\n",
    "import tarfile  # Module for working with tar archives\n",
    "import urllib.request  # Module for opening and reading URLs\n",
    "\n",
    "# Define the local path where the housing dataset will be stored\n",
    "HOUSING_PATH = os.path.join(\"datasets\", \"housing\")\n",
    "\n",
    "# Define the complete URL of the housing dataset\n",
    "HOUSING_URL = \"https://raw.githubusercontent.com/ageron/handson-ml2/master/datasets/housing/housing.tgz\"\n",
    "\n",
    "# Define a function to fetch housing data\n",
    "def fetch_housing_data(housing_url=HOUSING_URL, housing_path=HOUSING_PATH):\n",
    "    # Create the local directory if it doesn't exist\n",
    "    os.makedirs(housing_path, exist_ok=True)\n",
    "    \n",
    "    # Construct the full path for the downloaded tar file\n",
    "    tgz_path = os.path.join(housing_path, \"housing.tgz\")\n",
    "    \n",
    "    # Download the tar file from the specified URL and save it locally\n",
    "    urllib.request.urlretrieve(housing_url, tgz_path)\n",
    "    \n",
    "    # Open the downloaded tar file\n",
    "    housing_tgz = tarfile.open(tgz_path)\n",
    "    \n",
    "    # Extract all contents from the tar file to the specified directory\n",
    "    housing_tgz.extractall(path=housing_path)\n",
    "    \n",
    "    # Close the tar file\n",
    "    housing_tgz.close()\n",
    "\n",
    "# Call the function to fetch housing data\n",
    "fetch_housing_data()"
   ]
  }
 ],
 "metadata": {
  "kernelspec": {
   "display_name": "base",
   "language": "python",
   "name": "python3"
  },
  "language_info": {
   "codemirror_mode": {
    "name": "ipython",
    "version": 3
   },
   "file_extension": ".py",
   "mimetype": "text/x-python",
   "name": "python",
   "nbconvert_exporter": "python",
   "pygments_lexer": "ipython3",
   "version": "3.11.5"
  }
 },
 "nbformat": 4,
 "nbformat_minor": 2
}
