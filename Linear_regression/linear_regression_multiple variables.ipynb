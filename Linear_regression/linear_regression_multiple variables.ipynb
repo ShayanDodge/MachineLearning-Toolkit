{
 "cells": [
  {
   "cell_type": "markdown",
   "metadata": {},
   "source": [
    "# The Python code for multiple-variable linear regression using both scikit-learn."
   ]
  },
  {
   "cell_type": "code",
   "execution_count": 12,
   "metadata": {},
   "outputs": [
    {
     "name": "stdout",
     "output_type": "stream",
     "text": [
      "Intercept: \n",
      " 2270.912813383781\n",
      "Coefficients: \n",
      " [-158.95784362  -57.90074501]\n",
      "Predicted Stock Price Index: \n",
      " [1331.62438306]\n",
      "                            OLS Regression Results                            \n",
      "==============================================================================\n",
      "Dep. Variable:      Stock_price_index   R-squared:                       0.242\n",
      "Model:                            OLS   Adj. R-squared:                  0.170\n",
      "Method:                 Least Squares   F-statistic:                     3.355\n",
      "Date:                Tue, 30 Jan 2024   Prob (F-statistic):             0.0544\n",
      "Time:                        18:02:20   Log-Likelihood:                -169.00\n",
      "No. Observations:                  24   AIC:                             344.0\n",
      "Df Residuals:                      21   BIC:                             347.5\n",
      "Df Model:                           2                                         \n",
      "Covariance Type:            nonrobust                                         \n",
      "======================================================================================\n",
      "                         coef    std err          t      P>|t|      [0.025      0.975]\n",
      "--------------------------------------------------------------------------------------\n",
      "const               2270.9128    446.069      5.091      0.000    1343.261    3198.564\n",
      "Rateofinterest      -158.9578     73.156     -2.173      0.041    -311.093      -6.822\n",
      "RateofUnemployment   -57.9007     56.269     -1.029      0.315    -174.919      59.117\n",
      "==============================================================================\n",
      "Omnibus:                        1.697   Durbin-Watson:                   0.673\n",
      "Prob(Omnibus):                  0.428   Jarque-Bera (JB):                1.267\n",
      "Skew:                           0.344   Prob(JB):                        0.531\n",
      "Kurtosis:                       2.109   Cond. No.                         57.4\n",
      "==============================================================================\n",
      "\n",
      "Notes:\n",
      "[1] Standard Errors assume that the covariance matrix of the errors is correctly specified.\n"
     ]
    },
    {
     "name": "stderr",
     "output_type": "stream",
     "text": [
      "c:\\Users\\dodge\\anaconda3\\Lib\\site-packages\\sklearn\\base.py:439: UserWarning: X does not have valid feature names, but LinearRegression was fitted with feature names\n",
      "  warnings.warn(\n"
     ]
    }
   ],
   "source": [
    "import pandas as pd\n",
    "from sklearn import linear_model \n",
    "import statsmodels.api as sm\n",
    "\n",
    "Stock_Market = {'Year': [2018,2019,2018,2017,2017,2016,2017,2019,2018,2018,2019,2019,2016,2017,2017,2018,2018,2018,2018,2018,2016,2016,2016,2016],\\\n",
    "     'Month': [10,12,10,9,8,4,6,5,7,5,1,2,12,10,11,12,8,9,6,4,5,1,3,2],\\\n",
    "     'Rateofinterest': [3.25,4.5,3.5,5.5,4.5,4.5,3.5,5.25,6.25,4.25,5,5,6,5.75,4.75,5.75,5.75,4.75,5.75,4.75,3.75,4.75,5.75,5.75],\\\n",
    "     'RateofUnemployment': [7.3,4.3,3.3,4.3,6.4,5.6,4.5,5.5,6.5,4.6,6.7,5.9,6,4.9,6.8,5.1,7.2,5.1,6.1,7.1,6.9,5.2,7.2,5.1],\\\n",
    "     'Stock_price_index': [1764,1594,1457,1493,1756,1244,1254,1175,1329,1547,1230,1375,1057,945,947,958,918,935,834,786,815,852,724,749]}\n",
    "\n",
    "df = pd.DataFrame(Stock_Market,columns=['Year','Month','Rateofinterest','RateofUnemployment','Stock_price_index'])\n",
    "X = df[['Rateofinterest','RateofUnemployment']] # here we have used 2 variables in Linear Regression using Multiple Variables\n",
    "Y = df['Stock_price_index'] \n",
    "\n",
    "# Using sklearn\n",
    "regr = linear_model.LinearRegression()\n",
    "regr.fit(X, Y)\n",
    "print('Intercept: \\n', regr.intercept_)\n",
    "print('Coefficients: \\n', regr.coef_)\n",
    "\n",
    "# prediction using sklearn \n",
    "New_Rateofinterest = 3.25\n",
    "New_RateofUnemployment = 7.3\n",
    "print ('Predicted Stock Price Index: \\n', regr. predict([[New_Rateofinterest,New_RateofUnemployment]]))\n",
    "\n",
    "# using statsmodels\n",
    "X = sm.add_constant(X) # adding a constant\n",
    "model = sm.OLS(Y, X).fit()\n",
    "predictions = model.predict(X)\n",
    "printmodel = model.summary() \n",
    "print(printmodel)"
   ]
  }
 ],
 "metadata": {
  "language_info": {
   "name": "python"
  }
 },
 "nbformat": 4,
 "nbformat_minor": 2
}
