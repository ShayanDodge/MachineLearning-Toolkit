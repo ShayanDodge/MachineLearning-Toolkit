{
 "cells": [
  {
   "cell_type": "markdown",
   "metadata": {},
   "source": [
    "# The Python codes for linear regression in one variable "
   ]
  },
  {
   "cell_type": "markdown",
   "metadata": {},
   "source": [
    "## Creating a synthetic dataset to illustrate the relationship between Rainfall and Umbrellas Sold."
   ]
  },
  {
   "cell_type": "code",
   "execution_count": 37,
   "metadata": {},
   "outputs": [
    {
     "name": "stdout",
     "output_type": "stream",
     "text": [
      "   Rainfall  UmbrellasSold\n",
      "0  3.745401       7.621373\n",
      "1  9.507143      18.565775\n",
      "2  7.319939      14.777520\n",
      "3  5.986585       8.991816\n",
      "4  1.560186       2.790865\n"
     ]
    }
   ],
   "source": [
    "import numpy as np\n",
    "import pandas as pd\n",
    "\n",
    "# Set a random seed for reproducibility\n",
    "np.random.seed(42)\n",
    "\n",
    "# Generate synthetic data\n",
    "num_samples = 100\n",
    "rainfall = np.random.uniform(0, 10, size=num_samples)\n",
    "umbrellas_sold = 2 * rainfall + np.random.normal(0, 1.5, size=num_samples)\n",
    "\n",
    "# Create a DataFrame\n",
    "df_synthetic = pd.DataFrame({'Rainfall': rainfall, 'UmbrellasSold': umbrellas_sold})\n",
    "\n",
    "# Save the synthetic dataset to a CSV file\n",
    "df_synthetic.to_csv(\"synthetic_umbrella_data.csv\", index=False)\n",
    "\n",
    "# # Display the first few rows of the DataFrame\n",
    "print(df_synthetic.head())"
   ]
  },
  {
   "cell_type": "markdown",
   "metadata": {},
   "source": [
    "## Loading dataset and analyzing the data"
   ]
  },
  {
   "cell_type": "code",
   "execution_count": 42,
   "metadata": {},
   "outputs": [
    {
     "data": {
      "text/plain": [
       "Text(0, 0.5, 'Umbrellas Sold')"
      ]
     },
     "execution_count": 42,
     "metadata": {},
     "output_type": "execute_result"
    },
    {
     "data": {
      "image/png": "[encoded data removed]",
      "text/plain": [
       "<Figure size 640x480 with 1 Axes>"
      ]
     },
     "metadata": {},
     "output_type": "display_data"
    }
   ],
   "source": [
    "import numpy as np\n",
    "import matplotlib.pyplot as plt\n",
    "import pandas as pd\n",
    "import future\n",
    "\n",
    "df = pd.read_csv(\"synthetic_umbrella_data.csv\") # Creating pandas data frame\n",
    "# print(df.head())\n",
    "X = np.asarray(df.Rainfall)\n",
    "y = np.asarray(df.UmbrellasSold)\n",
    "\n",
    "# Normalization of the X\n",
    "def Feature_scaling(X):\n",
    "\n",
    "    meanx = np.zeros(X.shape[0])\n",
    "    meanx = X.mean()\n",
    "    stdx = np.zeros(X.shape[0])\n",
    "    stdx = X.std(ddof=1) \n",
    "    # Normalization is applied on x values \n",
    "    Xnorm = X\n",
    "    Xnorm = np.subtract(X, meanx)\n",
    "    Xnorm = Xnorm /stdx\n",
    "    \n",
    "    return [Xnorm, meanx, stdx]\n",
    "\n",
    "\n",
    "X = Feature_scaling(X)[0] # mean values are obtained\n",
    "meanx = Feature_scaling (X)[1]\n",
    "stdx = Feature_scaling (X)[2]\n",
    "\n",
    "plt.scatter(X, y, color='blue') # Data is plotted and the Scatter plot is obtained\n",
    "plt.xlabel(\"Rainfall\") \n",
    "plt.ylabel(\"Umbrellas Sold\")\n",
    "\n",
    "theta_0 = 140\n",
    "theta_1 = 5.0\n",
    "theta = np.asarray([theta_0,theta_1]).astype(float)\n",
    "h = X * theta_1 + theta_0\n",
    "\n",
    "# Plot the data\n",
    "plt.scatter(X, y, color='black')\n",
    "plt.plot(X, h, color='red', linewidth=1)\n",
    "plt.xlabel(\"Rainfall\") \n",
    "plt.ylabel(\"Umbrellas Sold\")\n"
   ]
  },
  {
   "cell_type": "markdown",
   "metadata": {},
   "source": []
  },
  {
   "cell_type": "markdown",
   "metadata": {},
   "source": [
    "### Feature scaling and Standardization\n",
    "\n",
    "Feature scaling and Standardization are techniques used in machine learning and statistics to preprocess numerical data, particularly when the features (variables) have different scales or ranges. The goal is to bring the features to a common scale or distribution, which can help improve the performance and convergence of certain algorithms.\n",
    "\n",
    "Standardization is another Feature scaling method where the values are centered around the mean with a unit standard deviation. This means that the mean of the attribute becomes zero, and the resultant distribution has a unit standard deviation.\n",
    "\n",
    "$$ X = \\frac{X - \\mu}{\\sigma} $$\n",
    "\n"
   ]
  },
  {
   "cell_type": "markdown",
   "metadata": {},
   "source": []
  }
 ],
 "metadata": {
  "kernelspec": {
   "display_name": "base",
   "language": "python",
   "name": "python3"
  },
  "language_info": {
   "codemirror_mode": {
    "name": "ipython",
    "version": 3
   },
   "file_extension": ".py",
   "mimetype": "text/x-python",
   "name": "python",
   "nbconvert_exporter": "python",
   "pygments_lexer": "ipython3",
   "version": "3.11.5"
  }
 },
 "nbformat": 4,
 "nbformat_minor": 2
}
