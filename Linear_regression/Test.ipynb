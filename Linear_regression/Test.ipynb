{
 "cells": [
  {
   "cell_type": "markdown",
   "metadata": {},
   "source": [
    "# The Python code for linear regression in one variable "
   ]
  },
  {
   "cell_type": "markdown",
   "metadata": {},
   "source": [
    "## Creating a synthetic dataset to illustrate the relationship between Rainfall and Umbrellas Sold."
   ]
  },
  {
   "cell_type": "code",
   "execution_count": 4,
   "metadata": {},
   "outputs": [
    {
     "name": "stdout",
     "output_type": "stream",
     "text": [
      "   Rainfall  UmbrellasSold\n",
      "0  3.745401       7.621373\n",
      "1  9.507143      18.565775\n",
      "2  7.319939      14.777520\n",
      "3  5.986585       8.991816\n",
      "4  1.560186       2.790865\n"
     ]
    }
   ],
   "source": [
    "import numpy as np\n",
    "import pandas as pd\n",
    "\n",
    "# Set a random seed for reproducibility\n",
    "np.random.seed(42)\n",
    "\n",
    "# Generate synthetic data\n",
    "num_samples = 100\n",
    "rainfall = np.random.uniform(0, 10, size=num_samples)\n",
    "umbrellas_sold = 2 * rainfall + np.random.normal(0, 1.5, size=num_samples)\n",
    "\n",
    "# Create a DataFrame\n",
    "df_synthetic = pd.DataFrame({'Rainfall': rainfall, 'UmbrellasSold': umbrellas_sold})\n",
    "\n",
    "# Save the synthetic dataset to a CSV file\n",
    "df_synthetic.to_csv(\"synthetic_umbrella_data.csv\", index=False)\n",
    "\n",
    "# # Display the first few rows of the DataFrame\n",
    "print(df_synthetic.head())"
   ]
  },
  {
   "cell_type": "markdown",
   "metadata": {},
   "source": [
    "## Loading dataset and analyzing the data"
   ]
  },
  {
   "cell_type": "code",
   "execution_count": 26,
   "metadata": {},
   "outputs": [
    {
     "name": "stdout",
     "output_type": "stream",
     "text": [
      "[3.74540119 9.50714306 7.31993942 5.98658484 1.5601864  1.5599452\n",
      " 0.58083612 8.66176146 6.01115012 7.08072578 0.20584494 9.69909852\n",
      " 8.32442641 2.12339111 1.81824967 1.8340451  3.04242243 5.24756432\n",
      " 4.31945019 2.9122914  6.11852895 1.39493861 2.92144649 3.66361843\n",
      " 4.56069984 7.85175961 1.99673782 5.14234438 5.92414569 0.46450413\n",
      " 6.07544852 1.70524124 0.65051593 9.48885537 9.65632033 8.08397348\n",
      " 3.04613769 0.97672114 6.84233027 4.40152494 1.22038235 4.9517691\n",
      " 0.34388521 9.09320402 2.58779982 6.62522284 3.11711076 5.20068021\n",
      " 5.46710279 1.84854456 9.69584628 7.75132823 9.39498942 8.9482735\n",
      " 5.97899979 9.21874235 0.88492502 1.95982862 0.45227289 3.25330331\n",
      " 3.8867729  2.71349032 8.28737509 3.56753327 2.8093451  5.42696083\n",
      " 1.40924225 8.02196981 0.74550644 9.86886937 7.72244769 1.98715682\n",
      " 0.05522117 8.15461428 7.06857344 7.29007168 7.71270347 0.74044652\n",
      " 3.58465729 1.1586906  8.63103426 6.23298127 3.30898025 0.6355835\n",
      " 3.10982322 3.25183322 7.29606178 6.37557471 8.87212743 4.72214925\n",
      " 1.19594246 7.13244787 7.60785049 5.61277198 7.7096718  4.93795596\n",
      " 5.22732829 4.27541018 0.25419127 1.07891427]\n"
     ]
    }
   ],
   "source": [
    "import numpy as np\n",
    "import matplotlib.pyplot as plt\n",
    "import pandas as pd\n",
    "import future\n",
    "\n",
    "df = pd.read_csv(\"synthetic_umbrella_data.csv\") # Creating pandas data frame\n",
    "# print(df.head())\n",
    "X = np.asarray(df.Rainfall)\n",
    "y = np.asarray(df.UmbrellasSold)\n",
    "\n",
    "# Scaling and Normalization of the features are performed \n",
    "def FeatureScalingNormalization(X):\n",
    "# Xnorm is a copy of X vector \n",
    "    Xnorm = X\n",
    "# avgx will the contain average value of x in the training set\n",
    "    avgx = np.zeros(X.shape[0])\n",
    "# rangex will contain the standard deviation values of x \n",
    "    rangex = np.zeros(X.shape[0])\n",
    "    avgx = X.mean()\n",
    "    rangex = X.std(ddof=1) # Calculated with NumPy. It requires degree of freedom = 1\n",
    "# The number of training examples is stored in p \n",
    "    p = X.shape[0]\n",
    "# a vector of size p with the average values of x \n",
    "    avgx_matrix = np.multiply(np.ones(p), avgx).T\n",
    "# a vector of size p with the standard deviation values \n",
    "    rangex_matrix = np.multiply(np.ones(p), rangex).T\n",
    "# Normalization is applied on x values \n",
    "    Xnorm = np.subtract(X, avgx).T\n",
    "    Xnorm = Xnorm /rangex.T \n",
    "    return [Xnorm, avgx, rangex]\n",
    "\n",
    "# featuresNormalizeresults = FeatureScalingNormalization(X) # normalized Xmatrix is obtained\n",
    "# X = np.asarray(featuresNormalizeresults[0]).T # mean values are obtained\n",
    "# avgx = featuresNormalizeresults [1]\n",
    "# # standard deviation values are obtained rangex = featuresNormalizeresults [2]\n",
    "# X\n",
    "# p = len(y) # number of training examples\n",
    "# X = np.vstack((np.ones(p), X.T)).T # Training Examples, column of 1's is added to X\n"
   ]
  },
  {
   "cell_type": "markdown",
   "metadata": {},
   "source": []
  },
  {
   "cell_type": "markdown",
   "metadata": {},
   "source": []
  },
  {
   "cell_type": "code",
   "execution_count": null,
   "metadata": {},
   "outputs": [],
   "source": []
  }
 ],
 "metadata": {
  "kernelspec": {
   "display_name": "base",
   "language": "python",
   "name": "python3"
  },
  "language_info": {
   "codemirror_mode": {
    "name": "ipython",
    "version": 3
   },
   "file_extension": ".py",
   "mimetype": "text/x-python",
   "name": "python",
   "nbconvert_exporter": "python",
   "pygments_lexer": "ipython3",
   "version": "3.11.5"
  }
 },
 "nbformat": 4,
 "nbformat_minor": 2
}
