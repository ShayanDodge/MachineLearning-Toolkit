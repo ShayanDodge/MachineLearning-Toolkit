{
 "cells": [
  {
   "cell_type": "markdown",
   "metadata": {},
   "source": [
    "# The Gradient descent algorithm is implemented in this Python code"
   ]
  },
  {
   "cell_type": "code",
   "execution_count": 6,
   "metadata": {},
   "outputs": [
    {
     "data": {
      "text/plain": [
       "Text(0, 0.5, 'theta')"
      ]
     },
     "execution_count": 6,
     "metadata": {},
     "output_type": "execute_result"
    },
    {
     "data": {
      "image/png": "[encoded data removed]",
      "text/plain": [
       "<Figure size 640x480 with 1 Axes>"
      ]
     },
     "metadata": {},
     "output_type": "display_data"
    }
   ],
   "source": [
    "import numpy as np\n",
    "import matplotlib.pyplot as plt\n",
    "import pandas as pd\n",
    "\n",
    "df = pd.read_csv(\"synthetic_umbrella_data.csv\") # Creating pandas data frame\n",
    "# print(df.head())\n",
    "X = np.asarray(df.Rainfall)\n",
    "X = X.reshape(-1, 1)\n",
    "num_rows, num_columns = X.shape\n",
    "X = np.hstack((X,np.ones((num_rows,1))))\n",
    "\n",
    "y = np.asarray(df.UmbrellasSold)\n",
    "\n",
    "\n",
    "def gradientDescent(X, y, theta, alpha, numiters): # number of training examples\n",
    "    p = len(y)\n",
    "    # Initialize J_history and Theta_history \n",
    "    Jhistory = []\n",
    "    Thetahistory = []\n",
    "    for i in range(numiters):\n",
    "        # Calculate h = X * theta\n",
    "        h = np.sum(np.multiply(X,theta), axis=1) # Calculate the error = (h - y)\n",
    "        error = np.subtract(h, y) # Calculate the new theta\n",
    "        thetanew = alpha * 1/p * np.sum(np.multiply(X.T, error), axis=1)\n",
    "        # Update theta\n",
    "        theta = np.subtract(theta, thetanew) # Collect all the theta and J\n",
    "        Thetahistory.append(theta.tolist())\n",
    "        # Jhistory.append(calcCostFunction(X,y,theta).tolist())\n",
    "    return theta, Thetahistory, Jhistory # Running the Gradient Descent\n",
    "\n",
    "# Initialize theta\n",
    "theta = np.asarray([0,0]).astype(float)\n",
    "# Set the number of iterations for the Gradient Descent \n",
    "iterations = 2000\n",
    "# Set the Learning Rate \n",
    "alpha = 0.01\n",
    "# Run the gradientDescent() function, and collect the output in “results”\n",
    "results = gradientDescent(X, y, theta, alpha, iterations) # Get the theta from the results\n",
    "theta = results[0] # new theta # Get the theta history\n",
    "Thetahistory = results [1] # Theta history # Get the J history\n",
    "Jhistory = results [2] # Cost function history plt.scatter(X[:, [1], y, color='blue')\n",
    "# Plot Hypothesis (theta as calculated with the Gradient Descent)\n",
    "plt.plot(X[:, 0], np.sum(np.multiply(X,theta), axis=1), color='red', linewidth=1)\n",
    "plt.xlabel(\"Rainfall\") \n",
    "plt.ylabel(\"Umbrellas Sold\")\n",
    "\n",
    "theta_0 = np.asarray(Thetahistory)[:,0]\n",
    "theta_1 = np.asarray(Thetahistory)[:, 1]\n",
    "plt.plot(theta_0[0:len(theta_0)], color='red', linewidth=1)\n",
    "plt.plot(theta_1[0:len(theta_1)], color='green', linewidth=1)\n",
    "plt.xlabel(\"Iterations\") \n",
    "plt.ylabel(\"theta\")"
   ]
  }
 ],
 "metadata": {
  "kernelspec": {
   "display_name": "base",
   "language": "python",
   "name": "python3"
  },
  "language_info": {
   "codemirror_mode": {
    "name": "ipython",
    "version": 3
   },
   "file_extension": ".py",
   "mimetype": "text/x-python",
   "name": "python",
   "nbconvert_exporter": "python",
   "pygments_lexer": "ipython3",
   "version": "3.11.5"
  }
 },
 "nbformat": 4,
 "nbformat_minor": 2
}
