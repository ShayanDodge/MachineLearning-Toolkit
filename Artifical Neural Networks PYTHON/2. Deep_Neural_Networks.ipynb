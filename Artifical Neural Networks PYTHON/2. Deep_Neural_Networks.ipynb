{
 "cells": [
  {
   "cell_type": "markdown",
   "metadata": {},
   "source": [
    "# The Vanishing/Exploding Gradients Problems\n",
    " * The vanishing gradients problem occurs when the gradients of the loss function with respect to the parameters become extremely small during backpropagation.\n",
    " * Conversely, the exploding gradients problem arises when the gradients of the loss function grow exponentially as they propagate backward through the layers during backpropagation.\n"
   ]
  },
  {
   "cell_type": "markdown",
   "metadata": {},
   "source": [
    "## Weight Initialization\n",
    " * Proper initialization of network weights can help alleviate both vanishing and exploding gradients problems. \n",
    " * Techniques like __Xavier__ initialization and __He__ initialization are commonly used to ensure that the weights are initialized in a way that keeps the signal propagated through the network."
   ]
  },
  {
   "cell_type": "code",
   "execution_count": 1,
   "metadata": {},
   "outputs": [
    {
     "name": "stdout",
     "output_type": "stream",
     "text": [
      "['Constant', 'GlorotNormal', 'GlorotUniform', 'HeNormal', 'HeUniform', 'Identity', 'Initializer', 'LecunNormal', 'LecunUniform', 'Ones', 'Orthogonal', 'RandomNormal', 'RandomUniform', 'TruncatedNormal', 'VarianceScaling', 'Zeros', 'constant', 'deserialize', 'get', 'glorot_normal', 'glorot_uniform', 'he_normal', 'he_uniform', 'identity', 'lecun_normal', 'lecun_uniform', 'ones', 'orthogonal', 'random_normal', 'random_uniform', 'serialize', 'truncated_normal', 'variance_scaling', 'zeros']\n"
     ]
    }
   ],
   "source": [
    "# Importing essential package\n",
    "import numpy as np\n",
    "import tensorflow as tf\n",
    "from tensorflow import keras\n",
    "\n",
    "# List comprehension to get the names of initializers in Keras without underscores\n",
    "initializer_names = [name for name in dir(keras.initializers) if not name.startswith(\"_\")]\n",
    "\n",
    "# Printing the initializer names\n",
    "print(initializer_names)"
   ]
  },
  {
   "cell_type": "markdown",
   "metadata": {},
   "source": [
    "* Creating a dense layer with built-in initializers"
   ]
  },
  {
   "cell_type": "code",
   "execution_count": 2,
   "metadata": {},
   "outputs": [
    {
     "data": {
      "text/plain": [
       "<keras.layers.core.dense.Dense at 0x21508a35fc0>"
      ]
     },
     "execution_count": 2,
     "metadata": {},
     "output_type": "execute_result"
    }
   ],
   "source": [
    "# Creating a dense layer with 10 units, ReLU activation, and He normal weight initialization\n",
    "keras.layers.Dense(10, activation=\"relu\", kernel_initializer=\"he_normal\")"
   ]
  },
  {
   "cell_type": "markdown",
   "metadata": {},
   "source": [
    "* Defining an initializer with Variance Scaling (custom kernel initializer)"
   ]
  },
  {
   "cell_type": "code",
   "execution_count": 3,
   "metadata": {},
   "outputs": [],
   "source": [
    "# Defining an initializer with Variance Scaling\n",
    "init = keras.initializers.VarianceScaling(scale=2., mode='fan_avg', distribution='uniform')\n",
    "\n",
    "# Creating a dense layer with 10 units, ReLU activation, and custom kernel initializer\n",
    "dense_layer = keras.layers.Dense(10, activation=\"relu\", kernel_initializer=init)"
   ]
  },
  {
   "cell_type": "markdown",
   "metadata": {},
   "source": [
    "## Nonsaturating Activation Functions\n",
    " * Non-saturating activation functions refer to activation functions that do not suffer from the vanishing gradient problem to the same extent as traditional saturating activation functions like sigmoid and tanh. These functions typically have gradients that do not diminish as quickly as the __sigmoid__ or __tanh__ functions for large input values, thereby alleviating the vanishing gradient problem. \n",
    " * One prominent example of a non-saturating activation function is the Rectified Linear Unit (__ReLU__) and its variants."
   ]
  },
  {
   "cell_type": "markdown",
   "metadata": {},
   "source": [
    "1. __Rectified Linear Unit (ReLU):__\n",
    "    * ReLU is a popular activation function in deep learning, defined as __f(x)=max(0,x)__. It outputs zero for negative inputs and passes positive inputs unchanged. \n",
    "    * It's computationally efficient and doesn't suffer from vanishing gradients for positive inputs. However, it may lead to the __\"dying ReLU\"__ problem, causing neurons to become inactive for negative inputs. \n",
    "    * Variants like __Leaky ReLU__, __Parametric ReLU (PReLU)__, and __Exponential Linear Unit (ELU)__ address this issue by allowing a small, non-zero gradient for negative inputs."
   ]
  },
  {
   "cell_type": "code",
   "execution_count": 4,
   "metadata": {},
   "outputs": [
    {
     "data": {
      "text/plain": [
       "['LeakyReLU', 'PReLU', 'ReLU', 'ThresholdedReLU']"
      ]
     },
     "execution_count": 4,
     "metadata": {},
     "output_type": "execute_result"
    }
   ],
   "source": [
    "# Listing ReLU variants in Keras.layers module\n",
    "[m for m in dir(keras.layers) if \"relu\" in m.lower()]"
   ]
  },
  {
   "cell_type": "markdown",
   "metadata": {},
   "source": [
    "2. __Leaky ReLU:__\n",
    "    * Leaky ReLU is an activation function similar to ReLU but with a small, non-zero gradient for negative input values. \n",
    "    * It's defined as __f(x)=max(αx,x)__, where α is a small constant (e.g., 0.01). \n",
    "    * Leaky ReLU addresses the __\"dying ReLU\"__ problem by preventing neurons from becoming inactive for negative inputs during training. It retains the efficiency of ReLU while mitigating its limitations."
   ]
  },
  {
   "cell_type": "code",
   "execution_count": 5,
   "metadata": {},
   "outputs": [
    {
     "name": "stdout",
     "output_type": "stream",
     "text": [
      "Epoch 1/10\n",
      "1719/1719 [==============================] - 3s 1ms/step - loss: 1.2978 - accuracy: 0.6068 - val_loss: 0.8967 - val_accuracy: 0.7060\n",
      "Epoch 2/10\n",
      "1719/1719 [==============================] - 2s 1ms/step - loss: 0.8075 - accuracy: 0.7357 - val_loss: 0.7232 - val_accuracy: 0.7652\n",
      "Epoch 3/10\n",
      "1719/1719 [==============================] - 2s 1ms/step - loss: 0.6918 - accuracy: 0.7753 - val_loss: 0.6534 - val_accuracy: 0.7902\n",
      "Epoch 4/10\n",
      "1719/1719 [==============================] - 2s 1ms/step - loss: 0.6298 - accuracy: 0.7949 - val_loss: 0.5964 - val_accuracy: 0.8092\n",
      "Epoch 5/10\n",
      "1719/1719 [==============================] - 2s 1ms/step - loss: 0.5894 - accuracy: 0.8072 - val_loss: 0.5635 - val_accuracy: 0.8184\n",
      "Epoch 6/10\n",
      "1719/1719 [==============================] - 2s 1ms/step - loss: 0.5605 - accuracy: 0.8145 - val_loss: 0.5393 - val_accuracy: 0.8230\n",
      "Epoch 7/10\n",
      "1719/1719 [==============================] - 2s 1ms/step - loss: 0.5388 - accuracy: 0.8215 - val_loss: 0.5196 - val_accuracy: 0.8300\n",
      "Epoch 8/10\n",
      "1719/1719 [==============================] - 2s 1ms/step - loss: 0.5221 - accuracy: 0.8252 - val_loss: 0.5102 - val_accuracy: 0.8312\n",
      "Epoch 9/10\n",
      "1719/1719 [==============================] - 2s 1ms/step - loss: 0.5086 - accuracy: 0.8283 - val_loss: 0.4937 - val_accuracy: 0.8356\n",
      "Epoch 10/10\n",
      "1719/1719 [==============================] - 2s 1ms/step - loss: 0.4971 - accuracy: 0.8321 - val_loss: 0.4855 - val_accuracy: 0.8396\n"
     ]
    }
   ],
   "source": [
    "# Training a neural network on Fashion MNIST using the Leaky ReLU:\n",
    "\n",
    "# Loading Fashion MNIST dataset and preprocessing\n",
    "(X_train_full, y_train_full), (X_test, y_test) = keras.datasets.fashion_mnist.load_data()\n",
    "X_train_full = X_train_full / 255.0\n",
    "X_test = X_test / 255.0\n",
    "X_valid, X_train = X_train_full[:5000], X_train_full[5000:]\n",
    "y_valid, y_train = y_train_full[:5000], y_train_full[5000:]\n",
    "\n",
    "# Setting random seeds for reproducibility\n",
    "tf.random.set_seed(42)\n",
    "np.random.seed(42)\n",
    "\n",
    "# Defining the neural network model with Leaky ReLU activation\n",
    "model = keras.models.Sequential([\n",
    "    keras.layers.Flatten(input_shape=[28, 28]),\n",
    "    keras.layers.Dense(300, kernel_initializer=\"he_normal\"),\n",
    "    keras.layers.LeakyReLU(),  # Leaky ReLU activation\n",
    "    keras.layers.Dense(100, kernel_initializer=\"he_normal\"),\n",
    "    keras.layers.LeakyReLU(),  # Leaky ReLU activation\n",
    "    keras.layers.Dense(10, activation=\"softmax\")\n",
    "])\n",
    "\n",
    "# Compiling the model\n",
    "model.compile(loss=\"sparse_categorical_crossentropy\",\n",
    "              optimizer=keras.optimizers.SGD(learning_rate=1e-3),\n",
    "              metrics=[\"accuracy\"])\n",
    "\n",
    "# Training the model\n",
    "history = model.fit(X_train, y_train, epochs=10,\n",
    "                    validation_data=(X_valid, y_valid))"
   ]
  },
  {
   "cell_type": "markdown",
   "metadata": {},
   "source": [
    "3. __Parametric ReLU:__\n",
    "    * Parametric ReLU (PReLU) extends Leaky ReLU by allowing the coefficient α to be learned during training rather than fixed. PReLU can adaptively adjust the leakage for negative inputs based on data, potentially improving performance over fixed coefficients."
   ]
  },
  {
   "cell_type": "code",
   "execution_count": 6,
   "metadata": {},
   "outputs": [
    {
     "name": "stdout",
     "output_type": "stream",
     "text": [
      "Epoch 1/10\n",
      "1719/1719 [==============================] - 3s 1ms/step - loss: 1.3262 - accuracy: 0.6042 - val_loss: 0.9065 - val_accuracy: 0.7172\n",
      "Epoch 2/10\n",
      "1719/1719 [==============================] - 2s 1ms/step - loss: 0.8080 - accuracy: 0.7485 - val_loss: 0.7193 - val_accuracy: 0.7750\n",
      "Epoch 3/10\n",
      "1719/1719 [==============================] - 2s 1ms/step - loss: 0.6862 - accuracy: 0.7824 - val_loss: 0.6488 - val_accuracy: 0.7916\n",
      "Epoch 4/10\n",
      "1719/1719 [==============================] - 2s 1ms/step - loss: 0.6243 - accuracy: 0.7981 - val_loss: 0.5920 - val_accuracy: 0.8072\n",
      "Epoch 5/10\n",
      "1719/1719 [==============================] - 2s 1ms/step - loss: 0.5847 - accuracy: 0.8087 - val_loss: 0.5590 - val_accuracy: 0.8202\n",
      "Epoch 6/10\n",
      "1719/1719 [==============================] - 2s 1ms/step - loss: 0.5563 - accuracy: 0.8159 - val_loss: 0.5349 - val_accuracy: 0.8238\n",
      "Epoch 7/10\n",
      "1719/1719 [==============================] - 2s 1ms/step - loss: 0.5347 - accuracy: 0.8215 - val_loss: 0.5152 - val_accuracy: 0.8314\n",
      "Epoch 8/10\n",
      "1719/1719 [==============================] - 2s 1ms/step - loss: 0.5180 - accuracy: 0.8262 - val_loss: 0.5063 - val_accuracy: 0.8324\n",
      "Epoch 9/10\n",
      "1719/1719 [==============================] - 2s 1ms/step - loss: 0.5044 - accuracy: 0.8295 - val_loss: 0.4896 - val_accuracy: 0.8382\n",
      "Epoch 10/10\n",
      "1719/1719 [==============================] - 2s 1ms/step - loss: 0.4928 - accuracy: 0.8326 - val_loss: 0.4806 - val_accuracy: 0.8398\n"
     ]
    }
   ],
   "source": [
    "# Training a neural network on Fashion MNIST using the Leaky PReLU:\n",
    "\n",
    "# Loading Fashion MNIST dataset and preprocessing\n",
    "(X_train_full, y_train_full), (X_test, y_test) = keras.datasets.fashion_mnist.load_data()\n",
    "X_train_full = X_train_full / 255.0\n",
    "X_test = X_test / 255.0\n",
    "X_valid, X_train = X_train_full[:5000], X_train_full[5000:]\n",
    "y_valid, y_train = y_train_full[:5000], y_train_full[5000:]\n",
    "\n",
    "# Setting random seeds for reproducibility\n",
    "tf.random.set_seed(42)\n",
    "np.random.seed(42)\n",
    "\n",
    "# Defining the neural network model with Leaky ReLU activation\n",
    "model = keras.models.Sequential([\n",
    "    keras.layers.Flatten(input_shape=[28, 28]),\n",
    "    keras.layers.Dense(300, kernel_initializer=\"he_normal\"),\n",
    "    keras.layers.PReLU(),\n",
    "    keras.layers.Dense(100, kernel_initializer=\"he_normal\"),\n",
    "    keras.layers.PReLU(),\n",
    "    keras.layers.Dense(10, activation=\"softmax\")\n",
    "])\n",
    "\n",
    "# Compiling the model\n",
    "model.compile(loss=\"sparse_categorical_crossentropy\",\n",
    "              optimizer=keras.optimizers.SGD(learning_rate=1e-3),\n",
    "              metrics=[\"accuracy\"])\n",
    "\n",
    "# Training the model\n",
    "history = model.fit(X_train, y_train, epochs=10,\n",
    "                    validation_data=(X_valid, y_valid))"
   ]
  },
  {
   "cell_type": "markdown",
   "metadata": {},
   "source": [
    "4. __Exponential Linear Unit (ELU):__\n",
    "    * ELU is defined as f(x)=x if x≥0 and f(x)=α(e^x−1) if x<0, where α is a small positive constant.\n",
    "    * ELU behaves similarly to ReLU for positive input values but has a smooth curve for negative input values, allowing it to handle negative inputs more gracefully than ReLU. \n",
    "    * ELU also prevents the \"dying ReLU\" problem by ensuring a non-zero gradient for all inputs."
   ]
  },
  {
   "cell_type": "code",
   "execution_count": 7,
   "metadata": {},
   "outputs": [
    {
     "name": "stdout",
     "output_type": "stream",
     "text": [
      "Epoch 1/10\n",
      "1719/1719 [==============================] - 3s 1ms/step - loss: 1.1310 - accuracy: 0.6511 - val_loss: 0.7896 - val_accuracy: 0.7516\n",
      "Epoch 2/10\n",
      "1719/1719 [==============================] - 2s 1ms/step - loss: 0.7255 - accuracy: 0.7628 - val_loss: 0.6542 - val_accuracy: 0.7876\n",
      "Epoch 3/10\n",
      "1719/1719 [==============================] - 2s 1ms/step - loss: 0.6351 - accuracy: 0.7887 - val_loss: 0.5997 - val_accuracy: 0.7978\n",
      "Epoch 4/10\n",
      "1719/1719 [==============================] - 2s 1ms/step - loss: 0.5868 - accuracy: 0.8029 - val_loss: 0.5565 - val_accuracy: 0.8130\n",
      "Epoch 5/10\n",
      "1719/1719 [==============================] - 2s 1ms/step - loss: 0.5557 - accuracy: 0.8117 - val_loss: 0.5314 - val_accuracy: 0.8196\n",
      "Epoch 6/10\n",
      "1719/1719 [==============================] - 2s 1ms/step - loss: 0.5335 - accuracy: 0.8185 - val_loss: 0.5125 - val_accuracy: 0.8232\n",
      "Epoch 7/10\n",
      "1719/1719 [==============================] - 2s 1ms/step - loss: 0.5166 - accuracy: 0.8231 - val_loss: 0.4971 - val_accuracy: 0.8304\n",
      "Epoch 8/10\n",
      "1719/1719 [==============================] - 2s 1ms/step - loss: 0.5035 - accuracy: 0.8271 - val_loss: 0.4906 - val_accuracy: 0.8332\n",
      "Epoch 9/10\n",
      "1719/1719 [==============================] - 2s 1ms/step - loss: 0.4929 - accuracy: 0.8298 - val_loss: 0.4772 - val_accuracy: 0.8398\n",
      "Epoch 10/10\n",
      "1719/1719 [==============================] - 2s 1ms/step - loss: 0.4837 - accuracy: 0.8329 - val_loss: 0.4708 - val_accuracy: 0.8396\n"
     ]
    }
   ],
   "source": [
    "# Training a neural network on Fashion MNIST using the Leaky PReLU:\n",
    "\n",
    "# Loading Fashion MNIST dataset and preprocessing\n",
    "(X_train_full, y_train_full), (X_test, y_test) = keras.datasets.fashion_mnist.load_data()\n",
    "X_train_full = X_train_full / 255.0\n",
    "X_test = X_test / 255.0\n",
    "X_valid, X_train = X_train_full[:5000], X_train_full[5000:]\n",
    "y_valid, y_train = y_train_full[:5000], y_train_full[5000:]\n",
    "\n",
    "# Setting random seeds for reproducibility\n",
    "tf.random.set_seed(42)\n",
    "np.random.seed(42)\n",
    "\n",
    "# Defining the neural network model with Leaky ReLU activation\n",
    "model = keras.models.Sequential([\n",
    "    keras.layers.Flatten(input_shape=[28, 28]),\n",
    "    keras.layers.Dense(300, kernel_initializer=\"he_normal\", activation=\"elu\"),\n",
    "    keras.layers.Dense(100, kernel_initializer=\"he_normal\", activation=\"elu\"),\n",
    "    keras.layers.Dense(10, activation=\"softmax\")\n",
    "])\n",
    "\n",
    "# Compiling the model\n",
    "model.compile(loss=\"sparse_categorical_crossentropy\",\n",
    "              optimizer=keras.optimizers.SGD(learning_rate=1e-3),\n",
    "              metrics=[\"accuracy\"])\n",
    "\n",
    "# Training the model\n",
    "history = model.fit(X_train, y_train, epochs=10,\n",
    "                    validation_data=(X_valid, y_valid))"
   ]
  },
  {
   "cell_type": "markdown",
   "metadata": {},
   "source": [
    "5. __Scaled Exponential Linear Unit (SELU):__\n",
    "    * It's an activation function introduced to address the vanishing/exploding gradient problem while promoting self-normalizing properties in neural networks.\n",
    "    * SELU has a self-normalizing property, meaning the output distribution remains close to mean 0 and standard deviation 1, which helps stabilize training.\n",
    "    * It overcomes the vanishing/exploding gradient problem by promoting stable mean and variance propagation through the network.\n",
    "    * It has an exponential component for negative inputs, ensuring non-zero gradients, thus avoiding the \"dying ReLU\" problem.\n",
    "    * SELU is specifically designed for feedforward neural networks, and its performance may vary depending on the architecture and hyperparameters."
   ]
  },
  {
   "cell_type": "code",
   "execution_count": 8,
   "metadata": {},
   "outputs": [
    {
     "name": "stdout",
     "output_type": "stream",
     "text": [
      "Epoch 1/5\n",
      "1719/1719 [==============================] - 35s 19ms/step - loss: 1.0850 - accuracy: 0.6019 - val_loss: 0.8538 - val_accuracy: 0.6564\n",
      "Epoch 2/5\n",
      "1719/1719 [==============================] - 33s 19ms/step - loss: 0.7006 - accuracy: 0.7464 - val_loss: 0.6544 - val_accuracy: 0.7588\n",
      "Epoch 3/5\n",
      "1719/1719 [==============================] - 33s 19ms/step - loss: 0.6123 - accuracy: 0.7792 - val_loss: 0.6300 - val_accuracy: 0.7662\n",
      "Epoch 4/5\n",
      "1719/1719 [==============================] - 32s 18ms/step - loss: 0.5253 - accuracy: 0.8153 - val_loss: 0.4889 - val_accuracy: 0.8274\n",
      "Epoch 5/5\n",
      "1719/1719 [==============================] - 32s 18ms/step - loss: 0.4778 - accuracy: 0.8337 - val_loss: 0.4566 - val_accuracy: 0.8402\n"
     ]
    }
   ],
   "source": [
    "# Training a neural network on Fashion MNIST using the Leaky SeLU:\n",
    "\n",
    "# Loading Fashion MNIST dataset and preprocessing\n",
    "(X_train_full, y_train_full), (X_test, y_test) = keras.datasets.fashion_mnist.load_data()\n",
    "# Scaling pixel values to the range [0, 1]\n",
    "X_train_full = X_train_full / 255.0\n",
    "X_test = X_test / 255.0\n",
    "# Splitting training set into validation and training subsets\n",
    "X_valid, X_train = X_train_full[:5000], X_train_full[5000:]\n",
    "y_valid, y_train = y_train_full[:5000], y_train_full[5000:]\n",
    "\n",
    "# Calculating mean and standard deviation of training pixel values\n",
    "pixel_means = X_train.mean(axis=0, keepdims=True)\n",
    "pixel_stds = X_train.std(axis=0, keepdims=True)\n",
    "# Standardizing the input features using mean and standard deviation\n",
    "X_train_scaled = (X_train - pixel_means) / pixel_stds\n",
    "X_valid_scaled = (X_valid - pixel_means) / pixel_stds\n",
    "X_test_scaled = (X_test - pixel_means) / pixel_stds\n",
    "\n",
    "# Setting random seeds for reproducibility\n",
    "tf.random.set_seed(42)\n",
    "np.random.seed(42)\n",
    "\n",
    "# Constructing the neural network model with SELU activation\n",
    "model = keras.models.Sequential()\n",
    "model.add(keras.layers.Flatten(input_shape=[28, 28]))\n",
    "model.add(keras.layers.Dense(300, activation=\"selu\", kernel_initializer=\"lecun_normal\"))\n",
    "# Adding 99 hidden layers with SELU activation\n",
    "for layer in range(99):\n",
    "    model.add(keras.layers.Dense(100, activation=\"selu\", kernel_initializer=\"lecun_normal\"))\n",
    "# Adding output layer with softmax activation for 10 classes\n",
    "model.add(keras.layers.Dense(10, activation=\"softmax\"))\n",
    "\n",
    "# Compiling the model with sparse categorical crossentropy loss and SGD optimizer\n",
    "model.compile(loss=\"sparse_categorical_crossentropy\",\n",
    "              optimizer=keras.optimizers.SGD(learning_rate=1e-3),\n",
    "              metrics=[\"accuracy\"])\n",
    "\n",
    "# Training the model on scaled training data for 5 epochs with validation data for monitoring\n",
    "history = model.fit(X_train_scaled, y_train, epochs=5,\n",
    "                    validation_data=(X_valid_scaled, y_valid))"
   ]
  },
  {
   "cell_type": "markdown",
   "metadata": {},
   "source": [
    "## Batch Normalization\n",
    " * Batch Normalization is a technique used in deep learning to enhance the training process of neural networks. \n",
    " * This means that it adjusts the activations of each layer so that they have a mean of zero and a standard deviation of one. By doing this normalization, Batch Normalization helps to stabilize the training process and improve the speed at which neural networks converge to an optimal solution.\n",
    "\n",
    " * Batch Normalization has become a standard technique in deep learning because it contributes to __faster training__, __improved model performance__, and __greater stability__ during the training process."
   ]
  },
  {
   "cell_type": "code",
   "execution_count": 9,
   "metadata": {},
   "outputs": [
    {
     "name": "stdout",
     "output_type": "stream",
     "text": [
      "Epoch 1/10\n",
      "1719/1719 [==============================] - 4s 2ms/step - loss: 0.8462 - accuracy: 0.7177 - val_loss: 0.5596 - val_accuracy: 0.8154\n",
      "Epoch 2/10\n",
      "1719/1719 [==============================] - 3s 2ms/step - loss: 0.5704 - accuracy: 0.8022 - val_loss: 0.4794 - val_accuracy: 0.8402\n",
      "Epoch 3/10\n",
      "1719/1719 [==============================] - 3s 2ms/step - loss: 0.5144 - accuracy: 0.8209 - val_loss: 0.4433 - val_accuracy: 0.8552\n",
      "Epoch 4/10\n",
      "1719/1719 [==============================] - 3s 2ms/step - loss: 0.4780 - accuracy: 0.8334 - val_loss: 0.4224 - val_accuracy: 0.8576\n",
      "Epoch 5/10\n",
      "1719/1719 [==============================] - 3s 2ms/step - loss: 0.4513 - accuracy: 0.8423 - val_loss: 0.4075 - val_accuracy: 0.8640\n",
      "Epoch 6/10\n",
      "1719/1719 [==============================] - 3s 2ms/step - loss: 0.4357 - accuracy: 0.8462 - val_loss: 0.3965 - val_accuracy: 0.8680\n",
      "Epoch 7/10\n",
      "1719/1719 [==============================] - 3s 2ms/step - loss: 0.4234 - accuracy: 0.8505 - val_loss: 0.3860 - val_accuracy: 0.8682\n",
      "Epoch 8/10\n",
      "1719/1719 [==============================] - 3s 2ms/step - loss: 0.4100 - accuracy: 0.8556 - val_loss: 0.3811 - val_accuracy: 0.8748\n",
      "Epoch 9/10\n",
      "1719/1719 [==============================] - 3s 2ms/step - loss: 0.4010 - accuracy: 0.8579 - val_loss: 0.3743 - val_accuracy: 0.8736\n",
      "Epoch 10/10\n",
      "1719/1719 [==============================] - 3s 2ms/step - loss: 0.3902 - accuracy: 0.8629 - val_loss: 0.3689 - val_accuracy: 0.8780\n"
     ]
    }
   ],
   "source": [
    "# Training a neural network on Fashion MNIST using the Batch Normalization:\n",
    "\n",
    "# Loading Fashion MNIST dataset and preprocessing\n",
    "(X_train_full, y_train_full), (X_test, y_test) = keras.datasets.fashion_mnist.load_data()\n",
    "# Scaling pixel values to the range [0, 1]\n",
    "X_train_full = X_train_full / 255.0\n",
    "X_test = X_test / 255.0\n",
    "# Splitting training set into validation and training subsets\n",
    "X_valid, X_train = X_train_full[:5000], X_train_full[5000:]\n",
    "y_valid, y_train = y_train_full[:5000], y_train_full[5000:]\n",
    "\n",
    "\n",
    "# Setting random seeds for reproducibility\n",
    "tf.random.set_seed(42)\n",
    "np.random.seed(42)\n",
    "\n",
    "# Define a Sequential model\n",
    "model = keras.models.Sequential([\n",
    "    # Flatten layer to convert 2D input into 1D\n",
    "    keras.layers.Flatten(input_shape=[28, 28]),\n",
    "    # BatchNormalization layer applied after the Flatten layer\n",
    "    keras.layers.BatchNormalization(),\n",
    "    # Dense layer with 300 neurons and ReLU activation function\n",
    "    keras.layers.Dense(300, activation=\"relu\"),\n",
    "    # BatchNormalization layer applied after the first Dense layer\n",
    "    keras.layers.BatchNormalization(),\n",
    "    # Dense layer with 100 neurons and ReLU activation function\n",
    "    keras.layers.Dense(100, activation=\"relu\"),\n",
    "    # BatchNormalization layer applied after the second Dense layer\n",
    "    keras.layers.BatchNormalization(),\n",
    "    # Dense layer with 10 neurons and softmax activation function for classification\n",
    "    keras.layers.Dense(10, activation=\"softmax\")\n",
    "])\n",
    "\n",
    "# Compiling the model with sparse categorical crossentropy loss and SGD optimizer\n",
    "model.compile(loss=\"sparse_categorical_crossentropy\",\n",
    "              optimizer=keras.optimizers.SGD(learning_rate=1e-3),\n",
    "              metrics=[\"accuracy\"])\n",
    "\n",
    "# Training the model on training data for 10 epochs with validation data for monitoring\n",
    "history = model.fit(X_train, y_train, epochs=10,\n",
    "                    validation_data=(X_valid, y_valid))"
   ]
  },
  {
   "cell_type": "code",
   "execution_count": 10,
   "metadata": {},
   "outputs": [
    {
     "name": "stdout",
     "output_type": "stream",
     "text": [
      "Model: \"sequential_4\"\n",
      "_________________________________________________________________\n",
      " Layer (type)                Output Shape              Param #   \n",
      "=================================================================\n",
      " flatten_4 (Flatten)         (None, 784)               0         \n",
      "                                                                 \n",
      " batch_normalization (BatchN  (None, 784)              3136      \n",
      " ormalization)                                                   \n",
      "                                                                 \n",
      " dense_112 (Dense)           (None, 300)               235500    \n",
      "                                                                 \n",
      " batch_normalization_1 (Batc  (None, 300)              1200      \n",
      " hNormalization)                                                 \n",
      "                                                                 \n",
      " dense_113 (Dense)           (None, 100)               30100     \n",
      "                                                                 \n",
      " batch_normalization_2 (Batc  (None, 100)              400       \n",
      " hNormalization)                                                 \n",
      "                                                                 \n",
      " dense_114 (Dense)           (None, 10)                1010      \n",
      "                                                                 \n",
      "=================================================================\n",
      "Total params: 271,346\n",
      "Trainable params: 268,978\n",
      "Non-trainable params: 2,368\n",
      "_________________________________________________________________\n"
     ]
    }
   ],
   "source": [
    "# Display a summary of the model architecture\n",
    "model.summary()"
   ]
  },
  {
   "cell_type": "code",
   "execution_count": 11,
   "metadata": {},
   "outputs": [
    {
     "data": {
      "text/plain": [
       "[('batch_normalization/gamma:0', True),\n",
       " ('batch_normalization/beta:0', True),\n",
       " ('batch_normalization/moving_mean:0', False),\n",
       " ('batch_normalization/moving_variance:0', False)]"
      ]
     },
     "execution_count": 11,
     "metadata": {},
     "output_type": "execute_result"
    }
   ],
   "source": [
    "# Retrieve the BatchNormalization layer after the first layer in the model\n",
    "bn1 = model.layers[1]\n",
    "\n",
    "# List the names and trainability of the variables in the BatchNormalization layer\n",
    "# This can be useful for inspecting the variables of the BatchNormalization layer\n",
    "[(var.name, var.trainable) for var in bn1.variables]"
   ]
  },
  {
   "cell_type": "markdown",
   "metadata": {},
   "source": [
    "### Batch Normalization: Before or After Activation?\n",
    "* Applying Batch Normalization (BN) __before__ the __activation function__ is a debated topic in deep learning. While sometimes it yields __better results__, it's subject to discussion. Additionally, it's common practice to omit bias terms in layers preceding BatchNormalization. Since BatchNormalization introduces its own bias parameters, setting __use_bias=False__ for these preceding layers avoids redundant parameters and optimizes model efficiency."
   ]
  },
  {
   "cell_type": "code",
   "execution_count": 12,
   "metadata": {},
   "outputs": [
    {
     "name": "stdout",
     "output_type": "stream",
     "text": [
      "Epoch 1/10\n",
      "1719/1719 [==============================] - 3s 2ms/step - loss: 1.0782 - accuracy: 0.6634 - val_loss: 0.6911 - val_accuracy: 0.7852\n",
      "Epoch 2/10\n",
      "1719/1719 [==============================] - 3s 2ms/step - loss: 0.6859 - accuracy: 0.7807 - val_loss: 0.5655 - val_accuracy: 0.8170\n",
      "Epoch 3/10\n",
      "1719/1719 [==============================] - 3s 2ms/step - loss: 0.6011 - accuracy: 0.8015 - val_loss: 0.5091 - val_accuracy: 0.8334\n",
      "Epoch 4/10\n",
      "1719/1719 [==============================] - 3s 2ms/step - loss: 0.5479 - accuracy: 0.8163 - val_loss: 0.4747 - val_accuracy: 0.8430\n",
      "Epoch 5/10\n",
      "1719/1719 [==============================] - 3s 2ms/step - loss: 0.5158 - accuracy: 0.8252 - val_loss: 0.4524 - val_accuracy: 0.8482\n",
      "Epoch 6/10\n",
      "1719/1719 [==============================] - 3s 2ms/step - loss: 0.4926 - accuracy: 0.8313 - val_loss: 0.4344 - val_accuracy: 0.8556\n",
      "Epoch 7/10\n",
      "1719/1719 [==============================] - 3s 2ms/step - loss: 0.4754 - accuracy: 0.8370 - val_loss: 0.4198 - val_accuracy: 0.8580\n",
      "Epoch 8/10\n",
      "1719/1719 [==============================] - 3s 2ms/step - loss: 0.4607 - accuracy: 0.8415 - val_loss: 0.4094 - val_accuracy: 0.8624\n",
      "Epoch 9/10\n",
      "1719/1719 [==============================] - 3s 2ms/step - loss: 0.4478 - accuracy: 0.8460 - val_loss: 0.4000 - val_accuracy: 0.8664\n",
      "Epoch 10/10\n",
      "1719/1719 [==============================] - 3s 2ms/step - loss: 0.4362 - accuracy: 0.8484 - val_loss: 0.3915 - val_accuracy: 0.8672\n"
     ]
    }
   ],
   "source": [
    "# Training a neural network on Fashion MNIST using the Batch Normalization before the activation function:\n",
    "\n",
    "# Loading Fashion MNIST dataset and preprocessing\n",
    "(X_train_full, y_train_full), (X_test, y_test) = keras.datasets.fashion_mnist.load_data()\n",
    "# Scaling pixel values to the range [0, 1]\n",
    "X_train_full = X_train_full / 255.0\n",
    "X_test = X_test / 255.0\n",
    "# Splitting training set into validation and training subsets\n",
    "X_valid, X_train = X_train_full[:5000], X_train_full[5000:]\n",
    "y_valid, y_train = y_train_full[:5000], y_train_full[5000:]\n",
    "\n",
    "\n",
    "# Setting random seeds for reproducibility\n",
    "tf.random.set_seed(42)\n",
    "np.random.seed(42)\n",
    "\n",
    "# Define a Sequential model\n",
    "model = keras.models.Sequential([\n",
    "    # Flatten layer to convert 2D input into 1D\n",
    "    keras.layers.Flatten(input_shape=[28, 28]),\n",
    "    # BatchNormalization layer applied before the activation function\n",
    "    keras.layers.BatchNormalization(),\n",
    "    # Dense layer with 300 neurons and no bias term\n",
    "    keras.layers.Dense(300, use_bias=False),\n",
    "    # BatchNormalization layer applied before the activation function\n",
    "    keras.layers.BatchNormalization(),\n",
    "    # Activation function ReLU applied\n",
    "    keras.layers.Activation(\"relu\"), \n",
    "    # Dense layer with 100 neurons and no bias term\n",
    "    keras.layers.Dense(100, use_bias=False),\n",
    "    # BatchNormalization layer applied before the activation function\n",
    "    keras.layers.BatchNormalization(),\n",
    "    # Activation function ReLU applied\n",
    "    keras.layers.Activation(\"relu\"),\n",
    "    # Dense layer with 10 neurons and softmax activation function for classification\n",
    "    keras.layers.Dense(10, activation=\"softmax\")\n",
    "])\n",
    "\n",
    "# Compiling the model with sparse categorical crossentropy loss and SGD optimizer\n",
    "model.compile(loss=\"sparse_categorical_crossentropy\",\n",
    "              optimizer=keras.optimizers.SGD(learning_rate=1e-3),\n",
    "              metrics=[\"accuracy\"])\n",
    "\n",
    "# Training the model on training data for 10 epochs with validation data for monitoring\n",
    "history = model.fit(X_train, y_train, epochs=10,\n",
    "                    validation_data=(X_valid, y_valid))"
   ]
  },
  {
   "cell_type": "markdown",
   "metadata": {},
   "source": [
    "## Gradient Clipping\n",
    " * Gradient clipping addresses exploding gradients problem by imposing a constraint on the gradients during training. Specifically, it involves scaling the gradients if their norm exceeds a certain threshold.\n",
    " \n",
    " \n",
    " * __Gradient Clipping With clipvalue__: Each component of the gradient vector is individually scaled if it falls outside a specified range. This technique restricts the magnitude of each gradient component without necessarily preserving the overall direction of the gradient vector.\n",
    " \n",
    " * __Gradient Clipping With clipnorm__: The entire gradient vector is scaled down if its norm exceeds a specified threshold. This ensures that the direction of the gradient vector is preserved while preventing it from becoming too large.\n",
    "\n",
    "  * If you want to ensure that Gradient Clipping does not change the direction of the gradient vector, you should clip by norm by setting clipnorm instead of clipvalue.\n",
    "\n",
    " * Gradient clipping is commonly used in recurrent neural networks (RNNs) because Batch Normalization (BN) is difficult to implement in RNNs. However, for other network types, like feedforward or convolutional neural networks (CNNs), Batch Normalization is usually sufficient.\n"
   ]
  },
  {
   "cell_type": "code",
   "execution_count": 13,
   "metadata": {},
   "outputs": [],
   "source": [
    "# Set optimizer with gradient clipping by clipvalue\n",
    "optimizer = keras.optimizers.SGD(clipvalue=1.0)\n",
    "\n",
    "# Set optimizer with gradient clipping by clipnorm\n",
    "optimizer = keras.optimizers.SGD(clipnorm=1.0)"
   ]
  },
  {
   "cell_type": "markdown",
   "metadata": {},
   "source": [
    "## Reusing Pretrained Layers\n",
    "* Reusing pretrained layers, often referred to as transfer learning, is a common technique in machine learning where a model trained on one task is adapted for use on a new, related task. \n",
    "* This approach is particularly effective when the pretrained model has been trained on a large dataset, as it has learned general features that can be useful for other tasks."
   ]
  },
  {
   "cell_type": "markdown",
   "metadata": {},
   "source": [
    "Let's split the fashion MNIST training set in two:\n",
    "* `X_train_A`: all images of all items except for sandals and shirts (classes 5 and 6).\n",
    "* `X_train_B`: a much smaller training set of just the first 200 images of sandals or shirts.\n",
    "\n",
    "The validation set and the test set are also split this way, but without restricting the number of images.\n",
    "\n",
    "We will train a model on set A (classification task with 8 classes), and try to reuse it to tackle set B (binary classification). We hope to transfer a little bit of knowledge from task A to task B, since classes in set A (sneakers, ankle boots, coats, t-shirts, etc.) are somewhat similar to classes in set B (sandals and shirts). However, since we are using `Dense` layers, only patterns that occur at the same location can be reused (in contrast, convolutional layers will transfer much better, since learned patterns can be detected anywhere on the image, as we will see in the CNN chapter)."
   ]
  },
  {
   "cell_type": "code",
   "execution_count": 22,
   "metadata": {},
   "outputs": [],
   "source": [
    "# Training a neural network on Fashion MNIST using pretrained layers:\n",
    "\n",
    "# Loading Fashion MNIST dataset and preprocessing\n",
    "(X_train_full, y_train_full), (X_test, y_test) = keras.datasets.fashion_mnist.load_data()\n",
    "\n",
    "# Scaling pixel values to the range [0, 1]\n",
    "X_train_full = X_train_full / 255.0\n",
    "X_test = X_test / 255.0\n",
    "\n",
    "# Splitting training set into validation and training subsets\n",
    "X_valid, X_train = X_train_full[:5000], X_train_full[5000:]\n",
    "y_valid, y_train = y_train_full[:5000], y_train_full[5000:]\n",
    "\n",
    "def split_dataset(X, y):\n",
    "\n",
    "    # Creating masks for classes 5 (sandals) and 6 (shirts)\n",
    "    y_5_or_6 = (y == 5) | (y == 6)\n",
    "    # Subsetting dataset into classes A (excluding classes 5 and 6) and B (only classes 5 and 6)\n",
    "    y_A = y[~y_5_or_6]\n",
    "    # Adjusting class indices for class A to maintain continuity\n",
    "    y_A[y_A > 6] -= 2  # class indices 7, 8, 9 should be moved to 5, 6, 7\n",
    "    # For class B, creating a binary classification task: 1 for shirts (class 6), 0 otherwise\n",
    "    y_B = (y[y_5_or_6] == 6).astype(np.float32)\n",
    "    \n",
    "    return ((X[~y_5_or_6], y_A), (X[y_5_or_6], y_B))\n",
    "\n",
    "# Splitting datasets into subsets for classes A and B\n",
    "(X_train_A, y_train_A), (X_train_B, y_train_B) = split_dataset(X_train, y_train)\n",
    "(X_valid_A, y_valid_A), (X_valid_B, y_valid_B) = split_dataset(X_valid, y_valid)\n",
    "(X_test_A, y_test_A), (X_test_B, y_test_B) = split_dataset(X_test, y_test)\n",
    "\n",
    "# Limiting class B training set to 200 samples for efficiency\n",
    "X_train_B = X_train_B[:200]\n",
    "y_train_B = y_train_B[:200]\n"
   ]
  }
 ],
 "metadata": {
  "kernelspec": {
   "display_name": "tf",
   "language": "python",
   "name": "python3"
  },
  "language_info": {
   "codemirror_mode": {
    "name": "ipython",
    "version": 3
   },
   "file_extension": ".py",
   "mimetype": "text/x-python",
   "name": "python",
   "nbconvert_exporter": "python",
   "pygments_lexer": "ipython3",
   "version": "3.10.13"
  }
 },
 "nbformat": 4,
 "nbformat_minor": 2
}
