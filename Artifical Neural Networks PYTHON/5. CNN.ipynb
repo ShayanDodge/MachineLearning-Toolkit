{
 "cells": [
  {
   "cell_type": "markdown",
   "metadata": {},
   "source": [
    "# Convolutional layer\n",
    "\n",
    "The convolutional layer is the key component of a CNN. \n",
    "\n",
    "* Unlike previous layers, neurons in the first convolutional layer are connected only to pixels within their receptive fields, not to every pixel in the input image. Neurons in subsequent layers are connected to a small rectangle of neurons in the preceding layer. \n",
    "\n",
    "* This hierarchical architecture enables the network to focus on small low-level features initially, gradually assembling them into larger higher-level features in subsequent layers. \n",
    "\n",
    "* This hierarchical structure mirrors real-world images, making CNNs highly effective for image recognition."
   ]
  },
  {
   "cell_type": "markdown",
   "metadata": {},
   "source": [
    "   Input Image         Convolutional Layer 1        Convolutional Layer 2\n",
    "+-------------+           +-------------+             +-------------+\n",
    "|             |           |             |             |             |\n",
    "|   Neurons   |           |   Neurons   |             |   Neurons   |\n",
    "|   connected |           |   connected |             |   connected |\n",
    "|     to      |           |     to      |             |     to      |\n",
    "|   pixels    |           |   small     |             |   small     |\n",
    "|     in      |           |  rectangle  |             |  rectangle  |\n",
    "| receptive   |           | in previous |             | in previous |\n",
    "|   fields    |           |    layer    |             |    layer    |\n",
    "|             |           |             |             |             |\n",
    "+-------------+           +-------------+             +-------------+"
   ]
  },
  {
   "cell_type": "markdown",
   "metadata": {},
   "source": [
    "  **Zero Padding:** A neuron positioned at row $i$, column $j$ within a specific layer receives inputs from neurons in the previous layer situated in rows $i$ to $i + f_h – 1$, and columns $j$ to $j + f_w – 1$. Here, $f$ represents the height and width of the receptive field. To maintain **consistency in layer dimensions** with the preceding layer, it's typical to append zeros around the inputs, as depicted in the diagram. This practice is commonly referred to as **zero padding**."
   ]
  },
  {
   "cell_type": "markdown",
   "metadata": {},
   "source": [
    "Neurons in Layer (i, j):        \n",
    "+---+---+---+\n",
    "|   |   |   |    \n",
    "+---+---+---+\n",
    "|   |   |   |    \n",
    "+---+---+---+\n",
    "|   |   |   |    \n",
    "+---+---+---+\n",
    "\n",
    "Layer (i, j) with Padding:\n",
    "+---+---+---+---+---+\n",
    "| 0 | 0 | 0 | 0 | 0 |\n",
    "+---+---+---+---+---+\n",
    "| 0 |   |   |   | 0 |\n",
    "+---+---+---+---+---+\n",
    "| 0 |   |   |   | 0 |\n",
    "+---+---+---+---+---+\n",
    "| 0 |   |   |   | 0 |\n",
    "+---+---+---+---+---+\n",
    "| 0 | 0 | 0 | 0 | 0 |\n",
    "+---+---+---+---+---+"
   ]
  },
  {
   "cell_type": "markdown",
   "metadata": {},
   "source": []
  },
  {
   "cell_type": "code",
   "execution_count": null,
   "metadata": {},
   "outputs": [],
   "source": []
  }
 ],
 "metadata": {
  "kernelspec": {
   "display_name": "ml",
   "language": "python",
   "name": "python3"
  },
  "language_info": {
   "codemirror_mode": {
    "name": "ipython",
    "version": 3
   },
   "file_extension": ".py",
   "mimetype": "text/x-python",
   "name": "python",
   "nbconvert_exporter": "python",
   "pygments_lexer": "ipython3",
   "version": "3.10.8"
  }
 },
 "nbformat": 4,
 "nbformat_minor": 2
}
