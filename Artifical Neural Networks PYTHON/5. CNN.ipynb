{
 "cells": [
  {
   "cell_type": "markdown",
   "metadata": {},
   "source": [
    "## Essential Functions"
   ]
  },
  {
   "cell_type": "code",
   "execution_count": 24,
   "metadata": {},
   "outputs": [],
   "source": [
    "# _____________________________________________________________________________________________________\n",
    "# Function to plot a grayscale image\n",
    "def plot_image(image):\n",
    "    \"\"\"\n",
    "    Plot a grayscale image.\n",
    "\n",
    "    Args:\n",
    "    image (numpy.ndarray): The input image array.\n",
    "    \"\"\"\n",
    "    plt.imshow(image, cmap=\"gray\", interpolation=\"nearest\")\n",
    "    plt.axis(\"off\")\n",
    "# _____________________________________________________________________________________________________\n",
    "# Function to plot a color image\n",
    "def plot_color_image(image):\n",
    "    \"\"\"\n",
    "    Plot a color image.\n",
    "\n",
    "    Args:\n",
    "    image (numpy.ndarray): The input color image array.\n",
    "    \"\"\"\n",
    "    plt.imshow(image, interpolation=\"nearest\")\n",
    "    plt.axis(\"off\")\n",
    "# _____________________________________________________________________________________________________\n",
    "# Function to save the current figure.\n",
    "import os # Importing the os module for operating system related functions\n",
    "# Define the directory structure for saving figures\n",
    "PROJECT_ROOT_DIR = \".\" # Define the project's root directory\n",
    "CHAPTER_ID = \"cnn\" # Define the chapter ID (or directory name) for organization\n",
    "IMAGES_PATH = os.path.join(PROJECT_ROOT_DIR, \"images\", CHAPTER_ID) # Define the path where images will be saved by joining the project root, \"images\", and chapter ID\n",
    "os.makedirs(IMAGES_PATH, exist_ok=True)# Create the directory specified by IMAGES_PATH if it doesn't already exist\n",
    "\n",
    "def save_fig(fig_id, tight_layout=True, fig_extension=\"png\", resolution=300):\n",
    "    \"\"\"\n",
    "    Save the current figure.\n",
    "\n",
    "    Args:\n",
    "    fig_id (str): The filename (without extension) to save the figure as.\n",
    "    tight_layout (bool, optional): Whether to apply tight layout. Default is True.\n",
    "    fig_extension (str, optional): The file extension of the saved figure. Default is \"png\".\n",
    "    resolution (int, optional): The resolution of the saved figure. Default is 300.\n",
    "    \"\"\"\n",
    "    # Construct the full path for saving the figure\n",
    "    path = os.path.join(IMAGES_PATH, fig_id + \".\" + fig_extension)\n",
    "    # Inform about the saving process\n",
    "    print(\"Saving figure\", fig_id)\n",
    "    # Apply tight layout if specified\n",
    "    if tight_layout:\n",
    "        plt.tight_layout()\n",
    "    # Save the figure with specified format and resolution\n",
    "    plt.savefig(path, format=fig_extension, dpi=resolution)\n",
    "# _____________________________________________________________________________________________________\n",
    "# Function to crop a portion of the input images.\n",
    "def crop(images):\n",
    "    \"\"\"\n",
    "    Crop a portion of the input images.\n",
    "\n",
    "    Args:\n",
    "    images (numpy.ndarray): The input image array.\n",
    "\n",
    "    Returns:\n",
    "    numpy.ndarray: The cropped portion of the input images.\n",
    "    \"\"\"\n",
    "    return images[150:220, 130:250]"
   ]
  },
  {
   "cell_type": "markdown",
   "metadata": {},
   "source": [
    "# Convolutional layer\n",
    "\n",
    "The convolutional layer is the key component of a CNN. \n",
    "\n",
    "* Unlike previous layers, neurons in the first convolutional layer are connected only to pixels within their receptive fields, not to every pixel in the input image. Neurons in subsequent layers are connected to a small rectangle of neurons in the preceding layer. \n",
    "\n",
    "* This hierarchical architecture enables the network to focus on small low-level features initially, gradually assembling them into larger higher-level features in subsequent layers. \n",
    "\n",
    "* This hierarchical structure mirrors real-world images, making CNNs highly effective for image recognition."
   ]
  },
  {
   "cell_type": "markdown",
   "metadata": {},
   "source": [
    "   Input Image         Convolutional Layer 1        Convolutional Layer 2\n",
    "+-------------+           +-------------+             +-------------+\n",
    "|             |           |             |             |             |\n",
    "|   Neurons   |           |   Neurons   |             |   Neurons   |\n",
    "|   connected |           |   connected |             |   connected |\n",
    "|     to      |           |     to      |             |     to      |\n",
    "|   pixels    |           |   small     |             |   small     |\n",
    "|     in      |           |  rectangle  |             |  rectangle  |\n",
    "| receptive   |           | in previous |             | in previous |\n",
    "|   fields    |           |    layer    |             |    layer    |\n",
    "|             |           |             |             |             |\n",
    "+-------------+           +-------------+             +-------------+"
   ]
  },
  {
   "cell_type": "markdown",
   "metadata": {},
   "source": [
    "  **Zero Padding:** A neuron positioned at row $i$, column $j$ within a specific layer receives inputs from neurons in the previous layer situated in rows $i$ to $i + f_h – 1$, and columns $j$ to $j + f_w – 1$. Here, $f$ represents the height and width of the receptive field. To maintain **consistency in layer dimensions** with the preceding layer, it's typical to append zeros around the inputs, as depicted in the diagram. This practice is commonly referred to as **zero padding**."
   ]
  },
  {
   "cell_type": "markdown",
   "metadata": {},
   "source": [
    "Neurons in Layer (i, j):        \n",
    "+---+---+---+\n",
    "|   |   |   |    \n",
    "+---+---+---+\n",
    "|   |   |   |    \n",
    "+---+---+---+\n",
    "|   |   |   |    \n",
    "+---+---+---+\n",
    "\n",
    "Layer (i, j) with Padding:\n",
    "+---+---+---+---+---+\n",
    "| 0 | 0 | 0 | 0 | 0 |\n",
    "+---+---+---+---+---+\n",
    "| 0 |   |   |   | 0 |\n",
    "+---+---+---+---+---+\n",
    "| 0 |   |   |   | 0 |\n",
    "+---+---+---+---+---+\n",
    "| 0 |   |   |   | 0 |\n",
    "+---+---+---+---+---+\n",
    "| 0 | 0 | 0 | 0 | 0 |\n",
    "+---+---+---+---+---+"
   ]
  },
  {
   "cell_type": "markdown",
   "metadata": {},
   "source": [
    "**Note:** It is also possible to connect a large input layer to a much smaller layer by **spacing out** the receptive fields.\n",
    "\n",
    "* This dramatically reduces the model’s computational complexity. \n",
    "\n",
    "* The shift from one receptive field to the next is called the **stride**. \n",
    "\n",
    "* In the diagram, a $5 × 7$ input layer (plus zero padding) is connected to a $3 × 4$ layer, using 3 × 3 receptive fields and a **stride** of 2 (in this example the **stride** is the same in both directions, but it does not have to be so). \n",
    "\n",
    "* A neuron located in row $i$, column $j$ in the upper layer is connected to the outputs of the neurons in the previous layer located in rows $i × s_h$ to $i × s_h + f_h – 1$, columns $j × s_w$ to $j × s_w + f_w – 1$, where $s_w$ and $s_h$ are the vertical and horizontal strides."
   ]
  },
  {
   "cell_type": "markdown",
   "metadata": {},
   "source": [
    "Previous Layer (5x7):\n",
    "+-+-+--+-+-+-+-+\n",
    "|*|*|*#|#|#| | |\n",
    "+-+-+--+-+-+-+-+\n",
    "|*|*|*#|#|#| | |\n",
    "+-+-+--+-+-+-+-+\n",
    "|*|*|*#|#|#| | |\n",
    "+-+-+--+-+-+-+-+\n",
    "| | |  | | | | |\n",
    "+-+-+--+-+-+-+-+\n",
    "| | |  | | | | |\n",
    "+-+-+--+-+-+-+-+\n",
    "\n",
    "Upper Layer (3x4):\n",
    "+-+-+-+-+-+-+\n",
    "|*|#| | | | |\n",
    "+-+-+-+-+-+-+\n",
    "| | | | | | |\n",
    "+-+-+-+-+-+-+\n",
    "| | | | | | |\n",
    "+-+-+-+-+-+-+"
   ]
  },
  {
   "cell_type": "markdown",
   "metadata": {},
   "source": [
    "**Filters (convolution kernels)**: The filters are represented as small images the size of the receptive field. Each filter focuses on detecting specific patterns in the input data, such as vertical or horizontal lines. By convolving these filters over the input image, the CNN can identify important features.\n",
    "* During training, the CNN learns to adjust the weights of these filters automatically to optimize performance for the given task. As a result, the network can learn to recognize complex patterns and features in the input data, leading to more accurate predictions.\n",
    "\n",
    "Filters, also known as convolution kernels, are essential components of convolutional neural networks (CNNs) used in image processing tasks. They serve several crucial purposes:\n",
    "\n",
    "* **Feature Extraction**: Filters are used to extract meaningful features from input data. These features represent patterns or characteristics present in the data that are relevant to the task at hand. For example, in image classification tasks, filters might detect edges, textures, shapes, or other visual patterns.\n",
    "\n",
    "* **Dimensionality Reduction**: By applying filters to input data, CNNs can reduce the dimensionality of the data while preserving important information. This reduction in dimensionality helps in focusing on the most relevant features, making the subsequent processing more efficient."
   ]
  },
  {
   "cell_type": "markdown",
   "metadata": {},
   "source": [
    "**Example:** The initial filter is depicted as a black square containing a white vertical line at its center, essentially comprising a 7x7 matrix predominantly filled with zeros except for the central column, which is entirely occupied by ones. Neurons employing these weights will exclusively focus on the central vertical line within their receptive field, as inputs outside this line will be nullified due to multiplication by zero. Similarly, the second filter resembles a black square featuring a white horizontal line at its midpoint. Neurons utilizing these weights will solely attend to the central horizontal line within their receptive field, disregarding other inputs."
   ]
  },
  {
   "cell_type": "code",
   "execution_count": 56,
   "metadata": {},
   "outputs": [
    {
     "data": {
      "image/png": "[encoded data removed]",
      "text/plain": [
       "<Figure size 1300x900 with 4 Axes>"
      ]
     },
     "metadata": {},
     "output_type": "display_data"
    }
   ],
   "source": [
    "import numpy as np  # Importing NumPy library as np\n",
    "import tensorflow as tf\n",
    "import matplotlib.pyplot as plt\n",
    "from sklearn.datasets import load_sample_image  # Importing load_sample_image function from sklearn.datasets module\n",
    "\n",
    "# Load sample images\n",
    "''' Dividing images by 255 scales the pixel values to a range between 0 and 1. \n",
    "This normalization simplifies computation and ensures consistency across different \n",
    "datasets by standardizing pixel values, regardless of the original color depth. \n",
    "It's a common practice in image processing and machine learning to facilitate \n",
    "convergence during training and improve model performance.'''\n",
    "china = load_sample_image(\"china.jpg\") / 255  # Loading and normalizing the \"china.jpg\" image\n",
    "flower = load_sample_image(\"flower.jpg\") / 255  # Loading and normalizing the \"flower.jpg\" image\n",
    "images = np.array([china, flower])  # Creating an array containing both images\n",
    "''''\n",
    "batch_size: This refers to the number of images in the dataset. \n",
    "height: It indicates the vertical size of the images in pixels, representing the number of rows.\n",
    "width: It represents the horizontal size of the images in pixels, denoting the number of columns.\n",
    "channels: It represent the image depth, indicating whether it's grayscale or colored. Grayscale images have one channel, while RGB images have three.'''\n",
    "batch_size, height, width, channels = images.shape  # Retrieving dimensions of the images\n",
    "\n",
    "# Create 2 filters\n",
    "filters = np.zeros(shape=(7, 7, channels, 2), dtype=np.float32)  # Creating an array of zeros for filters with specified shape\n",
    "filters[:, 3, :, 0] = 1  # Defining the first filter as a vertical line\n",
    "filters[3, :, :, 1] = 1  # Defining the second filter as a horizontal line\n",
    "\n",
    "outputs = tf.nn.conv2d(images, filters, strides=1, padding=\"SAME\")  # Performing convolution operation on the images using the defined filters\n",
    "'''\n",
    "tf.nn.conv2d: It's a TensorFlow function for 2D convolution, a core operation in CNNs where a filter is applied to an image to generate a feature map.\n",
    "images: This is the input to the convolution operation. It is typically a tensor representing an image or a batch of images. \n",
    "filters: This represents the convolutional filters or kernels. These are smaller tensors applied to the input image to perform convolution. \n",
    "strides: This parameter specifies the stride of the convolution. It's an integer or a tuple of two integers, indicating the horizontal and vertical stride respectively. \n",
    "padding: This parameter controls how the convolution handles image borders. \"SAME\" padding ensures the output feature map matches the input image's dimensions by padding zeros around it.'''\n",
    "\n",
    "plt.figure(figsize=(13, 9))  # Increase the values as needed for a larger image\n",
    "for image_index in range(0,4,2):\n",
    "    plt.subplot(4, 4, image_index+1)\n",
    "    plot_image(crop(outputs[0, :, :, round(image_index/2)]))\n",
    "    plt.subplot(4, 4, image_index+2)\n",
    "    plot_image(filters[:, :, 0, round(image_index/2)])"
   ]
  }
 ],
 "metadata": {
  "kernelspec": {
   "display_name": "ml",
   "language": "python",
   "name": "python3"
  },
  "language_info": {
   "codemirror_mode": {
    "name": "ipython",
    "version": 3
   },
   "file_extension": ".py",
   "mimetype": "text/x-python",
   "name": "python",
   "nbconvert_exporter": "python",
   "pygments_lexer": "ipython3",
   "version": "3.10.8"
  }
 },
 "nbformat": 4,
 "nbformat_minor": 2
}
