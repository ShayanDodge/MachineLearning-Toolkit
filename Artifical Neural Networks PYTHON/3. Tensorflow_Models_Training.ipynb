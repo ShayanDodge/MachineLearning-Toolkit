{
 "cells": [
  {
   "cell_type": "markdown",
   "metadata": {},
   "source": [
    "# `Using TensorFlow like NumPy`\n",
    "* TensorFlow can be used in a way similar to NumPy for numerical computations, array manipulations, and mathematical operations. \n",
    "* TensorFlow like NumPy allows you to benefit from TensorFlow's powerful features such as `automatic differentiation`, `GPU acceleration`, `distributed computing`, and seamless integration with `deep learning frameworks`. This approach is ideal for scientific computing and building complex machine learning models."
   ]
  },
  {
   "cell_type": "markdown",
   "metadata": {},
   "source": [
    "## Tensors and operations\n",
    "\n",
    "* In TensorFlow, `tensors` are fundamental objects that represent data in the computation graph. They flow through operations, allowing for efficient computation and differentiation.\n",
    "\n",
    "* Tensors are central to TensorFlow's design, enabling efficient and scalable computation in deep learning models. By understanding how to create and manipulate tensors, you can effectively work with TensorFlow's API to build and train sophisticated machine learning models.\n",
    "\n",
    "* These tensors will be important when we create `custom cost functions`, `custom metrics`, `custom layers`, and more, so let’s see how to create and manipulate them."
   ]
  },
  {
   "cell_type": "markdown",
   "metadata": {},
   "source": [
    "### 1. Creating Tensors\n",
    "* You can create tensors in TensorFlow just like NumPy arrays:"
   ]
  },
  {
   "cell_type": "code",
   "execution_count": 2,
   "metadata": {},
   "outputs": [
    {
     "name": "stdout",
     "output_type": "stream",
     "text": [
      "(2, 2)\n",
      "<dtype: 'int32'>\n",
      "2\n"
     ]
    }
   ],
   "source": [
    "import tensorflow as tf\n",
    "\n",
    "# Create a constant tensor (Immutable:)\n",
    "a = tf.constant([[1.0, 2.0], [3.0, 4.0]])\n",
    "\n",
    "# Create a variable tensor (can be updated)\n",
    "b = tf.Variable([[1.0, 2.0], [3.0, 4.0]])\n",
    "\n",
    "# Accessing shape, dtype, and ndim\n",
    "tensor = tf.constant([[1, 2], [3, 4]])\n",
    "# shape: Attribute that returns the shape of the tensor.\n",
    "print(tensor.shape)  # Output: (2, 2)\n",
    "# dtype: Attribute that returns the data type of the tensor.\n",
    "print(tensor.dtype)  # Output: <dtype: 'int32'>\n",
    "# ndim: Method that returns the number of dimensions (or rank) of the tensor.\n",
    "print(tensor.ndim)  # Output: 2\n",
    "\n",
    "# Create tensors with specified shape and dtype\n",
    "zeros_tensor = tf.zeros((3, 3), dtype=tf.float32)\n",
    "ones_tensor = tf.ones((2, 2), dtype=tf.int32)\n",
    "random_tensor = tf.random.normal((3, 3), mean=0.0, stddev=1.0, dtype=tf.float32)"
   ]
  },
  {
   "cell_type": "markdown",
   "metadata": {},
   "source": [
    "### 2. Indexing\n",
    "* Indexing refers to accessing individual elements within a tensor using specific indices :"
   ]
  },
  {
   "cell_type": "code",
   "execution_count": 3,
   "metadata": {},
   "outputs": [
    {
     "name": "stdout",
     "output_type": "stream",
     "text": [
      "tf.Tensor(1, shape=(), dtype=int32)\n",
      "tf.Tensor(6, shape=(), dtype=int32)\n"
     ]
    }
   ],
   "source": [
    "import tensorflow as tf\n",
    "\n",
    "# Define a 2D tensor\n",
    "tensor_2d = tf.constant([[1, 2, 3],\n",
    "                          [4, 5, 6]])\n",
    "\n",
    "# Accessing individual elements\n",
    "print(tensor_2d[0, 0])  # Output: 1\n",
    "print(tensor_2d[1, 2])  # Output: 6"
   ]
  },
  {
   "cell_type": "markdown",
   "metadata": {},
   "source": [
    "### 3. Slicing\n",
    "* Slicing allows you to extract sub-tensors (slices) from a larger tensor based on specific ranges of indices along each dimension."
   ]
  },
  {
   "cell_type": "code",
   "execution_count": 4,
   "metadata": {},
   "outputs": [
    {
     "name": "stdout",
     "output_type": "stream",
     "text": [
      "tf.Tensor([1 2 3], shape=(3,), dtype=int32)\n",
      "tf.Tensor([2 5], shape=(2,), dtype=int32)\n",
      "tf.Tensor([[4 5]], shape=(1, 2), dtype=int32)\n"
     ]
    }
   ],
   "source": [
    "import tensorflow as tf\n",
    "\n",
    "# Slicing along rows and columns\n",
    "print(tensor_2d[0, :])  # Slice the first row: [1, 2, 3]\n",
    "print(tensor_2d[:, 1])  # Slice the second column: [2, 5, 8]\n",
    "\n",
    "# Slicing sub-tensors\n",
    "print(tensor_2d[1:, :2])  # Slice rows from index 1 onwards and columns up to index 2:\n",
    "                          # [[4, 5],\n",
    "                          #  [7, 8]]"
   ]
  },
  {
   "cell_type": "code",
   "execution_count": 5,
   "metadata": {},
   "outputs": [
    {
     "name": "stdout",
     "output_type": "stream",
     "text": [
      "tf.Tensor(\n",
      "[[10 11 12]\n",
      " [13 14 15]\n",
      " [16 17 18]], shape=(3, 3), dtype=int32)\n",
      "tf.Tensor([ 5 14 23], shape=(3,), dtype=int32)\n",
      "tf.Tensor(\n",
      "[[ 1  4  7]\n",
      " [10 13 16]], shape=(2, 3), dtype=int32)\n"
     ]
    }
   ],
   "source": [
    "import tensorflow as tf\n",
    "\n",
    "# Define a 3D tensor (3x3x3)\n",
    "tensor_3d = tf.Variable([\n",
    "    [[1, 2, 3],\n",
    "     [4, 5, 6],\n",
    "     [7, 8, 9]],\n",
    "\n",
    "    [[10, 11, 12],\n",
    "     [13, 14, 15],\n",
    "     [16, 17, 18]],\n",
    "\n",
    "    [[19, 20, 21],\n",
    "     [22, 23, 24],\n",
    "     [25, 26, 27]]\n",
    "])\n",
    "\n",
    "# Slicing along different dimensions\n",
    "print(tensor_3d[1, :, :])  # Slice the entire 2nd 'layer' (2nd matrix)\n",
    "print(tensor_3d[:, 1, 1])  # Slice the (1, 1) element from each 'layer'\n",
    "print(tensor_3d[0:2, :, 0])  # Slice the first two 'layers' and extract the first column"
   ]
  },
  {
   "cell_type": "markdown",
   "metadata": {},
   "source": [
    "### 4. Modification of elements\n",
    "* The tensorflow does not support item assignment occurs when you attempt to directly modify an individual element of a TensorFlow tensor."
   ]
  },
  {
   "cell_type": "markdown",
   "metadata": {},
   "source": [
    "### 4.1 Mutability and In-Place Modification\n",
    "* One of the main features of tf.Variable is its mutability. \n",
    "* You can modify the value of a variable using the `assign()`, `assign_add()`, or `assign_sub()` methods."
   ]
  },
  {
   "cell_type": "code",
   "execution_count": 6,
   "metadata": {},
   "outputs": [
    {
     "name": "stdout",
     "output_type": "stream",
     "text": [
      "After assign(new_value): 10.0\n",
      "After assign_add(increment_by): 12.0\n",
      "After assign_sub(decrement_by): 9.0\n"
     ]
    }
   ],
   "source": [
    "import tensorflow as tf\n",
    "\n",
    "# Create a TensorFlow variable initialized with a scalar value\n",
    "var = tf.Variable(5.0)\n",
    "\n",
    "# Example: Using assign() to set a new value\n",
    "new_value = 10.0\n",
    "var.assign(new_value)\n",
    "\n",
    "print(\"After assign(new_value):\", var.numpy())  # Output: 10.0\n",
    "\n",
    "# Example: Using assign_add() to increment the variable\n",
    "increment_by = 2.0\n",
    "var.assign_add(increment_by)\n",
    "\n",
    "print(\"After assign_add(increment_by):\", var.numpy())  # Output: 12.0\n",
    "\n",
    "# Example: Using assign_sub() to decrement the variable\n",
    "decrement_by = 3.0\n",
    "var.assign_sub(decrement_by)\n",
    "\n",
    "print(\"After assign_sub(decrement_by):\", var.numpy())  # Output: 9.0"
   ]
  },
  {
   "cell_type": "markdown",
   "metadata": {},
   "source": [
    "### 4.2 Modifying Individual Elements\n",
    "* You can modify individual elements (or slices) of a tf.Variable using the `assign()` method on specific indices or slices.\n",
    "* Direct item assignment `(var[0] = value)` does `not work` on tf.Variable objects."
   ]
  },
  {
   "cell_type": "code",
   "execution_count": 7,
   "metadata": {},
   "outputs": [
    {
     "name": "stdout",
     "output_type": "stream",
     "text": [
      "[1 5 3 4]\n",
      "[1 3 3 4]\n"
     ]
    }
   ],
   "source": [
    "import tensorflow as tf\n",
    "\n",
    "# Create a tf.Variable\n",
    "var = tf.Variable([1, 2, 3, 4])\n",
    "\n",
    "# Modify individual elements using assign() method\n",
    "var[1].assign(5)  # Modify the second element to 5\n",
    "print(var.numpy())  # Output: [1, 5, 3, 4]\n",
    "\n",
    "# Modify range of elements using assign() method\n",
    "var[1:3].assign(3)  # Modify the second element to 5\n",
    "print(var.numpy())  # Output: [1, 5, 3, 4]\n"
   ]
  },
  {
   "cell_type": "markdown",
   "metadata": {},
   "source": [
    "### 4.3 Advanced Modification with `scatter_nd_update()`\n",
    "* TensorFlow provides advanced method like `scatter_nd_update()` to modify specific elements or slices of a variable based on indices.\n",
    "* These methods are useful for updating variable values in a more complex and efficient manner."
   ]
  },
  {
   "cell_type": "code",
   "execution_count": 8,
   "metadata": {},
   "outputs": [
    {
     "name": "stdout",
     "output_type": "stream",
     "text": [
      "After scatter_nd_update(indices_sparse, updates_sparse): [0. 5. 0. 7.]\n"
     ]
    }
   ],
   "source": [
    "import tensorflow as tf\n",
    "\n",
    "# Create a TensorFlow variable initialized with zeros\n",
    "var = tf.Variable([0.0, 0.0, 0.0, 0.0])\n",
    "\n",
    "# Define sparse indices and updates\n",
    "indices_sparse = tf.constant([[1], [3]])  # Define sparse indices as a 2D tensor\n",
    "updates_sparse = tf.constant([5.0, 7.0])  # Define corresponding sparse updates\n",
    "\n",
    "# Perform sparse scatter_nd_update\n",
    "updated_var = tf.tensor_scatter_nd_update(var, indices_sparse, updates_sparse)\n",
    "\n",
    "print(\"After scatter_nd_update(indices_sparse, updates_sparse):\", updated_var.numpy())\n",
    "# Output: [0.0, 5.0, 0.0, 7.0]"
   ]
  },
  {
   "cell_type": "code",
   "execution_count": 9,
   "metadata": {},
   "outputs": [
    {
     "name": "stdout",
     "output_type": "stream",
     "text": [
      "After scatter_nd_update(indices_sparse, updates_sparse):\n",
      "[[0. 5. 0.]\n",
      " [0. 0. 7.]\n",
      " [0. 0. 0.]]\n"
     ]
    }
   ],
   "source": [
    "import tensorflow as tf\n",
    "\n",
    "# Create a TensorFlow variable initialized with zeros (2D tensor)\n",
    "var = tf.Variable([[0.0, 0.0, 0.0],\n",
    "                   [0.0, 0.0, 0.0],\n",
    "                   [0.0, 0.0, 0.0]])\n",
    "\n",
    "# Define sparse indices and updates for a 2D tensor\n",
    "indices_sparse = tf.constant([[0, 1],   # Update element at row 0, column 1\n",
    "                              [1, 2]])  # Update element at row 1, column 2\n",
    "\n",
    "updates_sparse = tf.constant([5.0, 7.0])  # Corresponding sparse update values\n",
    "\n",
    "# Perform sparse scatter_nd_update on the 2D tensor\n",
    "updated_var = tf.tensor_scatter_nd_update(var, indices_sparse, updates_sparse)\n",
    "\n",
    "print(\"After scatter_nd_update(indices_sparse, updates_sparse):\")\n",
    "print(updated_var.numpy())\n"
   ]
  },
  {
   "cell_type": "code",
   "execution_count": 10,
   "metadata": {},
   "outputs": [
    {
     "name": "stdout",
     "output_type": "stream",
     "text": [
      "After modifying the range of elements:\n",
      "[[0. 0. 0. 0.]\n",
      " [0. 5. 7. 3.]\n",
      " [0. 1. 2. 4.]]\n"
     ]
    }
   ],
   "source": [
    "import tensorflow as tf\n",
    "\n",
    "# Create a TensorFlow variable initialized with zeros (2D tensor: 3x4 matrix)\n",
    "var = tf.Variable([[0.0, 0.0, 0.0, 0.0],\n",
    "                   [0.0, 0.0, 0.0, 0.0],\n",
    "                   [0.0, 0.0, 0.0, 0.0]])\n",
    "\n",
    "# Define the range of row and column indices to update (slicing)\n",
    "start_row = 1\n",
    "end_row = 3\n",
    "start_col = 1\n",
    "end_col = 4\n",
    "\n",
    "# Generate new values for the specified range (2D tensor: corresponding submatrix)\n",
    "new_values = tf.constant([[5.0, 7.0, 3.0],\n",
    "                          [1.0, 2.0, 4.0]])\n",
    "\n",
    "# Calculate the dimensions of the new values tensor\n",
    "num_rows, num_cols = new_values.shape\n",
    "\n",
    "# Generate indices for the range to update using meshgrid and stack\n",
    "rows, cols = tf.meshgrid(tf.range(start_row, end_row), tf.range(start_col, end_col), indexing='ij')\n",
    "indices_sparse = tf.stack([rows, cols], axis=-1)\n",
    "\n",
    "# Perform sparse scatter_nd_update to modify the specified submatrix range\n",
    "updated_var = tf.tensor_scatter_nd_update(var, indices_sparse, new_values)\n",
    "\n",
    "print(\"After modifying the range of elements:\")\n",
    "print(updated_var.numpy())"
   ]
  },
  {
   "cell_type": "markdown",
   "metadata": {},
   "source": [
    "### 5. Array Manipulation"
   ]
  },
  {
   "cell_type": "code",
   "execution_count": 11,
   "metadata": {},
   "outputs": [
    {
     "name": "stdout",
     "output_type": "stream",
     "text": [
      "tf.Tensor([[1 2 3 4]], shape=(1, 4), dtype=int32)\n"
     ]
    }
   ],
   "source": [
    "# .reshape():\n",
    "# .reshape() is used to change the shape of a tensor while keeping the same underlying data.\n",
    "\n",
    "import tensorflow as tf\n",
    "\n",
    "# Create a tensor\n",
    "x = tf.constant([[1, 2],\n",
    "                 [3, 4]])\n",
    "\n",
    "# Reshape the tensor to a new shape\n",
    "x_reshaped = tf.reshape(x, [1, 4])  # Reshape to shape (1, 4)\n",
    "print(x_reshaped)"
   ]
  },
  {
   "cell_type": "code",
   "execution_count": 12,
   "metadata": {},
   "outputs": [
    {
     "name": "stdout",
     "output_type": "stream",
     "text": [
      "tf.Tensor([1 2 3], shape=(3,), dtype=int32)\n"
     ]
    }
   ],
   "source": [
    "# tf.squeeze():\n",
    "# This function removes dimensions of size 1 from the shape of a tensor.\n",
    "\n",
    "import tensorflow as tf\n",
    "\n",
    "# Create a tensor with shape (1, 3, 1)\n",
    "x = tf.constant([[[1], [2], [3]]])\n",
    "\n",
    "# Squeeze the tensor to remove dimensions of size 1\n",
    "x_squeezed = tf.squeeze(x)\n",
    "print(x_squeezed)  # Output shape will be (3,)"
   ]
  },
  {
   "cell_type": "code",
   "execution_count": 13,
   "metadata": {},
   "outputs": [
    {
     "name": "stdout",
     "output_type": "stream",
     "text": [
      "tf.Tensor(\n",
      "[[1 2 1 2 1 2]\n",
      " [3 4 3 4 3 4]\n",
      " [1 2 1 2 1 2]\n",
      " [3 4 3 4 3 4]], shape=(4, 6), dtype=int32)\n"
     ]
    }
   ],
   "source": [
    "# tile():\n",
    "# tf.tile() is used to construct a new tensor by tiling the input tensor.\n",
    "# It replicates the input tensor's data along specified dimensions.\n",
    "\n",
    "import tensorflow as tf\n",
    "\n",
    "# Create a tensor\n",
    "x = tf.constant([[1, 2],\n",
    "                 [3, 4]])\n",
    "\n",
    "# Tile the tensor along rows and columns\n",
    "x_tiled = tf.tile(x, [2, 3])  # Tile to (2, 3) replication\n",
    "print(x_tiled)"
   ]
  },
  {
   "cell_type": "markdown",
   "metadata": {},
   "source": [
    "### 6. Arithmetic Operations"
   ]
  },
  {
   "cell_type": "code",
   "execution_count": 14,
   "metadata": {},
   "outputs": [],
   "source": [
    "import tensorflow as tf\n",
    "\n",
    "# Define a 2D tensor (3x3)\n",
    "tensor_a = tf.random.normal((3, 3), mean=0.0, stddev=1.0, dtype=tf.float32)\n",
    "tensor_b = tf.random.normal((3, 3), mean=0.0, stddev=1.0, dtype=tf.float32)\n",
    "\n",
    "# Addition: Element-wise addition of two tensors.\n",
    "result = tf.add(tensor_a, tensor_b)\n",
    "result = tensor_a.__add__(tensor_b)\n",
    "result = tensor_a + tensor_b\n",
    "# Subtraction: Element-wise subtraction of two tensors.\n",
    "result = tf.subtract(tensor_a, tensor_b)\n",
    "# Multiplication: Element-wise multiplication of two tensors.\n",
    "result = tf.multiply(tensor_a, tensor_b)\n",
    "# Division: Element-wise division of two tensors.\n",
    "result = tf.divide(tensor_a, tensor_b)\n",
    "# Exponentiation: Element-wise exponentiation of a tensor.\n",
    "exponent = 2\n",
    "result = tf.pow(tensor_a, exponent)"
   ]
  },
  {
   "cell_type": "markdown",
   "metadata": {},
   "source": [
    "### 7. Broadcasting Basics\n",
    "* Broadcasting is a technique used in TensorFlow to perform `element-wise operations` on tensors of different shapes by implicitly aligning their dimensions. The main concept is to extend (or \"broadcast\") smaller tensors to match the shape of larger tensors before applying element-wise operations."
   ]
  },
  {
   "cell_type": "code",
   "execution_count": 15,
   "metadata": {},
   "outputs": [
    {
     "name": "stdout",
     "output_type": "stream",
     "text": [
      "[[ 2  4  6]\n",
      " [ 8 10 12]]\n"
     ]
    }
   ],
   "source": [
    "# Example 1: Broadcasting Scalars\n",
    "import tensorflow as tf\n",
    "\n",
    "# Define a tensor with shape (2, 3)\n",
    "tensor_a = tf.constant([[1, 2, 3],\n",
    "                         [4, 5, 6]])\n",
    "\n",
    "# Define a scalar value\n",
    "scalar_b = tf.constant(2)\n",
    "\n",
    "# Element-wise multiplication using broadcasting\n",
    "result = tensor_a * scalar_b\n",
    "\n",
    "# Display the result\n",
    "print(result.numpy())"
   ]
  },
  {
   "cell_type": "code",
   "execution_count": 16,
   "metadata": {},
   "outputs": [
    {
     "name": "stdout",
     "output_type": "stream",
     "text": [
      "[[11 22 33]\n",
      " [14 25 36]]\n"
     ]
    }
   ],
   "source": [
    "# Example 2: Broadcasting Vectors\n",
    "import tensorflow as tf\n",
    "\n",
    "# Define a matrix with shape (2, 3)\n",
    "matrix_a = tf.constant([[1, 2, 3],\n",
    "                        [4, 5, 6]])\n",
    "\n",
    "# Define a vector with shape (3,)\n",
    "vector_b = tf.constant([10, 20, 30])\n",
    "\n",
    "# Element-wise addition using broadcasting\n",
    "result = matrix_a + vector_b\n",
    "\n",
    "# Display the result\n",
    "print(result.numpy())"
   ]
  },
  {
   "cell_type": "code",
   "execution_count": 17,
   "metadata": {},
   "outputs": [
    {
     "name": "stdout",
     "output_type": "stream",
     "text": [
      "[[ 10  20  30]\n",
      " [ 80 100 120]]\n"
     ]
    }
   ],
   "source": [
    "# Example 3: Broadcasting Along Different Axes\n",
    "import tensorflow as tf\n",
    "\n",
    "# Define a matrix with shape (2, 3)\n",
    "matrix_a = tf.constant([[1, 2, 3],\n",
    "                        [4, 5, 6]])\n",
    "\n",
    "# Define a vector with shape (2,)\n",
    "vector_c = tf.constant([10, 20])\n",
    "\n",
    "# Element-wise multiplication using broadcasting along different axes\n",
    "result = matrix_a * vector_c[:, tf.newaxis]\n",
    "\n",
    "# Display the result\n",
    "print(result.numpy())"
   ]
  },
  {
   "cell_type": "markdown",
   "metadata": {},
   "source": [
    "### 8. Reduction operations\n",
    "* Reduction operations in TensorFlow are used to compute aggregate values (e.g., sum, mean, maximum, minimum) over specific dimensions of a tensor, resulting in a tensor with reduced dimensions or a scalar value. "
   ]
  },
  {
   "cell_type": "code",
   "execution_count": 18,
   "metadata": {},
   "outputs": [
    {
     "name": "stdout",
     "output_type": "stream",
     "text": [
      "Sum along axis 0: [5 7 9]\n",
      "Sum along axis 1: [ 6 15]\n"
     ]
    }
   ],
   "source": [
    "# 1. tf.reduce_sum\n",
    "\n",
    "import tensorflow as tf\n",
    "\n",
    "# Define a tensor\n",
    "tensor = tf.constant([[1, 2, 3],\n",
    "                       [4, 5, 6]])\n",
    "\n",
    "# Compute sum along axis 0 (sum of each column)\n",
    "sum_along_axis0 = tf.reduce_sum(tensor, axis=0)\n",
    "\n",
    "# Compute sum along axis 1 (sum of each row)\n",
    "sum_along_axis1 = tf.reduce_sum(tensor, axis=1)\n",
    "\n",
    "print(\"Sum along axis 0:\", sum_along_axis0.numpy())  # Output: [5 7 9]\n",
    "print(\"Sum along axis 1:\", sum_along_axis1.numpy())  # Output: [ 6 15]"
   ]
  },
  {
   "cell_type": "code",
   "execution_count": 19,
   "metadata": {},
   "outputs": [
    {
     "name": "stdout",
     "output_type": "stream",
     "text": [
      "Mean along axis 0: [2 3 4]\n",
      "Mean along axis 1: [2 5]\n"
     ]
    }
   ],
   "source": [
    "# 2. tf.reduce_mean\n",
    "import tensorflow as tf\n",
    "\n",
    "# Define a tensor\n",
    "tensor = tf.constant([[1, 2, 3],\n",
    "                       [4, 5, 6]])\n",
    "\n",
    "# Compute mean along axis 0 (mean of each column)\n",
    "mean_along_axis0 = tf.reduce_mean(tensor, axis=0)\n",
    "\n",
    "# Compute mean along axis 1 (mean of each row)\n",
    "mean_along_axis1 = tf.reduce_mean(tensor, axis=1)\n",
    "\n",
    "print(\"Mean along axis 0:\", mean_along_axis0.numpy())  # Output: [2.5 3.5 4.5]\n",
    "print(\"Mean along axis 1:\", mean_along_axis1.numpy())  # Output: [2. 5.]"
   ]
  },
  {
   "cell_type": "code",
   "execution_count": 20,
   "metadata": {},
   "outputs": [
    {
     "name": "stdout",
     "output_type": "stream",
     "text": [
      "Maximum along axis 0: [4 5 6]\n",
      "Minimum along axis 1: [1 4]\n"
     ]
    }
   ],
   "source": [
    "# 3. tf.reduce_max and tf.reduce_min\n",
    "import tensorflow as tf\n",
    "\n",
    "# Define a tensor\n",
    "tensor = tf.constant([[1, 2, 3],\n",
    "                       [4, 5, 6]])\n",
    "\n",
    "# Compute maximum along axis 0 (maximum of each column)\n",
    "max_along_axis0 = tf.reduce_max(tensor, axis=0)\n",
    "\n",
    "# Compute minimum along axis 1 (minimum of each row)\n",
    "min_along_axis1 = tf.reduce_min(tensor, axis=1)\n",
    "\n",
    "print(\"Maximum along axis 0:\", max_along_axis0.numpy())  # Output: [4 5 6]\n",
    "print(\"Minimum along axis 1:\", min_along_axis1.numpy())  # Output: [1 4]"
   ]
  },
  {
   "cell_type": "code",
   "execution_count": 21,
   "metadata": {},
   "outputs": [
    {
     "name": "stdout",
     "output_type": "stream",
     "text": [
      "Standard Deviation (all elements): 1.7078252\n",
      "Standard Deviation along axis 0 (column-wise): [1.5 1.5 1.5]\n",
      "Standard Deviation along axis 1 (row-wise): [0.8164966 0.8164966]\n"
     ]
    }
   ],
   "source": [
    "# 4. tf.math.reduce_std\n",
    "import tensorflow as tf\n",
    "\n",
    "# Define a tensor\n",
    "tensor = tf.constant([[1.0, 2.0, 3.0],\n",
    "                       [4.0, 5.0, 6.0]])\n",
    "\n",
    "# Compute the standard deviation across all elements\n",
    "std_all = tf.math.reduce_std(tensor)\n",
    "\n",
    "# Compute the standard deviation along axis 0 (column-wise)\n",
    "std_axis0 = tf.math.reduce_std(tensor, axis=0)\n",
    "\n",
    "# Compute the standard deviation along axis 1 (row-wise)\n",
    "std_axis1 = tf.math.reduce_std(tensor, axis=1)\n",
    "\n",
    "print(\"Standard Deviation (all elements):\", std_all.numpy())\n",
    "print(\"Standard Deviation along axis 0 (column-wise):\", std_axis0.numpy())\n",
    "print(\"Standard Deviation along axis 1 (row-wise):\", std_axis1.numpy())"
   ]
  },
  {
   "cell_type": "markdown",
   "metadata": {},
   "source": [
    "### 9. Basic Mathematical Functions"
   ]
  },
  {
   "cell_type": "code",
   "execution_count": 22,
   "metadata": {},
   "outputs": [],
   "source": [
    "import tensorflow as tf\n",
    "\n",
    "# Define a 2D tensor (3x3)\n",
    "tensor = tf.random.normal((3, 3), mean=0.0, stddev=1.0, dtype=tf.float32)\n",
    "\n",
    "# Square Root: Element-wise square root of a tensor.\n",
    "result = tf.sqrt(tensor)\n",
    "# Absolute Value: Element-wise absolute value of a tensor.\n",
    "result = tf.abs(tensor)\n",
    "# Negative: Element-wise negation of a tensor.\n",
    "result = tf.negative(tensor)\n",
    "# Sine, Cosine, Tangent: Element-wise trigonometric functions.\n",
    "result_sin = tf.sin(tensor)\n",
    "result_cos = tf.cos(tensor)\n",
    "result_tan = tf.tan(tensor)"
   ]
  },
  {
   "cell_type": "markdown",
   "metadata": {},
   "source": [
    "### 10. Matrix Operations"
   ]
  },
  {
   "cell_type": "code",
   "execution_count": 23,
   "metadata": {},
   "outputs": [],
   "source": [
    "# Multiplication of the tensors\n",
    "import tensorflow as tf\n",
    "\n",
    "# Matrix multiplication\n",
    "mat1 = tf.constant([[1, 2], [3, 4]])\n",
    "mat2 = tf.constant([[5, 6], [7, 8]])\n",
    "mat_mult = tf.matmul(mat1, mat2)\n",
    "\n",
    "\n",
    "# Perform matrix multiplication using the @ operator\n",
    "mat_mult = mat1 @ mat2  # This is equivalent to tf.matmul(mat1, mat2)"
   ]
  },
  {
   "cell_type": "code",
   "execution_count": 24,
   "metadata": {},
   "outputs": [
    {
     "name": "stdout",
     "output_type": "stream",
     "text": [
      "Original tensor:\n",
      "tf.Tensor(\n",
      "[[1 2 3]\n",
      " [4 5 6]], shape=(2, 3), dtype=int32)\n",
      "Transposed tensor:\n",
      "tf.Tensor(\n",
      "[[1 4]\n",
      " [2 5]\n",
      " [3 6]], shape=(3, 2), dtype=int32)\n"
     ]
    }
   ],
   "source": [
    "# Transpose of a tensor\n",
    "import tensorflow as tf\n",
    "\n",
    "# Create a tensor with shape (2, 3)\n",
    "x = tf.constant([[1, 2, 3],\n",
    "                 [4, 5, 6]])\n",
    "\n",
    "# Transpose the tensor\n",
    "x_transposed = tf.transpose(x)  # By default, this swaps the first and second dimensions\n",
    "\n",
    "print(\"Original tensor:\")\n",
    "print(x)\n",
    "print(\"Transposed tensor:\")\n",
    "print(x_transposed)\n"
   ]
  },
  {
   "cell_type": "code",
   "execution_count": 25,
   "metadata": {},
   "outputs": [
    {
     "name": "stdout",
     "output_type": "stream",
     "text": [
      "Original matrix A:\n",
      "tf.Tensor(\n",
      "[[1. 2.]\n",
      " [3. 4.]], shape=(2, 2), dtype=float32)\n",
      "Inverse of matrix A:\n",
      "tf.Tensor(\n",
      "[[-2.0000002   1.0000001 ]\n",
      " [ 1.5000001  -0.50000006]], shape=(2, 2), dtype=float32)\n"
     ]
    }
   ],
   "source": [
    "# Inverse of a tensor\n",
    "import tensorflow as tf\n",
    "\n",
    "# Create a square matrix (2x2) as a TensorFlow constant\n",
    "A = tf.constant([[1.0, 2.0],\n",
    "                 [3.0, 4.0]])\n",
    "\n",
    "# Compute the inverse of the matrix A\n",
    "A_inverse = tf.linalg.inv(A)\n",
    "\n",
    "# Print the original matrix and its inverse\n",
    "print(\"Original matrix A:\")\n",
    "print(A)\n",
    "\n",
    "print(\"Inverse of matrix A:\")\n",
    "print(A_inverse)"
   ]
  },
  {
   "cell_type": "markdown",
   "metadata": {},
   "source": [
    "### 11. Comparison Operations"
   ]
  },
  {
   "cell_type": "code",
   "execution_count": 26,
   "metadata": {},
   "outputs": [],
   "source": [
    "import tensorflow as tf\n",
    "\n",
    "# Define a 2D tensor (3x3)\n",
    "tensor_a = tf.random.normal((3, 3), mean=0.0, stddev=1.0, dtype=tf.float32)\n",
    "tensor_b = tf.random.normal((3, 3), mean=0.0, stddev=1.0, dtype=tf.float32)\n",
    "\n",
    "# Create condition_a and condition_b boolean tensors\n",
    "condition_a = tf.constant([True, False, True])   # Example boolean tensor 1\n",
    "condition_b = tf.constant([False, True, True])   # Example boolean tensor 2\n",
    "\n",
    "# Equal: Element-wise equality comparison of two tensors.\n",
    "result = tf.equal(tensor_a, tensor_b)\n",
    "# Not Equal: Element-wise inequality comparison of two tensors.\n",
    "result = tf.not_equal(tensor_a, tensor_b)\n",
    "# Greater Than, Less Than: Element-wise comparison of two tensors.\n",
    "result_gt = tf.greater(tensor_a, tensor_b)\n",
    "result_lt = tf.less(tensor_a, tensor_b)\n",
    "# Logical AND, OR: Element-wise logical operations.\n",
    "result_and = tf.logical_and(condition_a, condition_b)\n",
    "result_or = tf.logical_or(condition_a, condition_b)"
   ]
  },
  {
   "cell_type": "markdown",
   "metadata": {},
   "source": [
    "### 12. Clipping and Normalization"
   ]
  },
  {
   "cell_type": "code",
   "execution_count": 27,
   "metadata": {},
   "outputs": [],
   "source": [
    "import tensorflow as tf\n",
    "\n",
    "# Define a tensor with values\n",
    "tensor = tf.constant([1.0, 2.0, 3.0, 4.0, 5.0])\n",
    "\n",
    "# Clip the tensor values to be between 2.0 and 4.0\n",
    "clipped_tensor = tf.clip_by_value(tensor, clip_value_min=2.0, clip_value_max=4.0)\n",
    "\n",
    "# Perform L2 normalization along axis 1 (normalize each row)\n",
    "normalized_x = tf.nn.l2_normalize(tensor, axis=0)"
   ]
  },
  {
   "cell_type": "markdown",
   "metadata": {},
   "source": [
    "### 13. Handling Missing Values"
   ]
  },
  {
   "cell_type": "code",
   "execution_count": 28,
   "metadata": {},
   "outputs": [],
   "source": [
    "import tensorflow as tf\n",
    "\n",
    "# Define a tensor with values\n",
    "tensor = tf.constant([1.0, 2.0, 3.0, 4.0, 5.0])\n",
    "\n",
    "# Is NaN, Is Finite: Element-wise checks for NaN (Not a Number) and finite values.\n",
    "result_isnan = tf.math.is_nan(tensor)\n",
    "result_isfinite = tf.math.is_finite(tensor)"
   ]
  },
  {
   "cell_type": "markdown",
   "metadata": {},
   "source": [
    "### 14. Applying TensorFlow Operations to NumPy Arrays\n",
    "* You can convert NumPy arrays to TensorFlow tensors using `tf.convert_to_tensor()` and then apply TensorFlow operations to these tensors."
   ]
  },
  {
   "cell_type": "code",
   "execution_count": 29,
   "metadata": {},
   "outputs": [
    {
     "name": "stdout",
     "output_type": "stream",
     "text": [
      "Result (TensorFlow tensor):\n",
      "tf.Tensor(\n",
      "[[ 1.  4.]\n",
      " [ 9. 16.]], shape=(2, 2), dtype=float64)\n",
      "Result (NumPy array):\n",
      "[[ 1.  4.]\n",
      " [ 9. 16.]]\n"
     ]
    }
   ],
   "source": [
    "import tensorflow as tf\n",
    "import numpy as np\n",
    "\n",
    "# Create a NumPy array\n",
    "numpy_array = np.array([[1.0, 2.0],\n",
    "                         [3.0, 4.0]])\n",
    "\n",
    "# Convert NumPy array to a TensorFlow tensor\n",
    "tensor = tf.convert_to_tensor(numpy_array)\n",
    "\n",
    "# Apply TensorFlow operations to the tensor\n",
    "result = tf.square(tensor)  # Square each element\n",
    "\n",
    "# Convert the result back to a NumPy array (if needed)\n",
    "result_numpy = result.numpy()\n",
    "\n",
    "print(\"Result (TensorFlow tensor):\")\n",
    "print(result)\n",
    "\n",
    "print(\"Result (NumPy array):\")\n",
    "print(result_numpy)"
   ]
  },
  {
   "cell_type": "markdown",
   "metadata": {},
   "source": [
    "* You can apply TensorFlow operations on a NumPy array without converting it to a TensorFlow tensor:"
   ]
  },
  {
   "cell_type": "code",
   "execution_count": 30,
   "metadata": {},
   "outputs": [
    {
     "name": "stdout",
     "output_type": "stream",
     "text": [
      "Result (NumPy array after TensorFlow operation):\n",
      "tf.Tensor(\n",
      "[[ 1.  4.]\n",
      " [ 9. 16.]], shape=(2, 2), dtype=float64)\n"
     ]
    }
   ],
   "source": [
    "import tensorflow as tf\n",
    "import numpy as np\n",
    "\n",
    "# Create a NumPy array\n",
    "numpy_array = np.array([[1.0, 2.0],\n",
    "                         [3.0, 4.0]])\n",
    "\n",
    "# Apply TensorFlow operations directly on the NumPy array\n",
    "result_numpy = tf.square(numpy_array)  # Square each element using NumPy operation\n",
    "\n",
    "print(\"Result (NumPy array after TensorFlow operation):\")\n",
    "print(result_numpy)\n"
   ]
  },
  {
   "cell_type": "markdown",
   "metadata": {},
   "source": [
    "### 15. Applying NumPy Operations to TensorFlow Tensors\n",
    "* Similarly, you can convert TensorFlow tensors to NumPy arrays using .numpy() and apply NumPy operations to these arrays."
   ]
  },
  {
   "cell_type": "code",
   "execution_count": 31,
   "metadata": {},
   "outputs": [
    {
     "name": "stdout",
     "output_type": "stream",
     "text": [
      "Result (NumPy array):\n",
      "[[1.        1.4142135]\n",
      " [1.7320508 2.       ]]\n"
     ]
    }
   ],
   "source": [
    "import tensorflow as tf\n",
    "import numpy as np\n",
    "\n",
    "# Create a TensorFlow tensor\n",
    "tensor = tf.constant([[1.0, 2.0],\n",
    "                      [3.0, 4.0]])\n",
    "\n",
    "# Convert TensorFlow tensor to a NumPy array\n",
    "numpy_array = tensor.numpy()\n",
    "\n",
    "# Apply NumPy operations to the NumPy array\n",
    "result_numpy = np.sqrt(numpy_array)  # Compute element-wise square root\n",
    "\n",
    "print(\"Result (NumPy array):\")\n",
    "print(result_numpy)"
   ]
  },
  {
   "cell_type": "markdown",
   "metadata": {},
   "source": [
    "* To apply NumPy operations directly on TensorFlow tensors without converting them explicitly, you can utilize TensorFlow's ability to seamlessly interoperate with NumPy arrays within eager execution mode. "
   ]
  },
  {
   "cell_type": "code",
   "execution_count": 32,
   "metadata": {},
   "outputs": [
    {
     "name": "stdout",
     "output_type": "stream",
     "text": [
      "Result (NumPy array after applying NumPy operation on TensorFlow tensor):\n",
      "[[ 1.  4.]\n",
      " [ 9. 16.]]\n"
     ]
    }
   ],
   "source": [
    "import tensorflow as tf\n",
    "import numpy as np\n",
    "\n",
    "# Create a TensorFlow tensor\n",
    "tensor = tf.constant([[1.0, 2.0],\n",
    "                      [3.0, 4.0]])\n",
    "\n",
    "# Apply NumPy operations directly on the TensorFlow tensor\n",
    "result_numpy = np.square(tensor.numpy())  # Square each element using NumPy operation on tensor's numpy array\n",
    "\n",
    "print(\"Result (NumPy array after applying NumPy operation on TensorFlow tensor):\")\n",
    "print(result_numpy)"
   ]
  },
  {
   "cell_type": "markdown",
   "metadata": {},
   "source": [
    "### 16. Operations Between Tensors of Different Types\n",
    "\n",
    "* When you attempt to perform operations (like addition, multiplication, etc.) between tensors of different data types, TensorFlow will `raise an exception` indicating the type incompatibility.\n",
    "* If you need to perform operations between tensors of different types, you can `explicitly convert tensors` to compatible types using `tf.cast()`:\n",
    "* It's important to maintain data type consistency in your TensorFlow computations to ensure efficient execution and avoid unnecessary type conversions. When building TensorFlow models, specifying data types explicitly can help in optimizing performance and avoiding unexpected behaviors due to type mismatches."
   ]
  },
  {
   "cell_type": "code",
   "execution_count": 33,
   "metadata": {},
   "outputs": [],
   "source": [
    "# import tensorflow as tf\n",
    "\n",
    "# # Create tensors of different types\n",
    "\n",
    "# tensor_int = tf.constant(5)  # Integer tensor\n",
    "# tensor_float = tf.constant(3.0)  # Float tensor\n",
    "\n",
    "# # Attempt to add tensors of different types\n",
    "# result = tensor_int + tensor_float  # This will raise a TypeError"
   ]
  },
  {
   "cell_type": "code",
   "execution_count": 34,
   "metadata": {},
   "outputs": [],
   "source": [
    "# Explicit Type Conversion\n",
    "\n",
    "import tensorflow as tf\n",
    "\n",
    "# Create tensors of different types\n",
    "tensor_int = tf.constant(5)  # Integer tensor\n",
    "tensor_float = tf.constant(3.0)  # Float tensor\n",
    "\n",
    "# Convert integer tensor to float\n",
    "tensor_int_float = tf.cast(tensor_int, tf.float32)\n",
    "\n",
    "# Perform addition after type conversion\n",
    "result = tensor_int_float + tensor_float  # This will work"
   ]
  },
  {
   "cell_type": "markdown",
   "metadata": {},
   "source": [
    "### 17. SparseTensor in TensorFlow\n",
    "\n",
    "* Sparse tensors in TensorFlow are a special type of tensor that efficiently represents and manipulates tensors containing mostly zero values. \n",
    "* This is particularly useful for handling sparse data structures where most elements are zero, such as sparse matrices or high-dimensional data with sparse representations."
   ]
  },
  {
   "cell_type": "code",
   "execution_count": 35,
   "metadata": {},
   "outputs": [
    {
     "name": "stdout",
     "output_type": "stream",
     "text": [
      "SparseTensor:\n",
      "SparseTensor(indices=tf.Tensor(\n",
      "[[0 1]\n",
      " [1 2]\n",
      " [2 0]], shape=(3, 2), dtype=int64), values=tf.Tensor([3. 4. 5.], shape=(3,), dtype=float32), dense_shape=tf.Tensor([3 3], shape=(2,), dtype=int64))\n"
     ]
    }
   ],
   "source": [
    "# 1. Creating a SparseTensor\n",
    "\n",
    "import tensorflow as tf\n",
    "\n",
    "# Define the non-zero elements and their indices\n",
    "indices = tf.constant([[0, 1], [1, 2], [2, 0]])  # Example indices with dtype int32\n",
    "values = tf.constant([3.0, 4.0, 5.0])             # Corresponding non-zero values\n",
    "dense_shape = tf.constant([3, 3], dtype=tf.int64)  # Shape of the dense tensor (3x3) with dtype int64\n",
    "\n",
    "# Convert indices to dtype int64 (if needed, though it's already int64 in this case)\n",
    "indices = tf.cast(indices, dtype=tf.int64)\n",
    "\n",
    "# Create the SparseTensor\n",
    "sparse_tensor = tf.sparse.SparseTensor(indices=indices, values=values, dense_shape=dense_shape)\n",
    "\n",
    "print(\"SparseTensor:\")\n",
    "print(sparse_tensor)"
   ]
  },
  {
   "cell_type": "code",
   "execution_count": 36,
   "metadata": {},
   "outputs": [
    {
     "name": "stdout",
     "output_type": "stream",
     "text": [
      "Dense Tensor:\n",
      "tf.Tensor(\n",
      "[[0. 3. 0.]\n",
      " [0. 0. 4.]\n",
      " [5. 0. 0.]], shape=(3, 3), dtype=float32)\n"
     ]
    }
   ],
   "source": [
    "# 2. Converting SparseTensor to Dense Tensor\n",
    "\n",
    "dense_tensor = tf.sparse.to_dense(sparse_tensor)\n",
    "print(\"Dense Tensor:\")\n",
    "print(dense_tensor)"
   ]
  },
  {
   "cell_type": "code",
   "execution_count": 37,
   "metadata": {},
   "outputs": [
    {
     "name": "stdout",
     "output_type": "stream",
     "text": [
      "Value at index (1, 2): 4.0\n"
     ]
    }
   ],
   "source": [
    "# 3. Accessing Elements of SparseTensor\n",
    "\n",
    "# Define the example sparse tensor\n",
    "indices = tf.constant([[0, 1], [1, 2], [2, 0]], dtype=tf.int64)\n",
    "values = tf.constant([3.0, 4.0, 5.0])\n",
    "dense_shape = tf.constant([3, 3], dtype=tf.int64)\n",
    "sparse_tensor = tf.sparse.SparseTensor(indices=indices, values=values, dense_shape=dense_shape)\n",
    "\n",
    "# Accessing a specific element at row=1, column=2\n",
    "row_index = 1\n",
    "col_index = 2\n",
    "\n",
    "# Convert sparse tensor to dense tensor and access the element\n",
    "dense_tensor = tf.sparse.to_dense(sparse_tensor)\n",
    "element_value = dense_tensor[row_index, col_index]\n",
    "\n",
    "print(\"Value at index ({}, {}):\".format(row_index, col_index), element_value.numpy())\n",
    "\n"
   ]
  },
  {
   "cell_type": "code",
   "execution_count": 38,
   "metadata": {},
   "outputs": [
    {
     "name": "stdout",
     "output_type": "stream",
     "text": [
      "Scaled SparseTensor:\n",
      "SparseTensor(indices=tf.Tensor(\n",
      "[[0 1]\n",
      " [1 2]\n",
      " [2 0]], shape=(3, 2), dtype=int64), values=tf.Tensor([ 6.  8. 10.], shape=(3,), dtype=float32), dense_shape=tf.Tensor([3 3], shape=(2,), dtype=int64))\n"
     ]
    }
   ],
   "source": [
    "# 4. Performing Element-wise Operations\n",
    "\n",
    "import tensorflow as tf\n",
    "\n",
    "# Define the example sparse tensor\n",
    "indices = tf.constant([[0, 1], [1, 2], [2, 0]], dtype=tf.int64)\n",
    "values = tf.constant([3.0, 4.0, 5.0])\n",
    "dense_shape = tf.constant([3, 3], dtype=tf.int64)\n",
    "sparse_tensor = tf.sparse.SparseTensor(indices=indices, values=values, dense_shape=dense_shape)\n",
    "\n",
    "# Define the scalar value for multiplication\n",
    "scalar = 2.0\n",
    "\n",
    "# Perform element-wise multiplication of SparseTensor values by the scalar\n",
    "scaled_values = sparse_tensor.values * scalar\n",
    "\n",
    "# Create a new SparseTensor with the scaled values\n",
    "scaled_sparse_tensor = tf.sparse.SparseTensor(indices=sparse_tensor.indices,\n",
    "                                              values=scaled_values,\n",
    "                                              dense_shape=sparse_tensor.dense_shape)\n",
    "\n",
    "print(\"Scaled SparseTensor:\")\n",
    "print(scaled_sparse_tensor)\n",
    "\n"
   ]
  },
  {
   "cell_type": "code",
   "execution_count": 39,
   "metadata": {},
   "outputs": [
    {
     "name": "stdout",
     "output_type": "stream",
     "text": [
      "Concatenated SparseTensor:\n",
      "SparseTensor(indices=tf.Tensor(\n",
      "[[0 1]\n",
      " [1 2]\n",
      " [2 0]\n",
      " [3 1]\n",
      " [4 2]\n",
      " [5 0]], shape=(6, 2), dtype=int64), values=tf.Tensor([ 3.  4.  5.  6.  8. 10.], shape=(6,), dtype=float32), dense_shape=tf.Tensor([6 3], shape=(2,), dtype=int64))\n"
     ]
    }
   ],
   "source": [
    "# 5. Combining SparseTensors\n",
    "\n",
    "# Concatenate SparseTensors along a specified axis\n",
    "concatenated_sparse_tensor = tf.sparse.concat(axis=0, sp_inputs=[sparse_tensor, scaled_sparse_tensor])\n",
    "print(\"Concatenated SparseTensor:\")\n",
    "print(concatenated_sparse_tensor)"
   ]
  },
  {
   "cell_type": "code",
   "execution_count": 40,
   "metadata": {},
   "outputs": [
    {
     "name": "stdout",
     "output_type": "stream",
     "text": [
      "Result of SparseTensor * DenseMatrix:\n",
      "tf.Tensor(\n",
      "[[0. 3. 0.]\n",
      " [0. 0. 4.]\n",
      " [5. 0. 0.]], shape=(3, 3), dtype=float32)\n"
     ]
    }
   ],
   "source": [
    "# 6. Applying Operations to SparseTensors\n",
    "\n",
    "# Example: Use SparseTensor in a TensorFlow operation (e.g., matrix multiplication)\n",
    "dense_matrix = tf.constant([[1.0, 0.0, 0.0],\n",
    "                            [0.0, 1.0, 0.0],\n",
    "                            [0.0, 0.0, 1.0]])\n",
    "\n",
    "result_sparse_tensor = tf.sparse.sparse_dense_matmul(sparse_tensor, dense_matrix)\n",
    "print(\"Result of SparseTensor * DenseMatrix:\")\n",
    "print(result_sparse_tensor)"
   ]
  },
  {
   "cell_type": "markdown",
   "metadata": {},
   "source": [
    "### 18. String tensors in TensorFlow \n",
    "* These tensors are used to handle and manipulate string data within TensorFlow computational graphs, which can be useful for tasks like natural language processing (NLP), text generation, and preprocessing textual "
   ]
  },
  {
   "cell_type": "code",
   "execution_count": 41,
   "metadata": {},
   "outputs": [
    {
     "name": "stdout",
     "output_type": "stream",
     "text": [
      "String Tensor:\n",
      "tf.Tensor(b'Hello, TensorFlow!', shape=(), dtype=string)\n",
      "String Tensor:\n",
      "tf.Tensor([b'apple' b'banana' b'orange'], shape=(3,), dtype=string)\n",
      "String Lengths:\n",
      "tf.Tensor([5 6 6], shape=(3,), dtype=int32)\n",
      "Concatenated String:\n",
      "tf.Tensor(b'Hello, TensorFlow', shape=(), dtype=string)\n",
      "String Element:\n",
      "tf.Tensor(b'apple', shape=(), dtype=string)\n"
     ]
    }
   ],
   "source": [
    "# Creating String Tensors\n",
    "\n",
    "import tensorflow as tf\n",
    "\n",
    "# Create a string tensor using tf.constant()\n",
    "string_tensor = tf.constant(\"Hello, TensorFlow!\")\n",
    "\n",
    "print(\"String Tensor:\")\n",
    "print(string_tensor)\n",
    "\n",
    "# Create a string tensor from a list of strings\n",
    "string_list = [\"apple\", \"banana\", \"orange\"]\n",
    "string_tensor = tf.constant(string_list)\n",
    "\n",
    "print(\"String Tensor:\")\n",
    "print(string_tensor)\n",
    "\n",
    "# Compute the length of each string in the tensor\n",
    "string_lengths = tf.strings.length(string_tensor)\n",
    "\n",
    "print(\"String Lengths:\")\n",
    "print(string_lengths)\n",
    "\n",
    "# Concatenate two string tensors\n",
    "string_tensor1 = tf.constant(\"Hello\")\n",
    "string_tensor2 = tf.constant(\"TensorFlow\")\n",
    "concatenated_string = tf.strings.join([string_tensor1, string_tensor2], separator=\", \")\n",
    "\n",
    "print(\"Concatenated String:\")\n",
    "print(concatenated_string)\n",
    "\n",
    "# Accessing individual string elements\n",
    "string_element = string_tensor[0]  # Access the first element of the string tensor\n",
    "\n",
    "print(\"String Element:\")\n",
    "print(string_element)"
   ]
  },
  {
   "cell_type": "markdown",
   "metadata": {},
   "source": [
    "# `Customizing Models and Training Algorithms`"
   ]
  },
  {
   "cell_type": "markdown",
   "metadata": {},
   "source": [
    "## 1. Custom Loss Functions"
   ]
  },
  {
   "cell_type": "markdown",
   "metadata": {},
   "source": [
    "### The Huber loss function\n",
    "* The Huber loss function combines the benefits of the mean squared error (MSE) for small errors and the mean absolute error (MAE) for large errors, resulting in a robust loss function that is less sensitive to outliers compared to pure MSE.\n",
    "* **Robustness to Outliers:** The Huber loss function is designed to be more robust to outliers compared to the traditional squared loss (mean squared error, MSE). It achieves this by treating errors differently based on their magnitude:\n"
   ]
  },
  {
   "cell_type": "code",
   "execution_count": 42,
   "metadata": {},
   "outputs": [],
   "source": [
    "def huber_fn(y_true, y_pred):\n",
    "    \"\"\"\n",
    "    Huber loss function implementation.\n",
    "    \"\"\"\n",
    "    # Calculate the error (difference between true and predicted values)\n",
    "    error = y_true - y_pred\n",
    "    # Determine which errors are considered \"small\" (absolute error < 1)\n",
    "    is_small_error = tf.abs(error) < 1\n",
    "    # Compute the squared loss for small errors (squared error / 2)\n",
    "    squared_loss = tf.square(error) / 2\n",
    "    # Compute the linear loss for large errors (absolute error - 0.5)\n",
    "    linear_loss = tf.abs(error) - 0.5\n",
    "    # Use a conditional statement to select between squared_loss and linear_loss\n",
    "    # based on whether the error is considered \"small\" or \"large\"\n",
    "    return tf.where(is_small_error, squared_loss, linear_loss)"
   ]
  },
  {
   "cell_type": "code",
   "execution_count": 43,
   "metadata": {},
   "outputs": [],
   "source": [
    "# # Visualizing the Huber loss function\n",
    "# import tensorflow as tf\n",
    "# import matplotlib.pyplot as plt\n",
    "# import numpy as np\n",
    "\n",
    "# plt.figure(figsize=(4, 2))\n",
    "# z = np.linspace(-4, 4, 200)\n",
    "# plt.plot(z, huber_fn(0, z), \"b-\", linewidth=2, label=\"huber($z$)\")\n",
    "# plt.plot(z, z**2 / 2, \"b:\", linewidth=1, label=r\"$\\frac{1}{2}z^2$\")\n",
    "# plt.plot([-1, -1], [0, huber_fn(0., -1.)], \"r--\")\n",
    "# plt.plot([1, 1], [0, huber_fn(0., 1.)], \"r--\")\n",
    "# plt.gca().axhline(y=0, color='k')\n",
    "# plt.gca().axvline(x=0, color='k')\n",
    "# plt.axis([-4, 4, 0, 4])\n",
    "# plt.grid(True)\n",
    "# plt.xlabel(\"$z$\")\n",
    "# plt.legend(fontsize=14)\n",
    "# plt.title(\"Huber loss\", fontsize=14)\n",
    "# plt.show()"
   ]
  },
  {
   "cell_type": "code",
   "execution_count": 44,
   "metadata": {},
   "outputs": [
    {
     "name": "stdout",
     "output_type": "stream",
     "text": [
      "Epoch 1/2\n",
      "363/363 [==============================] - 1s 2ms/step - loss: 0.6349 - mae: 0.9930 - val_loss: 0.2440 - val_mae: 0.5355\n",
      "Epoch 2/2\n",
      "363/363 [==============================] - 0s 1ms/step - loss: 0.2099 - mae: 0.5041 - val_loss: 0.1917 - val_mae: 0.4754\n"
     ]
    },
    {
     "data": {
      "text/plain": [
       "<keras.callbacks.History at 0x21db3c87460>"
      ]
     },
     "execution_count": 44,
     "metadata": {},
     "output_type": "execute_result"
    }
   ],
   "source": [
    "# Training Neural Network with Huber Loss using TensorFlow/Keras\n",
    "\n",
    "import tensorflow as tf\n",
    "from tensorflow import keras\n",
    "from sklearn.datasets import fetch_california_housing\n",
    "from sklearn.model_selection import train_test_split\n",
    "from sklearn.preprocessing import StandardScaler\n",
    "\n",
    "# Load the California housing dataset\n",
    "housing = fetch_california_housing()\n",
    "\n",
    "# Split the data into train, validation, and test sets\n",
    "X_train_full, X_test, y_train_full, y_test = train_test_split(\n",
    "    housing.data, housing.target.reshape(-1, 1), random_state=42)\n",
    "X_train, X_valid, y_train, y_valid = train_test_split(\n",
    "    X_train_full, y_train_full, random_state=42)\n",
    "\n",
    "# Standardize the input features using StandardScaler\n",
    "scaler = StandardScaler()\n",
    "X_train_scaled = scaler.fit_transform(X_train)\n",
    "X_valid_scaled = scaler.transform(X_valid)\n",
    "X_test_scaled = scaler.transform(X_test)\n",
    "\n",
    "# Define the Huber loss function for regression\n",
    "def huber_fn(y_true, y_pred):\n",
    "    error = y_true - y_pred\n",
    "    is_small_error = tf.abs(error) < 1\n",
    "    squared_loss = tf.square(error) / 2\n",
    "    linear_loss = tf.abs(error) - 0.5\n",
    "    return tf.where(is_small_error, squared_loss, linear_loss)\n",
    "\n",
    "# Determine the input shape for the neural network\n",
    "input_shape = X_train.shape[1:]\n",
    "\n",
    "# Build a sequential neural network model using Keras\n",
    "model = keras.models.Sequential([\n",
    "    keras.layers.Dense(30, activation=\"selu\", kernel_initializer=\"lecun_normal\",\n",
    "                       input_shape=input_shape),\n",
    "    keras.layers.Dense(1),\n",
    "])\n",
    "\n",
    "# Compile the model with Huber loss function and Nadam optimizer\n",
    "model.compile(loss=huber_fn, optimizer=\"nadam\", metrics=[\"mae\"])\n",
    "\n",
    "# Train the model on the scaled training data with validation data\n",
    "model.fit(X_train_scaled, y_train, epochs=2,\n",
    "          validation_data=(X_valid_scaled, y_valid))"
   ]
  },
  {
   "cell_type": "markdown",
   "metadata": {},
   "source": [
    "## 2. Saving/Loading Models with Custom Objects"
   ]
  },
  {
   "cell_type": "code",
   "execution_count": 45,
   "metadata": {},
   "outputs": [],
   "source": [
    "# Save the Model with the Custom Loss Function\n",
    "model.save(\"my_model_with_a_custom_loss.h5\")\n",
    "\n",
    "# Load the Model with the Custom Loss Function\n",
    "\n",
    "# Create a dictionary where you map the names of your functions or objects to\n",
    "# the actual functions or objects themselves. This dictionary will be used to \n",
    "# load and access these custom components later on. \n",
    "custom_objects={\"huber_fn\": huber_fn}\n",
    "\n",
    "model = keras.models.load_model(\"my_model_with_a_custom_loss.h5\",\n",
    "                                custom_objects)"
   ]
  },
  {
   "cell_type": "code",
   "execution_count": 46,
   "metadata": {},
   "outputs": [],
   "source": [
    "# The current implementation treats errors between –1 and 1 as \"small.\" If you need a different \n",
    "# threshold, one approach is to create a function that generates a customized loss function.\n",
    "\n",
    "def create_huber(threshold=1.0):\n",
    "    def huber_fn(y_true, y_pred):\n",
    "        error = y_true - y_pred\n",
    "        is_small_error = tf.abs(error) < threshold\n",
    "        squared_loss = tf.square(error) / 2\n",
    "        linear_loss = threshold * tf.abs(error) - threshold**2 / 2\n",
    "        return tf.where(is_small_error, squared_loss, linear_loss)\n",
    "    return huber_fn\n",
    "\n",
    "model.compile(loss=create_huber(2.0), optimizer=\"nadam\")\n",
    "\n",
    "# Save the Model with the Custom Loss Function\n",
    "model.save(\"my_model_with_a_custom_loss_threshold_2.h5\")\n",
    "\n",
    "# Unfortunately, the model doesn't save the threshold value along with it. Hence, you'll need to\n",
    "# specify the threshold when loading the model. Remember to use \"huber_fn\" as the name, which is\n",
    "# the name given to Keras, not the name of the function that created it.\n",
    "\n",
    "model = keras.models.load_model(\"my_model_with_a_custom_loss_threshold_2.h5\", custom_objects={\"huber_fn\":create_huber(2.0)})"
   ]
  },
  {
   "cell_type": "markdown",
   "metadata": {},
   "source": [
    "### Huber Loss: A Subclass of the `keras.losses.Loss` Class"
   ]
  },
  {
   "cell_type": "code",
   "execution_count": 47,
   "metadata": {},
   "outputs": [
    {
     "name": "stdout",
     "output_type": "stream",
     "text": [
      "Epoch 1/2\n",
      "363/363 [==============================] - 1s 1ms/step - loss: 0.7671 - mae: 0.9409 - val_loss: 0.5008 - val_mae: 0.6263\n",
      "Epoch 2/2\n",
      "363/363 [==============================] - 0s 980us/step - loss: 0.2474 - mae: 0.5074 - val_loss: 0.3947 - val_mae: 0.5672\n"
     ]
    },
    {
     "data": {
      "text/plain": [
       "' When you save a model, Keras calls the loss instance’s\\nget_config() method and saves the config as JSON in the HDF5 file. \\nTherefore the threshold will be saved along with it; and when you load the\\n model, you just need to map the class name to the class itself '"
      ]
     },
     "execution_count": 47,
     "metadata": {},
     "output_type": "execute_result"
    }
   ],
   "source": [
    "\"\"\"\n",
    "This class allows customization of the threshold\n",
    "defining 'small' errors.\n",
    "\"\"\"\n",
    "\n",
    "class HuberLoss(keras.losses.Loss):\n",
    "    def __init__(self, threshold=1.0, **kwargs):\n",
    "        self.threshold = threshold\n",
    "        super().__init__(**kwargs)\n",
    "    def call(self, y_true, y_pred):\n",
    "        error = y_true - y_pred\n",
    "        is_small_error = tf.abs(error) < self.threshold\n",
    "        squared_loss = tf.square(error) / 2\n",
    "        linear_loss  = self.threshold * tf.abs(error) - self.threshold**2 / 2\n",
    "        return tf.where(is_small_error, squared_loss, linear_loss)\n",
    "    def get_config(self):\n",
    "        base_config = super().get_config()\n",
    "        return {**base_config, \"threshold\": self.threshold} \n",
    "    \n",
    "\"\"\"\n",
    "The constructor of the class accepts any number of keyword arguments (**kwargs) \n",
    "and forwards them to the parent constructor. The parent constructor manages \n",
    "standard hyperparameters, including the name of the loss function and the \n",
    "reduction algorithm used to aggregate individual instance losses.\n",
    "\n",
    "**kwargs is a special syntax in Python that allows you to pass a variable number of keyword arguments\n",
    "to a function.\n",
    "\n",
    "The call() method takes the labels and predictions, computes all\n",
    "the instance losses, and returns them.\n",
    "\n",
    "The get_config() method returns a dictionary mapping each\n",
    "hyperparameter name to its value. It first calls the parent class’s\n",
    "get_config() method, then adds the new hyperparameters to this\n",
    "dictionary using {**x} syntax.\"\"\"\n",
    "\n",
    "# Define a sequential model using Keras\n",
    "model = keras.models.Sequential([\n",
    "    # First dense layer with 30 neurons, SELU activation, LeCun normal initialization, and input shape determined by input_shape variable\n",
    "    keras.layers.Dense(30, activation=\"selu\", kernel_initializer=\"lecun_normal\", input_shape=input_shape),\n",
    "    # Second dense layer with 1 neuron\n",
    "    keras.layers.Dense(1),\n",
    "])\n",
    "\n",
    "# Compile the model with HuberLoss as the loss function with threshold 2., Nadam optimizer, and Mean Absolute Error (MAE) as a metric\n",
    "model.compile(loss=HuberLoss(2.), optimizer=\"nadam\", metrics=[\"mae\"])\n",
    "\n",
    "# Train the model for 2 epochs using scaled training data and validation data\n",
    "model.fit(X_train_scaled, y_train, epochs=2, validation_data=(X_valid_scaled, y_valid))\n",
    "\n",
    "# Save the trained model with a custom loss class as an HDF5 file\n",
    "\n",
    "model.save(\"my_model_with_a_custom_loss_class.h5\")\n",
    "\n",
    "''' When you save a model, Keras calls the loss instance’s\n",
    "get_config() method and saves the config as JSON in the HDF5 file. \n",
    "Therefore the threshold will be saved along with it; and when you load the\n",
    " model, you just need to map the class name to the class itself '''"
   ]
  },
  {
   "cell_type": "code",
   "execution_count": 48,
   "metadata": {},
   "outputs": [
    {
     "name": "stdout",
     "output_type": "stream",
     "text": [
      "Epoch 1/2\n",
      "363/363 [==============================] - 1s 1ms/step - loss: 0.2340 - mae: 0.4977 - val_loss: 0.3024 - val_mae: 0.5278\n",
      "Epoch 2/2\n",
      "363/363 [==============================] - 0s 973us/step - loss: 0.2248 - mae: 0.4901 - val_loss: 0.2097 - val_mae: 0.4698\n"
     ]
    },
    {
     "data": {
      "text/plain": [
       "2.0"
      ]
     },
     "execution_count": 48,
     "metadata": {},
     "output_type": "execute_result"
    }
   ],
   "source": [
    "# Load the saved model from the HDF5 file, specifying the custom loss function class HuberLoss\n",
    "model = keras.models.load_model(\"my_model_with_a_custom_loss_class.h5\", custom_objects={\"HuberLoss\": HuberLoss})\n",
    "\n",
    "# Train the loaded model for 2 epochs using scaled training data and validation data\n",
    "model.fit(X_train_scaled, y_train, epochs=2, validation_data=(X_valid_scaled, y_valid))\n",
    "\n",
    "# Access the threshold attribute of the loss function used in the model\n",
    "model.loss.threshold"
   ]
  },
  {
   "cell_type": "markdown",
   "metadata": {},
   "source": [
    "## 3. Custom activation function\n",
    "####  `Softplus Activation Function`\n",
    "\n",
    "\n",
    "The softplus activation function is a smooth and continuous approximation of the ReLU (Rectified Linear Unit) activation function. It is defined mathematically as:\n",
    "\n",
    "$$\n",
    "\\text{softplus}(x) = \\log(1 + e^x)\n",
    "$$\n",
    "\n",
    "The key properties of the softplus function are:\n",
    "\n",
    "- **Smoothness**: The softplus function is a smooth and differentiable function, meaning it is continuous and has a well-defined derivative at all points.\n",
    "\n",
    "- **Range**: The range of the softplus function is (0, infty), which means it always produces positive output values.\n",
    "\n",
    "In summary, both softplus and ReLU are popular activation functions in neural networks. Softplus provides a smooth alternative to ReLU while retaining its desirable properties, making it suitable for hidden layers in neural networks. ReLU, on the other hand, is widely used due to its simplicity, efficiency, and ability to introduce non-linearity to the network.\n"
   ]
  },
  {
   "cell_type": "code",
   "execution_count": 49,
   "metadata": {},
   "outputs": [
    {
     "data": {
      "image/png": "[encoded data removed]",
      "text/plain": [
       "<Figure size 400x300 with 1 Axes>"
      ]
     },
     "metadata": {},
     "output_type": "display_data"
    }
   ],
   "source": [
    "import numpy as np\n",
    "import matplotlib.pyplot as plt\n",
    "\n",
    "# Define the range of x values\n",
    "x = np.linspace(-10, 10, 100)\n",
    "\n",
    "# Define the ReLU function\n",
    "def relu(x):\n",
    "    return np.maximum(0, x)\n",
    "\n",
    "# Define the softplus function\n",
    "def softplus(x):\n",
    "    return np.log1p(np.exp(x))\n",
    "\n",
    "# Plot ReLU and softplus functions\n",
    "plt.figure(figsize=(4, 3))\n",
    "plt.plot(x, relu(x), label='ReLU', color='blue')\n",
    "plt.plot(x, softplus(x), label='Softplus', color='red')\n",
    "\n",
    "# Add labels and title\n",
    "plt.xlabel('x')\n",
    "plt.ylabel('Activation')\n",
    "plt.title('ReLU vs Softplus Activation Function')\n",
    "plt.legend()\n",
    "\n",
    "# Show the plot\n",
    "plt.grid(True)\n",
    "plt.show()"
   ]
  },
  {
   "cell_type": "markdown",
   "metadata": {},
   "source": [
    "## 4. Custom initializer\n",
    "####  `Glorot initializer`\n",
    "\n",
    "The Glorot initializer, also known as Xavier initializer, is a method for initializing the weights of neural network layers. It was proposed by Xavier Glorot and Yoshua Bengio in their paper \"Understanding the difficulty of training deep feedforward neural networks\".\n",
    "\n",
    "- The goal of Glorot initialization is to keep the scale of the gradients roughly the same across different layers of the network, which helps to prevent the gradients from vanishing or exploding during training.\n",
    "\n",
    "- The Glorot initializer initializes the weights of a layer by drawing them from a uniform or normal distribution with zero mean and a variance that depends on the number of input and output units of the layer. The variance is typically calculated as a function of the number of input and output units, which helps in ensuring that the weights are initialized in such a way that the signal from the input layer doesn't vanish or explode as it passes through the network."
   ]
  },
  {
   "cell_type": "markdown",
   "metadata": {},
   "source": [
    "## 5. Custom regularizer\n",
    "####  `ℓ1 Regularization`\n",
    "\n",
    " In ℓ1 regularization, the penalty term added to the loss function is the absolute sum of the weights' magnitudes. \n",
    " - It encourages sparsity in the weight vectors, effectively pushing some weights to exactly zero. \n",
    " - This can be useful for feature selection and model simplification."
   ]
  },
  {
   "cell_type": "markdown",
   "metadata": {},
   "source": [
    "## 5. Custom constraint\n",
    "####  `Non negative constraint`\n",
    "\n",
    "A custom constraint that ensures weights are all positive can be implemented by defining a function that enforces this constraint and using it when defining the weights of a neural network layer. "
   ]
  },
  {
   "cell_type": "code",
   "execution_count": 50,
   "metadata": {},
   "outputs": [],
   "source": [
    "## Activation function\n",
    "def my_softplus(z): \n",
    "    \"\"\"\n",
    "    Compute the softplus function, which is a smooth approximation of ReLU.\n",
    "    \n",
    "    Args:\n",
    "        z: Input tensor.\n",
    "    \n",
    "    Returns:\n",
    "        Output tensor after applying the softplus function.\n",
    "    \"\"\"\n",
    "    return tf.math.log(tf.exp(z) + 1.0)\n",
    "\n",
    "## Initializer\n",
    "def my_glorot_initializer(shape, dtype=tf.float32):\n",
    "    \"\"\"\n",
    "    Initialize weights using Glorot initialization (also known as Xavier initialization).\n",
    "    \n",
    "    Args:\n",
    "        shape: Shape of the weight tensor.\n",
    "        dtype: Data type of the weights.\n",
    "    \n",
    "    Returns:\n",
    "        Initialized weight tensor.\n",
    "    \"\"\"\n",
    "    stddev = tf.sqrt(2. / (shape[0] + shape[1]))\n",
    "    return tf.random.normal(shape, stddev=stddev, dtype=dtype)\n",
    "\n",
    "## Regulizer\n",
    "def my_l1_regularizer(weights):\n",
    "    \"\"\"\n",
    "    Compute the L1 regularization term.\n",
    "    \n",
    "    Args:\n",
    "        weights: Weight tensor.\n",
    "    \n",
    "    Returns:\n",
    "        L1 regularization term.\n",
    "    \"\"\"\n",
    "    return tf.reduce_sum(tf.abs(0.01 * weights))\n",
    "\n",
    "## Constraint\n",
    "def my_positive_weights(weights):\n",
    "    \"\"\"\n",
    "    Custom constraint ensuring all weights are positive.\n",
    "    \n",
    "    Args:\n",
    "        weights: Weight tensor.\n",
    "    \n",
    "    Returns:\n",
    "        Weight tensor with negative values replaced by zero.\n",
    "    \"\"\"\n",
    "    return tf.where(weights < 0., tf.zeros_like(weights), weights)\n",
    "\n",
    "## These custom functions can then be used normally, for example: \n",
    "layer = keras.layers.Dense(1, activation=my_softplus,\n",
    "                           kernel_initializer=my_glorot_initializer,\n",
    "                           kernel_regularizer=my_l1_regularizer,\n",
    "                           kernel_constraint=my_positive_weights)"
   ]
  },
  {
   "cell_type": "code",
   "execution_count": 51,
   "metadata": {},
   "outputs": [
    {
     "name": "stdout",
     "output_type": "stream",
     "text": [
      "Epoch 1/2\n",
      "363/363 [==============================] - 1s 1ms/step - loss: 1.6597 - mae: 0.9039 - val_loss: inf - val_mae: inf\n",
      "Epoch 2/2\n",
      "363/363 [==============================] - 0s 946us/step - loss: 0.6407 - mae: 0.5247 - val_loss: inf - val_mae: inf\n"
     ]
    }
   ],
   "source": [
    "#  Train, and save a neural network model using the Keras API with several custom components:\n",
    "# - Custom softplus activation function\n",
    "# - Custom Glorot initializer\n",
    "# - Custom L1 regularization\n",
    "# - Custom positive weights constraint\n",
    "\n",
    "\n",
    "# Clear any previous TensorFlow session to avoid cluttering memory\n",
    "keras.backend.clear_session()\n",
    "\n",
    "# Set random seeds for reproducibility\n",
    "np.random.seed(42)\n",
    "tf.random.set_seed(42)\n",
    "\n",
    "# Define the neural network model\n",
    "model = keras.models.Sequential([\n",
    "    # First hidden layer with SELU activation and LeCun normal initialization\n",
    "    keras.layers.Dense(30, activation=\"selu\", kernel_initializer=\"lecun_normal\",\n",
    "                       input_shape=input_shape),\n",
    "    # Output layer with custom softplus activation, L1 regularization, positive weights constraint,\n",
    "    # and Glorot initialization\n",
    "    keras.layers.Dense(1, activation=my_softplus,\n",
    "                       kernel_regularizer=my_l1_regularizer,\n",
    "                       kernel_constraint=my_positive_weights,\n",
    "                       kernel_initializer=my_glorot_initializer),\n",
    "])\n",
    "\n",
    "# Compile the model with Mean Squared Error loss and Nadam optimizer\n",
    "model.compile(loss=\"mse\", optimizer=\"nadam\", metrics=[\"mae\"])\n",
    "\n",
    "# Train the model on the training data with validation data for 2 epochs\n",
    "model.fit(X_train_scaled, y_train, epochs=2,\n",
    "          validation_data=(X_valid_scaled, y_valid))\n",
    "\n",
    "# Save the trained model to a file\n",
    "model.save(\"my_model_with_many_custom_parts.h5\")\n",
    "\n",
    "# Load the trained model\n",
    "model = keras.models.load_model(\n",
    "    \"my_model_with_many_custom_parts.h5\",\n",
    "    custom_objects={\n",
    "       \"my_l1_regularizer\": my_l1_regularizer,\n",
    "       \"my_positive_weights\": my_positive_weights,\n",
    "       \"my_glorot_initializer\": my_glorot_initializer,\n",
    "       \"my_softplus\": my_softplus,\n",
    "    })\n"
   ]
  },
  {
   "cell_type": "markdown",
   "metadata": {},
   "source": [
    "**Saving hyperparameters of custom functions**\n",
    "\n",
    "If a function has hyperparameters that need to be saved along with the model, it's often beneficial to subclass the appropriate class from Keras. Here are the classes you can `subclass` depending on the type of function:\n",
    "\n",
    "- **Regularizers**: If you have a function that computes a regularization term and it has hyperparameters that need to be saved with the model, subclass `keras.regularizers.Regularizer`. This allows you to define your custom regularization function along with its hyperparameters and ensure they are saved and loaded along with the model.\n",
    "- **Constraints**: If you have a function that imposes constraints on the model's weights and has hyperparameters, subclass `keras.constraints`.Constraint. This allows you to define your custom constraint function along with its hyperparameters and ensure they are saved and loaded along with the model.\n",
    "- **Initializers**: If you have a function that initializes the model's weights and has hyperparameters, subclass `keras.initializers.Initializer`. This allows you to define your custom initialization function along with its hyperparameters and ensure they are saved and loaded along with the model.\n",
    "- **Layers**: If you have a custom layer or activation function that requires hyperparameters to be saved along with the model, subclass `keras.layers.Layer`. This allows you to define your custom layer or activation function with its hyperparameters and ensure they are saved and loaded along with the model.\n",
    "\n",
    "**Note** that for losses, layers (including activation functions), and models, you must implement the `call()` method. However, for regularizers, initializers, and constraints, you should implement the `__call__()` method. Metrics have a slightly different requirement, as we'll discuss next."
   ]
  },
  {
   "cell_type": "code",
   "execution_count": 52,
   "metadata": {},
   "outputs": [],
   "source": [
    "# Define a custom L1 regularizer subclassing keras.regularizers.Regularizer.\n",
    "# This allows the custom regularization function to be saved and loaded along with the model,\n",
    "# ensuring consistency in behavior across different instances of the model.\n",
    "\n",
    "class MyL1Regularizer(keras.regularizers.Regularizer):\n",
    "    def __init__(self, factor):\n",
    "        # Initialize the custom L1 regularizer.\n",
    "        self.factor = factor\n",
    "    \n",
    "    def __call__(self, weights):\n",
    "        # Compute the L1 regularization term.\n",
    "        return tf.reduce_sum(tf.abs(self.factor * weights))\n",
    "    \n",
    "    def get_config(self):\n",
    "        \"\"\"\n",
    "        Get the configuration of the regularizer.\n",
    "        Returns:\n",
    "            A dictionary containing the configuration of the regularizer,\n",
    "            including the value of the hyperparameter factor.\n",
    "        \"\"\"\n",
    "        return {\"factor\": self.factor}\n"
   ]
  },
  {
   "cell_type": "code",
   "execution_count": 53,
   "metadata": {},
   "outputs": [
    {
     "name": "stdout",
     "output_type": "stream",
     "text": [
      "Epoch 1/2\n",
      "363/363 [==============================] - 1s 1ms/step - loss: 1.9016 - mae: 0.9591 - val_loss: inf - val_mae: inf\n",
      "Epoch 2/2\n",
      "363/363 [==============================] - 0s 984us/step - loss: 0.7036 - mae: 0.5331 - val_loss: inf - val_mae: inf\n"
     ]
    }
   ],
   "source": [
    "# Train, and save a neural network model using the Keras API with several custom components:\n",
    "# - Custom softplus activation function\n",
    "# - Custom Glorot initializer\n",
    "# - Custom L1 regularization (Hyperparameters is reserved)\n",
    "# - Custom positive weights constraint\n",
    "# It also illustrates how to load the saved model with custom components.\n",
    "\n",
    "# Clear any previous TensorFlow session to avoid cluttering memory\n",
    "keras.backend.clear_session()\n",
    "\n",
    "# Set random seeds for reproducibility\n",
    "np.random.seed(42)\n",
    "tf.random.set_seed(42)\n",
    "\n",
    "# Define the neural network model\n",
    "model = keras.models.Sequential([\n",
    "    # First hidden layer with SELU activation and LeCun normal initialization\n",
    "    keras.layers.Dense(30, activation=\"selu\", kernel_initializer=\"lecun_normal\",\n",
    "                       input_shape=input_shape),\n",
    "    # Output layer with custom softplus activation, custom L1 regularization,\n",
    "    # positive weights constraint, and Glorot initialization\n",
    "    keras.layers.Dense(1, activation=my_softplus,\n",
    "                       kernel_regularizer=MyL1Regularizer(0.01),\n",
    "                       kernel_constraint=my_positive_weights,\n",
    "                       kernel_initializer=my_glorot_initializer),\n",
    "])\n",
    "\n",
    "# Compile the model with Mean Squared Error loss and Nadam optimizer\n",
    "model.compile(loss=\"mse\", optimizer=\"nadam\", metrics=[\"mae\"])\n",
    "\n",
    "# Train the model on the training data with validation data for 2 epochs\n",
    "model.fit(X_train_scaled, y_train, epochs=2,\n",
    "          validation_data=(X_valid_scaled, y_valid))\n",
    "\n",
    "# Save the trained model to a file\n",
    "model.save(\"my_model_with_many_custom_parts.h5\")\n",
    "\n",
    "# Load the saved model with custom components\n",
    "model = keras.models.load_model(\n",
    "    \"my_model_with_many_custom_parts.h5\",\n",
    "    custom_objects={\n",
    "       \"MyL1Regularizer\": MyL1Regularizer,\n",
    "       \"my_positive_weights\": my_positive_weights,\n",
    "       \"my_glorot_initializer\": my_glorot_initializer,\n",
    "       \"my_softplus\": my_softplus,\n",
    "    })"
   ]
  },
  {
   "cell_type": "markdown",
   "metadata": {},
   "source": [
    "## 6. Custom Metrics\n",
    "\n",
    "While both *losses* and *metrics* are used to assess model performance, their roles, characteristics, and requirements differ significantly. Loss functions drive the optimization process during training, requiring differentiability, while evaluation metrics provide interpretable measures of model performance.\n",
    "\n",
    "1. **Loss Functions:**\n",
    "\n",
    "- Loss functions, such as cross-entropy for classification tasks or mean squared error for regression tasks, are primarily used during the training phase of a machine learning model. They measure the discrepancy between the predicted outputs of the model and the actual target values.\n",
    "- Loss functions need to be differentiable (at least in regions where they are evaluated) because they are used to compute gradients during backpropagation, which is essential for updating the model parameters (weights) using gradient descent or its variants.\n",
    "- While interpretability is not a primary concern for loss functions, they should accurately capture the notion of error between predictions and ground truth to guide the optimization process effectively.\n",
    "\n",
    "2. **Evaluation Metrics:**\n",
    "\n",
    "- Evaluation metrics, such as accuracy, precision, recall, F1-score, etc., are used to assess the performance of a trained model.\n",
    "- They provide interpretable measures of model performance that are often more intuitive for humans to understand.\n",
    "- Unlike loss functions, evaluation metrics do not need to be differentiable or have non-zero gradients everywhere. Their primary purpose is to offer insights into how well the model is performing on a given task.\n",
    "- While loss functions are optimized directly during training, evaluation metrics are used to gauge the model's performance on validation or test data and guide decisions such as model selection or hyperparameter tuning.\n",
    "\n",
    "However, typically, creating a custom metric function mirrors the process of creating a custom loss function. Essentially, we could employ the `Huber loss function` we previously established as a metric without any significant modification."
   ]
  },
  {
   "cell_type": "code",
   "execution_count": 54,
   "metadata": {},
   "outputs": [
    {
     "name": "stdout",
     "output_type": "stream",
     "text": [
      "Epoch 1/2\n",
      "363/363 [==============================] - 1s 748us/step - loss: 2.5993 - huber_fn: 0.9986\n",
      "Epoch 2/2\n",
      "363/363 [==============================] - 0s 722us/step - loss: 0.6789 - huber_fn: 0.2673\n"
     ]
    },
    {
     "data": {
      "text/plain": [
       "<keras.callbacks.History at 0x21db9f04250>"
      ]
     },
     "execution_count": 54,
     "metadata": {},
     "output_type": "execute_result"
    }
   ],
   "source": [
    "# Clear any previous TensorFlow session to avoid cluttering memory\n",
    "keras.backend.clear_session()\n",
    "\n",
    "# Set random seeds for reproducibility\n",
    "np.random.seed(42)\n",
    "tf.random.set_seed(42)\n",
    "\n",
    "# Define the neural network model\n",
    "model = keras.models.Sequential([\n",
    "    # First hidden layer with SELU activation and LeCun normal initialization\n",
    "    keras.layers.Dense(30, activation=\"selu\", kernel_initializer=\"lecun_normal\",\n",
    "                       input_shape=input_shape),\n",
    "    # Output layer\n",
    "    keras.layers.Dense(1),\n",
    "])\n",
    "\n",
    "# Compile the model with Mean Squared Error loss and Nadam optimizer,\n",
    "# along with a custom Huber metric with delta parameter set to 2.0\n",
    "model.compile(loss=\"mse\", optimizer=\"nadam\", metrics=[create_huber(2.0)])\n",
    "\n",
    "# Train the model on the training data for 2 epochs\n",
    "model.fit(X_train_scaled, y_train, epochs=2)"
   ]
  },
  {
   "cell_type": "markdown",
   "metadata": {},
   "source": [
    "**Note**: When you use the same function as both the loss and a metric, you might see slightly different results. This is mainly because of how numbers are stored and handled in computers, which can lead to tiny differences in the final values.\n",
    "\n",
    "To add to that, when you're working with sample weights (which give more importance to some data points over others), things get a bit more complex:\n",
    "\n",
    "- The loss that's calculated during training is like an average of all the batch losses seen so far. Each batch loss is the sum of the losses for each data point, divided by the number of data points in that batch.\n",
    "- The metric, however, is more like a weighted average of all the individual losses, taking into account the sample weights. It's not exactly the same calculation as the loss.\n",
    "\n",
    "In simple terms, if you do the math, you'll find that the loss is basically the metric multiplied by the average of the sample weights, plus a tiny bit of error due to how computers handle numbers."
   ]
  },
  {
   "cell_type": "code",
   "execution_count": 55,
   "metadata": {},
   "outputs": [
    {
     "name": "stdout",
     "output_type": "stream",
     "text": [
      "Epoch 1/2\n",
      "363/363 [==============================] - 1s 745us/step - loss: 0.1165 - huber_fn: 0.2359\n",
      "Epoch 2/2\n",
      "363/363 [==============================] - 0s 737us/step - loss: 0.1119 - huber_fn: 0.2265\n"
     ]
    },
    {
     "data": {
      "text/plain": [
       "(0.116495780646801, 0.11707140670633844)"
      ]
     },
     "execution_count": 55,
     "metadata": {},
     "output_type": "execute_result"
    }
   ],
   "source": [
    "# Compile the model with a custom Huber loss function with delta parameter set to 2.0,\n",
    "# Nadam optimizer, and a custom Huber metric.\n",
    "model.compile(loss=create_huber(2.0), optimizer=\"nadam\", metrics=[create_huber(2.0)])\n",
    "\n",
    "# Generate random sample weights for each training sample.\n",
    "sample_weight = np.random.rand(len(y_train))\n",
    "\n",
    "# Train the model on the scaled training data for 2 epochs with the specified sample weights.\n",
    "history = model.fit(X_train_scaled, y_train, epochs=2, sample_weight=sample_weight)\n",
    "\n",
    "# Compare the first epoch's loss computed from history with the product of the first epoch's Huber metric\n",
    "# and the mean of the sample weights. \n",
    "history.history[\"loss\"][0], history.history[\"huber_fn\"][0] * sample_weight.mean()"
   ]
  },
  {
   "cell_type": "markdown",
   "metadata": {},
   "source": [
    "### **Streaming metrics**\n",
    "\n",
    "**Note**: During training, Keras calculates and tracks the mean of metrics for each batch since the start of the epoch. While this is usually fine, it may not always reflect what you need.  \n",
    "\n",
    "* Consider a binary classifier’s **precision**, for example. The  precision is the number of true positives divided by the number of positive predictions. Suppose the model made five positive predictions in the first batch, four of which were correct: that’s 80% precision. Then suppose the model made three positive predictions in the second batch, but they were all incorrect: that’s 0% precision for the second batch. If you just compute the mean of these two precisions, you\n",
    "get 40%. But wait a second—that’s not the model’s precision over these\n",
    "two batches! Indeed, there were a total of four true positives (4 + 0) out of eight positive predictions (5 + 3), so the overall precision is 50%, not\n",
    "40%.\n",
    "\n",
    "* What's required is an object like `keras.metrics.Precision` that keeps count of true positives and false positives and computes their ratio accurately.\n",
    "\n",
    "This is called a **streaming metric** (or *stateful metric*), as it is gradually updated, batch after batch."
   ]
  },
  {
   "cell_type": "code",
   "execution_count": 56,
   "metadata": {},
   "outputs": [
    {
     "name": "stdout",
     "output_type": "stream",
     "text": [
      "tf.Tensor(0.8, shape=(), dtype=float32)\n",
      "tf.Tensor(0.5, shape=(), dtype=float32)\n"
     ]
    }
   ],
   "source": [
    "# This code snippet demonstrates the usage of the precision metric in Keras.\n",
    "# It calculates precision for two sets of predictions and labels and retrieves the result.\n",
    "# Additionally, it showcases how to access the variables associated with the precision metric\n",
    "# and how to reset its states.\n",
    "\n",
    "# Creating a precision metric object\n",
    "precision = keras.metrics.Precision()\n",
    "\n",
    "# Calculating precision for the first set of predictions and labels\n",
    "precision([0, 1, 1, 1, 0, 1, 0, 1], [1, 1, 0, 1, 0, 1, 0, 1])\n",
    "\n",
    "# Getting the result of precision calculation\n",
    "print(precision.result())\n",
    "\n",
    "# Calculating precision for the second set of predictions and labels\n",
    "precision([0, 1, 0, 0, 1, 0, 1, 1], [1, 0, 1, 1, 0, 0, 0, 0])\n",
    "\n",
    "# Getting the result of precision calculation\n",
    "print(precision.result())\n",
    "\n",
    "# Getting the variables associated with the precision metric\n",
    "precision.variables\n",
    "\n",
    "# Resetting the states of the precision metric\n",
    "precision.reset_states()\n"
   ]
  },
  {
   "cell_type": "markdown",
   "metadata": {},
   "source": [
    "### **Streaming metrics:** `HuberMetric` class\n",
    "* A simple example that keeps track of the total Huber loss and the number of instances seen so far. \n",
    "* When asked for the result, it returns the ratio, which is simply the mean Huber loss."
   ]
  },
  {
   "cell_type": "code",
   "execution_count": 57,
   "metadata": {},
   "outputs": [],
   "source": [
    "class HuberMetric(keras.metrics.Mean):\n",
    "    def __init__(self, threshold=1.0, name='HuberMetric', dtype=None):\n",
    "        \"\"\"\n",
    "        Initializes the HuberMetric instance.\n",
    "\n",
    "        Args:\n",
    "            threshold (float): Threshold value for the Huber loss function.\n",
    "            name (str): Name of the metric.\n",
    "            dtype (tf.dtypes.DType): Data type of the metric result.\n",
    "        \"\"\"\n",
    "        self.threshold = threshold\n",
    "        self.huber_fn = create_huber(threshold)\n",
    "        super().__init__(name=name, dtype=dtype)\n",
    "        \n",
    "    def update_state(self, y_true, y_pred, sample_weight=None):\n",
    "        \"\"\"\n",
    "        Updates the state of the metric based on the true and predicted values.\n",
    "\n",
    "        Args:\n",
    "            y_true (tf.Tensor): True values.\n",
    "            y_pred (tf.Tensor): Predicted values.\n",
    "            sample_weight (tf.Tensor): Optional sample weights.\n",
    "\n",
    "        \"\"\"\n",
    "        metric = self.huber_fn(y_true, y_pred)\n",
    "        super().update_state(metric, sample_weight)\n",
    "        \n",
    "    def get_config(self):\n",
    "        \"\"\"\n",
    "        Returns the configuration of the metric.\n",
    "\n",
    "        Returns:\n",
    "            dict: Configuration dictionary.\n",
    "        \"\"\"\n",
    "        base_config = super().get_config()\n",
    "        return {**base_config, \"threshold\": self.threshold}\n"
   ]
  },
  {
   "cell_type": "code",
   "execution_count": 58,
   "metadata": {},
   "outputs": [
    {
     "name": "stdout",
     "output_type": "stream",
     "text": [
      "Epoch 1/2\n",
      "363/363 [==============================] - 1s 770us/step - loss: 0.4756 - HuberMetric: 0.9585\n",
      "Epoch 2/2\n",
      "363/363 [==============================] - 0s 798us/step - loss: 0.1229 - HuberMetric: 0.2476\n",
      "Epoch 1/2\n",
      "363/363 [==============================] - 1s 810us/step - loss: 0.2308 - HuberMetric: 0.2308\n",
      "Epoch 2/2\n",
      "363/363 [==============================] - 0s 944us/step - loss: 0.2206 - HuberMetric: 0.2206\n"
     ]
    },
    {
     "data": {
      "text/plain": [
       "2.0"
      ]
     },
     "execution_count": 58,
     "metadata": {},
     "output_type": "execute_result"
    }
   ],
   "source": [
    "# Let's check that the `HuberMetric` class works well:\n",
    "\n",
    "# Clearing any existing Keras sessions to ensure a fresh start\n",
    "keras.backend.clear_session()\n",
    "\n",
    "# Setting random seeds for reproducibility\n",
    "np.random.seed(42)\n",
    "tf.random.set_seed(42)\n",
    "\n",
    "# Creating a simple neural network model\n",
    "model = keras.models.Sequential([\n",
    "    keras.layers.Dense(30, activation=\"selu\", kernel_initializer=\"lecun_normal\",\n",
    "                       input_shape=input_shape),\n",
    "    keras.layers.Dense(1),\n",
    "])\n",
    "\n",
    "# Compiling the model with a custom Huber loss function and the HuberMetric\n",
    "model.compile(loss=keras.losses.Huber(2.0), optimizer=\"nadam\", weighted_metrics=[HuberMetric(2.0)])\n",
    "\n",
    "# Generating sample weights for the training data\n",
    "sample_weight = np.random.rand(len(y_train))\n",
    "\n",
    "# Training the model for 2 epochs\n",
    "history = model.fit(X_train_scaled.astype(np.float32), y_train.astype(np.float32),\n",
    "                    epochs=2, sample_weight=sample_weight)\n",
    "\n",
    "# Calculating and printing the loss and metric value for the first epoch\n",
    "history.history[\"loss\"][0], history.history[\"HuberMetric\"][0] * sample_weight.mean()\n",
    "\n",
    "# Saving the model with the custom metric to disk\n",
    "model.save(\"my_model_with_a_custom_metric_v2.h5\")\n",
    "\n",
    "# Loading the model with the custom metric from disk\n",
    "model = keras.models.load_model(\"my_model_with_a_custom_metric_v2.h5\",\n",
    "                                custom_objects={\"HuberMetric\": HuberMetric})\n",
    "\n",
    "# Fine-tuning the loaded model for 2 more epochs\n",
    "model.fit(X_train_scaled.astype(np.float32), y_train.astype(np.float32), epochs=2)\n",
    "\n",
    "# Retrieving and printing the threshold value of the last metric in the model\n",
    "model.metrics[-1].threshold"
   ]
  },
  {
   "cell_type": "markdown",
   "metadata": {},
   "source": [
    "## 6. Custom Layers\n",
    "\n",
    "- When TensorFlow lacks a needed layer or you want to simplify repetitive patterns, you can create custom layers. For example, if your model repeatedly uses layers A, B, C, you could group them into a custom layer D. This makes the model easier to manage."
   ]
  },
  {
   "cell_type": "markdown",
   "metadata": {},
   "source": [
    "### *Exponential layer*\n",
    "* Adding an exponential layer at the output of a regression model can be useful if the values to predict are positive and with very different scales (e.g., 0.001, 10., 10000):"
   ]
  },
  {
   "cell_type": "code",
   "execution_count": 59,
   "metadata": {},
   "outputs": [
    {
     "data": {
      "text/plain": [
       "<tf.Tensor: shape=(3,), dtype=float32, numpy=array([0.36787945, 1.        , 2.7182817 ], dtype=float32)>"
      ]
     },
     "execution_count": 59,
     "metadata": {},
     "output_type": "execute_result"
    }
   ],
   "source": [
    "# Define a custom layer using Lambda to apply the exponential function\n",
    "exponential_layer = keras.layers.Lambda(lambda x: tf.exp(x))\n",
    "\n",
    "# Apply the exponential_layer to a sample input\n",
    "exponential_layer([-1., 0., 1.])\n"
   ]
  },
  {
   "cell_type": "code",
   "execution_count": 60,
   "metadata": {},
   "outputs": [
    {
     "name": "stdout",
     "output_type": "stream",
     "text": [
      "Epoch 1/5\n",
      "363/363 [==============================] - 1s 1ms/step - loss: 0.9543 - val_loss: 0.4266\n",
      "Epoch 2/5\n",
      "363/363 [==============================] - 0s 877us/step - loss: 0.4196 - val_loss: 0.3605\n",
      "Epoch 3/5\n",
      "363/363 [==============================] - 0s 910us/step - loss: 0.3964 - val_loss: 0.3456\n",
      "Epoch 4/5\n",
      "363/363 [==============================] - 0s 907us/step - loss: 0.3850 - val_loss: 0.3519\n",
      "Epoch 5/5\n",
      "363/363 [==============================] - 0s 899us/step - loss: 0.3715 - val_loss: 0.3407\n",
      "162/162 [==============================] - 0s 605us/step - loss: 0.3591\n"
     ]
    },
    {
     "data": {
      "text/plain": [
       "0.3590782582759857"
      ]
     },
     "execution_count": 60,
     "metadata": {},
     "output_type": "execute_result"
    }
   ],
   "source": [
    "# Clear any previous TensorFlow session and set random seeds for reproducibility\n",
    "keras.backend.clear_session()\n",
    "np.random.seed(42)\n",
    "tf.random.set_seed(42)\n",
    "\n",
    "# Define and compile the neural network model\n",
    "model = keras.models.Sequential([\n",
    "    keras.layers.Dense(30, activation=\"relu\", input_shape=input_shape),\n",
    "    keras.layers.Dense(1),\n",
    "    exponential_layer  # Apply the custom exponential layer\n",
    "])\n",
    "model.compile(loss=\"mse\", optimizer=\"sgd\")\n",
    "\n",
    "# Train the model on training data and validate on validation data\n",
    "model.fit(X_train_scaled, y_train, epochs=5,\n",
    "          validation_data=(X_valid_scaled, y_valid))\n",
    "\n",
    "# Evaluate the model on test data\n",
    "model.evaluate(X_test_scaled, y_test)\n"
   ]
  },
  {
   "cell_type": "markdown",
   "metadata": {},
   "source": [
    "### *A custom stateful layer*\n",
    "* A layer that **maintains internal state** during training and inference. \n",
    "* This internal state typically includes trainable parameters (weights) that are updated during training based on the input data and optimization algorithm.\n",
    "* Custom stateful layers are subclasses of `keras.layers.Layer` in TensorFlow/Keras. \n",
    "* By creating custom stateful layers, you have more flexibility in defining complex architectures and operations that are not directly available in the standard layer implementations provided by TensorFlow/Keras. This allows you to implement custom behavior, such as specialized activations, custom regularization techniques, or layers with memory."
   ]
  },
  {
   "cell_type": "code",
   "execution_count": 61,
   "metadata": {},
   "outputs": [],
   "source": [
    "class MyDense(keras.layers.Layer):\n",
    "    # Define a custom layer named MyDense, inheriting from keras.layers.Layer\n",
    "\n",
    "    def __init__(self, units, activation=None, **kwargs):\n",
    "        # Initialize the custom layer with specified number of neurons and activation function\n",
    "        super().__init__(**kwargs)\n",
    "        # Call the constructor of the parent class with any additional keyword arguments\n",
    "        self.units = units\n",
    "        # Store the number of units for the layer\n",
    "        self.activation = keras.activations.get(activation)\n",
    "        # Retrieve and store the activation function\n",
    "\n",
    "    def build(self, batch_input_shape):\n",
    "        # Define the build method, called when the layer is first used\n",
    "        self.kernel = self.add_weight(\n",
    "            name=\"kernel\", shape=[batch_input_shape[-1], self.units],\n",
    "            initializer=\"glorot_normal\")\n",
    "        # Add a trainable weight variable (kernel = weight matrix) initialized with glorot_normal\n",
    "        self.bias = self.add_weight(\n",
    "            name=\"bias\", shape=[self.units], initializer=\"zeros\")\n",
    "        # Add a trainable bias variable initialized with zeros\n",
    "        super().build(batch_input_shape)\n",
    "        # Call the build method of the parent class to finalize the build process\n",
    "\n",
    "    def call(self, X):\n",
    "        # Define the call method, which performs the forward pass computation\n",
    "        return self.activation(X @ self.kernel + self.bias)\n",
    "        # Compute the output by applying activation to the linear transformation\n",
    "\n",
    "    def compute_output_shape(self, batch_input_shape):\n",
    "        # Define the method to compute the output shape based on input shape and units\n",
    "        return tf.TensorShape(batch_input_shape.as_list()[:-1] + [self.units])\n",
    "        # Compute and return the output shape as a TensorShape object\n",
    "\n",
    "    def get_config(self):\n",
    "        # Define the method to get the configuration of the layer\n",
    "        base_config = super().get_config()\n",
    "        # Get the base configuration from the parent class\n",
    "        return {**base_config, \"units\": self.units,\n",
    "                \"activation\": keras.activations.serialize(self.activation)}\n",
    "        # Return a dictionary containing the layer's configuration\n"
   ]
  },
  {
   "cell_type": "code",
   "execution_count": 62,
   "metadata": {},
   "outputs": [
    {
     "name": "stdout",
     "output_type": "stream",
     "text": [
      "Epoch 1/2\n",
      "363/363 [==============================] - 1s 994us/step - loss: 1.3438 - val_loss: 0.7429\n",
      "Epoch 2/2\n",
      "363/363 [==============================] - 0s 824us/step - loss: 0.5619 - val_loss: 0.5038\n",
      "162/162 [==============================] - 0s 602us/step - loss: 0.4989\n"
     ]
    }
   ],
   "source": [
    "# Using custom dense layers for training\n",
    "\n",
    "# Clear any previous TensorFlow session and set random seeds for reproducibility\n",
    "keras.backend.clear_session()\n",
    "np.random.seed(42)\n",
    "tf.random.set_seed(42)\n",
    "\n",
    "# Define a sequential model with custom dense layers\n",
    "model = keras.models.Sequential([\n",
    "    MyDense(30, activation=\"relu\", input_shape=input_shape),  # Custom dense layer with ReLU activation\n",
    "    MyDense(1)  # Custom dense layer with no activation specified\n",
    "])\n",
    "\n",
    "# Compile the model with mean squared error loss and Nadam optimizer\n",
    "model.compile(loss=\"mse\", optimizer=\"nadam\")\n",
    "\n",
    "# Train the model on scaled training data for 2 epochs, validating on validation data\n",
    "model.fit(X_train_scaled, y_train, epochs=2,\n",
    "          validation_data=(X_valid_scaled, y_valid))\n",
    "\n",
    "# Evaluate the trained model on scaled test data\n",
    "model.evaluate(X_test_scaled, y_test)\n",
    "\n",
    "# Save the trained model to a HDF5 file\n",
    "model.save(\"my_model_with_a_custom_layer.h5\")\n",
    "\n",
    "# Load the saved model with custom layer from the HDF5 file\n",
    "model = keras.models.load_model(\"my_model_with_a_custom_layer.h5\",\n",
    "                                custom_objects={\"MyDense\": MyDense})"
   ]
  },
  {
   "cell_type": "markdown",
   "metadata": {},
   "source": [
    "### *A custom layer with a different behavior during training and testing:*\n",
    "For example, let’s create a layer that adds **Gaussian noise** during training (for *regularization*) but does nothing during testing (Keras has a layer that does the same thing, `keras.layers.GaussianNoise`\n"
   ]
  },
  {
   "cell_type": "code",
   "execution_count": 63,
   "metadata": {},
   "outputs": [],
   "source": [
    "class AddGaussianNoise(keras.layers.Layer):\n",
    "    def __init__(self, stddev, **kwargs):\n",
    "        super().__init__(**kwargs)  # Initialize the layer\n",
    "        self.stddev = stddev  # Standard deviation of the Gaussian noise\n",
    "\n",
    "    def call(self, X, training=None):\n",
    "        \"\"\"\n",
    "        This method defines the layer's computation during the forward pass.\n",
    "\n",
    "        Parameters:\n",
    "        - X: Input tensor\n",
    "        - training: Boolean flag indicating whether the model is in training mode\n",
    "\n",
    "        Returns:\n",
    "        - Tensor: Output tensor after adding Gaussian noise if in training mode, otherwise returns the input tensor unchanged\n",
    "        \"\"\"\n",
    "        if training:  # If in training mode\n",
    "            # Generate Gaussian noise with the same shape as the input tensor\n",
    "            noise = tf.random.normal(tf.shape(X), stddev=self.stddev)\n",
    "            return X + noise  # Add noise to the input tensor\n",
    "        else:\n",
    "            return X  # Return the input tensor unchanged if not in training mode\n",
    "\n",
    "    def compute_output_shape(self, batch_input_shape):\n",
    "        \"\"\"\n",
    "        This method computes the shape of the output tensor based on the shape of the input tensor.\n",
    "\n",
    "        Parameters:\n",
    "        - batch_input_shape: Shape of the input tensor\n",
    "\n",
    "        Returns:\n",
    "        - Tuple: Shape of the output tensor (same as the input tensor)\n",
    "        \"\"\"\n",
    "        return batch_input_shape  # Return the shape of the input tensor as the shape of the output tensor\n"
   ]
  },
  {
   "cell_type": "code",
   "execution_count": 64,
   "metadata": {},
   "outputs": [
    {
     "name": "stdout",
     "output_type": "stream",
     "text": [
      "Epoch 1/2\n",
      "363/363 [==============================] - 1s 1ms/step - loss: 2.7422 - val_loss: 4.6321\n",
      "Epoch 2/2\n",
      "363/363 [==============================] - 0s 974us/step - loss: 1.0505 - val_loss: 2.1590\n",
      "162/162 [==============================] - 0s 601us/step - loss: 0.7577\n"
     ]
    },
    {
     "data": {
      "text/plain": [
       "0.757721483707428"
      ]
     },
     "execution_count": 64,
     "metadata": {},
     "output_type": "execute_result"
    }
   ],
   "source": [
    "# Here's a simple model that uses the custom layer 'AddGaussianNoise'\n",
    "\n",
    "# Clear any previous TensorFlow session and set random seeds for reproducibility\n",
    "keras.backend.clear_session()\n",
    "np.random.seed(42)\n",
    "tf.random.set_seed(42)\n",
    "\n",
    "# Define the model architecture\n",
    "model = keras.models.Sequential([\n",
    "    AddGaussianNoise(stddev=1.0),  # Add custom layer to add Gaussian noise to the input\n",
    "    keras.layers.Dense(30, activation=\"selu\"),  # Dense layer with 30 units and SELU activation\n",
    "    keras.layers.Dense(1)  # Output layer with 1 unit (for regression)\n",
    "])\n",
    "\n",
    "# Compile the model\n",
    "model.compile(loss=\"mse\", optimizer=\"nadam\")  # Mean Squared Error loss, Nadam optimizer\n",
    "\n",
    "# Train the model\n",
    "model.fit(X_train_scaled, y_train, epochs=2,  # Train for 2 epochs\n",
    "          validation_data=(X_valid_scaled, y_valid))  # Validation data for monitoring performance\n",
    "\n",
    "# Evaluate the model on the test data\n",
    "model.evaluate(X_test_scaled, y_test)  # Evaluate the model's performance on the test set\n"
   ]
  },
  {
   "attachments": {
    "image.png": {
     "image/png": "[encoded data removed]"
    }
   },
   "cell_type": "markdown",
   "metadata": {},
   "source": [
    "## 7. Custom Models\n",
    "### **Residual block**\n",
    "\n",
    "- A residual block is a fundamental building block in deep neural networks, particularly in deep convolutional neural networks (**CNNs**). It was introduced as part of the architecture of ResNet (Residual Networks), a type of neural network designed to tackle the problem of **vanishing gradients** in very deep networks.\n",
    "\n",
    "The concept of a residual block addresses the challenge of training deep networks by introducing skip connections or **shortcuts** that allow gradients to flow more easily during training. Here's how it works:\n",
    "\n",
    "1. **Main Path:** The input to the residual block goes through a series of convolutional layers, activation functions (like ReLU), and possibly other operations, which transform the input into a higher-level representation.\n",
    "2. **Shortcut Connection:** A shortcut connection (also called a skip connection or identity mapping) is introduced, which simply passes the input (or a transformed version of it) directly to the output of the block, bypassing the main path.\n",
    "3. **Merge Operation:** The output of the main path and the shortcut connection are combined element-wise, typically through addition or concatenation. This combined output becomes the output of the residual block.\n",
    "\n",
    "The key idea behind a residual block is that the output of the block is not merely the result of the main path's transformation but is the sum or concatenation of this transformation and the original input. This allows the network to learn residual functions, i.e., the difference between the input and the desired output, which can be easier to optimize. The skip connections also facilitate the flow of gradients during training, making it easier to train very deep networks.\n",
    "\n",
    "Residual blocks have been widely adopted in various architectures beyond ResNet due to their effectiveness in training deep neural networks. They enable the construction of deeper networks with better performance and faster convergence.\n",
    "\n",
    "\n",
    "### *A model with residual block*\n",
    "\n",
    "\n",
    "Suppose you want to build the model represented in Figure. The inputs go through a first dense layer, then through a residual block composed of two dense layers and an addition operation (a residual block adds its inputs to its outputs), then through this same residual block three more times, then through a second residualblock, and the final result goes through a dense output layer. Note that this model does not make much sense; it’s just an example to illustrate the fact that you can easily build any kind of model you want, even one that contains loops and skip connections. \n",
    "\n",
    "![image.png](attachment:image.png)"
   ]
  },
  {
   "cell_type": "code",
   "execution_count": 65,
   "metadata": {},
   "outputs": [],
   "source": [
    "class ResidualBlock(keras.layers.Layer):\n",
    "    def __init__(self, n_layers, n_neurons, **kwargs):\n",
    "        \"\"\"\n",
    "        Initialize the ResidualBlock layer.\n",
    "\n",
    "        Parameters:\n",
    "        - n_layers: Number of dense layers in the block.\n",
    "        - n_neurons: Number of neurons in each dense layer.\n",
    "        - **kwargs: Additional arguments to pass to the parent class constructor.\n",
    "        \"\"\"\n",
    "        super().__init__(**kwargs)  # Initialize the parent class\n",
    "        # Create a list of dense layers with specified number of neurons and ELU activation\n",
    "        self.hidden = [keras.layers.Dense(n_neurons, activation=\"elu\",\n",
    "                                          kernel_initializer=\"he_normal\")\n",
    "                       for _ in range(n_layers)]\n",
    "\n",
    "    def call(self, inputs):\n",
    "        \"\"\"\n",
    "        Perform the forward pass computation of the ResidualBlock layer.\n",
    "\n",
    "        Parameters:\n",
    "        - inputs: Input tensor to the layer.\n",
    "\n",
    "        Returns:\n",
    "        - Tensor: Output tensor after passing through the residual block.\n",
    "        \"\"\"\n",
    "        Z = inputs  # Initialize Z to the input tensor\n",
    "        # Pass the input tensor through each dense layer in the block\n",
    "        for layer in self.hidden:\n",
    "            Z = layer(Z)\n",
    "        # Add the original input tensor to the output of the dense layers (residual connection)\n",
    "        return inputs + Z  # Return the output tensor\n"
   ]
  },
  {
   "cell_type": "code",
   "execution_count": 66,
   "metadata": {},
   "outputs": [],
   "source": [
    "class ResidualRegressor(keras.models.Model):\n",
    "    def __init__(self, output_dim, **kwargs):\n",
    "        \"\"\"\n",
    "        Initialize the ResidualRegressor model.\n",
    "\n",
    "        Parameters:\n",
    "        - output_dim: Dimensionality of the output.\n",
    "        - **kwargs: Additional arguments to pass to the parent class constructor.\n",
    "        \"\"\"\n",
    "        super().__init__(**kwargs)  # Initialize the parent class\n",
    "        # Define layers and blocks of the model\n",
    "        self.hidden1 = keras.layers.Dense(30, activation=\"elu\",\n",
    "                                          kernel_initializer=\"he_normal\")  # First dense layer\n",
    "        self.block1 = ResidualBlock(2, 30)  # First residual block\n",
    "        self.block2 = ResidualBlock(2, 30)  # Second residual block\n",
    "        self.out = keras.layers.Dense(output_dim)  # Output layer\n",
    "\n",
    "    def call(self, inputs):\n",
    "        \"\"\"\n",
    "        Perform the forward pass computation of the ResidualRegressor model.\n",
    "\n",
    "        Parameters:\n",
    "        - inputs: Input tensor to the model.\n",
    "\n",
    "        Returns:\n",
    "        - Tensor: Output tensor after passing through the model.\n",
    "        \"\"\"\n",
    "        Z = self.hidden1(inputs)  # Pass inputs through the first dense layer\n",
    "        for _ in range(1 + 3):  # Loop through the range of 1 + 3 times\n",
    "            Z = self.block1(Z)  # Pass through the first residual block\n",
    "        Z = self.block2(Z)  # Pass through the second residual block\n",
    "        return self.out(Z)  # Pass the final output of the second block through the output layer\n"
   ]
  },
  {
   "cell_type": "code",
   "execution_count": 67,
   "metadata": {},
   "outputs": [
    {
     "name": "stdout",
     "output_type": "stream",
     "text": [
      "Epoch 1/5\n",
      "363/363 [==============================] - 2s 2ms/step - loss: 32.7400\n",
      "Epoch 2/5\n",
      "363/363 [==============================] - 1s 2ms/step - loss: 2.3512\n",
      "Epoch 3/5\n",
      "363/363 [==============================] - 1s 2ms/step - loss: 1.7761\n",
      "Epoch 4/5\n",
      "363/363 [==============================] - 1s 2ms/step - loss: 1.5275\n",
      "Epoch 5/5\n",
      "363/363 [==============================] - 1s 2ms/step - loss: 1.2040\n",
      "162/162 [==============================] - 0s 1ms/step - loss: 1.5150\n",
      "162/162 [==============================] - 0s 1ms/step\n"
     ]
    },
    {
     "name": "stderr",
     "output_type": "stream",
     "text": [
      "WARNING:absl:Found untraced functions such as dense_1_layer_call_fn, dense_1_layer_call_and_return_conditional_losses, dense_2_layer_call_fn, dense_2_layer_call_and_return_conditional_losses, dense_3_layer_call_fn while saving (showing 5 of 8). These functions will not be directly callable after loading.\n"
     ]
    },
    {
     "name": "stdout",
     "output_type": "stream",
     "text": [
      "INFO:tensorflow:Assets written to: my_custom_model.ckpt\\assets\n"
     ]
    },
    {
     "name": "stderr",
     "output_type": "stream",
     "text": [
      "INFO:tensorflow:Assets written to: my_custom_model.ckpt\\assets\n"
     ]
    },
    {
     "name": "stdout",
     "output_type": "stream",
     "text": [
      "Epoch 1/5\n",
      "363/363 [==============================] - 2s 2ms/step - loss: 0.8960\n",
      "Epoch 2/5\n",
      "363/363 [==============================] - 1s 2ms/step - loss: 1.1050\n",
      "Epoch 3/5\n",
      "363/363 [==============================] - 1s 2ms/step - loss: 0.5988\n",
      "Epoch 4/5\n",
      "363/363 [==============================] - 1s 2ms/step - loss: 0.3905\n",
      "Epoch 5/5\n",
      "363/363 [==============================] - 1s 2ms/step - loss: 0.4454\n"
     ]
    }
   ],
   "source": [
    "# Clear any previous TensorFlow session and set random seeds for reproducibility\n",
    "keras.backend.clear_session()\n",
    "np.random.seed(42)\n",
    "tf.random.set_seed(42)\n",
    "\n",
    "# Set X_new_scaled to X_test_scaled\n",
    "X_new_scaled = X_test_scaled\n",
    "\n",
    "# Create an instance of ResidualRegressor model\n",
    "model = ResidualRegressor(1)\n",
    "\n",
    "# Compile the model with Mean Squared Error (MSE) loss and Nadam optimizer\n",
    "model.compile(loss=\"mse\", optimizer=\"nadam\")\n",
    "\n",
    "# Train the model on the training data for 5 epochs and store training history\n",
    "history = model.fit(X_train_scaled, y_train, epochs=5)\n",
    "\n",
    "# Evaluate the model's performance on the test data and store the score\n",
    "score = model.evaluate(X_test_scaled, y_test)\n",
    "\n",
    "# Generate predictions on the new scaled data using the trained model\n",
    "y_pred = model.predict(X_new_scaled)\n",
    "\n",
    "# Save the trained model to a file named \"my_custom_model.ckpt\"\n",
    "model.save(\"my_custom_model.ckpt\")\n",
    "\n",
    "# Load the saved model from the file \"my_custom_model.ckpt\"\n",
    "model = keras.models.load_model(\"my_custom_model.ckpt\")\n",
    "\n",
    "# Continue training the loaded model on the training data for additional 5 epochs\n",
    "history = model.fit(X_train_scaled, y_train, epochs=5)\n"
   ]
  },
  {
   "cell_type": "code",
   "execution_count": 68,
   "metadata": {},
   "outputs": [
    {
     "name": "stdout",
     "output_type": "stream",
     "text": [
      "Epoch 1/5\n",
      "363/363 [==============================] - 1s 1ms/step - loss: 1.4815\n",
      "Epoch 2/5\n",
      "363/363 [==============================] - 0s 1ms/step - loss: 0.8759\n",
      "Epoch 3/5\n",
      "363/363 [==============================] - 0s 1ms/step - loss: 0.5189\n",
      "Epoch 4/5\n",
      "363/363 [==============================] - 0s 1ms/step - loss: 0.4345\n",
      "Epoch 5/5\n",
      "363/363 [==============================] - 0s 1ms/step - loss: 0.4692\n",
      "162/162 [==============================] - 0s 906us/step - loss: 0.7413\n",
      "162/162 [==============================] - 0s 895us/step\n"
     ]
    }
   ],
   "source": [
    "# Training a model with residual block using the sequential API\n",
    "\n",
    "# Clear any previous TensorFlow session and set random seeds for reproducibility\n",
    "keras.backend.clear_session()\n",
    "np.random.seed(42)\n",
    "tf.random.set_seed(42)\n",
    "\n",
    "# Define a ResidualBlock instance with 2 layers and 30 neurons\n",
    "block1 = ResidualBlock(2, 30)\n",
    "\n",
    "# Define the model using the sequential API\n",
    "model = keras.models.Sequential([\n",
    "    # Add the first dense layer with ELU activation and He normal initialization\n",
    "    keras.layers.Dense(30, activation=\"elu\", kernel_initializer=\"he_normal\"),\n",
    "    # Add four instances of block1 (residual block)\n",
    "    block1, block1, block1, block1,\n",
    "    # Add another residual block with 2 layers and 30 neurons\n",
    "    ResidualBlock(2, 30),\n",
    "    # Add the output layer with one neuron\n",
    "    keras.layers.Dense(1)\n",
    "])\n",
    "\n",
    "# Compile the model with Mean Squared Error (MSE) loss and Nadam optimizer\n",
    "model.compile(loss=\"mse\", optimizer=\"nadam\")\n",
    "\n",
    "# Train the model on the training data for 5 epochs and store training history\n",
    "history = model.fit(X_train_scaled, y_train, epochs=5)\n",
    "\n",
    "# Evaluate the model's performance on the test data and store the score\n",
    "score = model.evaluate(X_test_scaled, y_test)\n",
    "\n",
    "# Generate predictions on the new scaled data using the trained model\n",
    "y_pred = model.predict(X_new_scaled)"
   ]
  }
 ],
 "metadata": {
  "kernelspec": {
   "display_name": "tf",
   "language": "python",
   "name": "python3"
  },
  "language_info": {
   "codemirror_mode": {
    "name": "ipython",
    "version": 3
   },
   "file_extension": ".py",
   "mimetype": "text/x-python",
   "name": "python",
   "nbconvert_exporter": "python",
   "pygments_lexer": "ipython3",
   "version": "3.10.8"
  }
 },
 "nbformat": 4,
 "nbformat_minor": 2
}
