{
 "cells": [
  {
   "cell_type": "markdown",
   "metadata": {},
   "source": [
    "# Using TensorFlow like NumPy\n",
    "* TensorFlow can be used in a way similar to NumPy for numerical computations, array manipulations, and mathematical operations. \n",
    "* TensorFlow like NumPy allows you to benefit from TensorFlow's powerful features such as `automatic differentiation`, `GPU acceleration`, `distributed computing`, and seamless integration with `deep learning frameworks`. This approach is ideal for scientific computing and building complex machine learning models."
   ]
  },
  {
   "cell_type": "markdown",
   "metadata": {},
   "source": [
    "## Tensors and operations\n",
    "\n",
    "* In TensorFlow, `tensors` are fundamental objects that represent data in the computation graph. They flow through operations, allowing for efficient computation and differentiation.\n",
    "\n",
    "* Tensors are central to TensorFlow's design, enabling efficient and scalable computation in deep learning models. By understanding how to create and manipulate tensors, you can effectively work with TensorFlow's API to build and train sophisticated machine learning models.\n",
    "\n",
    "* These tensors will be important when we create `custom cost functions`, `custom metrics`, `custom layers`, and more, so let’s see how to create and manipulate them."
   ]
  },
  {
   "cell_type": "markdown",
   "metadata": {},
   "source": [
    "### 1. Creating Tensors\n",
    "* You can create tensors in TensorFlow just like NumPy arrays:"
   ]
  },
  {
   "cell_type": "code",
   "execution_count": 1,
   "metadata": {},
   "outputs": [
    {
     "name": "stdout",
     "output_type": "stream",
     "text": [
      "(2, 2)\n",
      "<dtype: 'int32'>\n",
      "2\n"
     ]
    }
   ],
   "source": [
    "import tensorflow as tf\n",
    "\n",
    "# Create a constant tensor (Immutable:)\n",
    "a = tf.constant([[1.0, 2.0], [3.0, 4.0]])\n",
    "\n",
    "# Create a variable tensor (can be updated)\n",
    "b = tf.Variable([[1.0, 2.0], [3.0, 4.0]])\n",
    "\n",
    "# Accessing shape, dtype, and ndim\n",
    "tensor = tf.constant([[1, 2], [3, 4]])\n",
    "# shape: Attribute that returns the shape of the tensor.\n",
    "print(tensor.shape)  # Output: (2, 2)\n",
    "# dtype: Attribute that returns the data type of the tensor.\n",
    "print(tensor.dtype)  # Output: <dtype: 'int32'>\n",
    "# ndim: Method that returns the number of dimensions (or rank) of the tensor.\n",
    "print(tensor.ndim)  # Output: 2\n",
    "\n",
    "# Create tensors with specified shape and dtype\n",
    "zeros_tensor = tf.zeros((3, 3), dtype=tf.float32)\n",
    "ones_tensor = tf.ones((2, 2), dtype=tf.int32)\n",
    "random_tensor = tf.random.normal((3, 3), mean=0.0, stddev=1.0, dtype=tf.float32)"
   ]
  },
  {
   "cell_type": "markdown",
   "metadata": {},
   "source": [
    "### 2. Indexing\n",
    "* Indexing refers to accessing individual elements within a tensor using specific indices :"
   ]
  },
  {
   "cell_type": "code",
   "execution_count": 2,
   "metadata": {},
   "outputs": [
    {
     "name": "stdout",
     "output_type": "stream",
     "text": [
      "tf.Tensor(1, shape=(), dtype=int32)\n",
      "tf.Tensor(6, shape=(), dtype=int32)\n"
     ]
    }
   ],
   "source": [
    "import tensorflow as tf\n",
    "\n",
    "# Define a 2D tensor\n",
    "tensor_2d = tf.constant([[1, 2, 3],\n",
    "                          [4, 5, 6]])\n",
    "\n",
    "# Accessing individual elements\n",
    "print(tensor_2d[0, 0])  # Output: 1\n",
    "print(tensor_2d[1, 2])  # Output: 6"
   ]
  },
  {
   "cell_type": "markdown",
   "metadata": {},
   "source": [
    "### 3. Slicing\n",
    "* Slicing allows you to extract sub-tensors (slices) from a larger tensor based on specific ranges of indices along each dimension."
   ]
  },
  {
   "cell_type": "code",
   "execution_count": 3,
   "metadata": {},
   "outputs": [
    {
     "name": "stdout",
     "output_type": "stream",
     "text": [
      "tf.Tensor([1 2 3], shape=(3,), dtype=int32)\n",
      "tf.Tensor([2 5], shape=(2,), dtype=int32)\n",
      "tf.Tensor([[4 5]], shape=(1, 2), dtype=int32)\n"
     ]
    }
   ],
   "source": [
    "import tensorflow as tf\n",
    "\n",
    "# Slicing along rows and columns\n",
    "print(tensor_2d[0, :])  # Slice the first row: [1, 2, 3]\n",
    "print(tensor_2d[:, 1])  # Slice the second column: [2, 5, 8]\n",
    "\n",
    "# Slicing sub-tensors\n",
    "print(tensor_2d[1:, :2])  # Slice rows from index 1 onwards and columns up to index 2:\n",
    "                          # [[4, 5],\n",
    "                          #  [7, 8]]"
   ]
  },
  {
   "cell_type": "code",
   "execution_count": 32,
   "metadata": {},
   "outputs": [
    {
     "name": "stdout",
     "output_type": "stream",
     "text": [
      "tf.Tensor(\n",
      "[[10 11 12]\n",
      " [13 14 15]\n",
      " [16 17 18]], shape=(3, 3), dtype=int32)\n",
      "tf.Tensor([ 5 14 23], shape=(3,), dtype=int32)\n",
      "tf.Tensor(\n",
      "[[ 1  4  7]\n",
      " [10 13 16]], shape=(2, 3), dtype=int32)\n"
     ]
    }
   ],
   "source": [
    "import tensorflow as tf\n",
    "\n",
    "# Define a 3D tensor (3x3x3)\n",
    "tensor_3d = tf.Variable([\n",
    "    [[1, 2, 3],\n",
    "     [4, 5, 6],\n",
    "     [7, 8, 9]],\n",
    "\n",
    "    [[10, 11, 12],\n",
    "     [13, 14, 15],\n",
    "     [16, 17, 18]],\n",
    "\n",
    "    [[19, 20, 21],\n",
    "     [22, 23, 24],\n",
    "     [25, 26, 27]]\n",
    "])\n",
    "\n",
    "# Slicing along different dimensions\n",
    "print(tensor_3d[1, :, :])  # Slice the entire 2nd 'layer' (2nd matrix)\n",
    "print(tensor_3d[:, 1, 1])  # Slice the (1, 1) element from each 'layer'\n",
    "print(tensor_3d[0:2, :, 0])  # Slice the first two 'layers' and extract the first column"
   ]
  },
  {
   "cell_type": "markdown",
   "metadata": {},
   "source": [
    "### 4. Modification of elements\n",
    "* The tensorflow does not support item assignment occurs when you attempt to directly modify an individual element of a TensorFlow tensor."
   ]
  },
  {
   "cell_type": "markdown",
   "metadata": {},
   "source": [
    "### 4.1 Mutability and In-Place Modification\n",
    "* One of the main features of tf.Variable is its mutability. \n",
    "* You can modify the value of a variable using the `assign()`, `assign_add()`, or `assign_sub()` methods."
   ]
  },
  {
   "cell_type": "code",
   "execution_count": 33,
   "metadata": {},
   "outputs": [
    {
     "name": "stdout",
     "output_type": "stream",
     "text": [
      "After assign(new_value): 10.0\n",
      "After assign_add(increment_by): 12.0\n",
      "After assign_sub(decrement_by): 9.0\n"
     ]
    }
   ],
   "source": [
    "import tensorflow as tf\n",
    "\n",
    "# Create a TensorFlow variable initialized with a scalar value\n",
    "var = tf.Variable(5.0)\n",
    "\n",
    "# Example: Using assign() to set a new value\n",
    "new_value = 10.0\n",
    "var.assign(new_value)\n",
    "\n",
    "print(\"After assign(new_value):\", var.numpy())  # Output: 10.0\n",
    "\n",
    "# Example: Using assign_add() to increment the variable\n",
    "increment_by = 2.0\n",
    "var.assign_add(increment_by)\n",
    "\n",
    "print(\"After assign_add(increment_by):\", var.numpy())  # Output: 12.0\n",
    "\n",
    "# Example: Using assign_sub() to decrement the variable\n",
    "decrement_by = 3.0\n",
    "var.assign_sub(decrement_by)\n",
    "\n",
    "print(\"After assign_sub(decrement_by):\", var.numpy())  # Output: 9.0"
   ]
  },
  {
   "cell_type": "markdown",
   "metadata": {},
   "source": [
    "### 4.2 Modifying Individual Elements\n",
    "* You can modify individual elements (or slices) of a tf.Variable using the `assign()` method on specific indices or slices.\n",
    "* Direct item assignment `(var[0] = value)` does `not work` on tf.Variable objects."
   ]
  },
  {
   "cell_type": "code",
   "execution_count": 41,
   "metadata": {},
   "outputs": [
    {
     "name": "stdout",
     "output_type": "stream",
     "text": [
      "[1 5 3 4]\n",
      "[1 3 3 4]\n"
     ]
    }
   ],
   "source": [
    "import tensorflow as tf\n",
    "\n",
    "# Create a tf.Variable\n",
    "var = tf.Variable([1, 2, 3, 4])\n",
    "\n",
    "# Modify individual elements using assign() method\n",
    "var[1].assign(5)  # Modify the second element to 5\n",
    "print(var.numpy())  # Output: [1, 5, 3, 4]\n",
    "\n",
    "# Modify range of elements using assign() method\n",
    "var[1:3].assign(3)  # Modify the second element to 5\n",
    "print(var.numpy())  # Output: [1, 5, 3, 4]\n"
   ]
  },
  {
   "cell_type": "markdown",
   "metadata": {},
   "source": [
    "### 4.3 Advanced Modification with `scatter_nd_update()`\n",
    "* TensorFlow provides advanced method like `scatter_nd_update()` to modify specific elements or slices of a variable based on indices.\n",
    "* These methods are useful for updating variable values in a more complex and efficient manner."
   ]
  },
  {
   "cell_type": "code",
   "execution_count": 39,
   "metadata": {},
   "outputs": [
    {
     "name": "stdout",
     "output_type": "stream",
     "text": [
      "After scatter_nd_update(indices_sparse, updates_sparse): [0. 5. 0. 7.]\n"
     ]
    }
   ],
   "source": [
    "import tensorflow as tf\n",
    "\n",
    "# Create a TensorFlow variable initialized with zeros\n",
    "var = tf.Variable([0.0, 0.0, 0.0, 0.0])\n",
    "\n",
    "# Define sparse indices and updates\n",
    "indices_sparse = tf.constant([[1], [3]])  # Define sparse indices as a 2D tensor\n",
    "updates_sparse = tf.constant([5.0, 7.0])  # Define corresponding sparse updates\n",
    "\n",
    "# Perform sparse scatter_nd_update\n",
    "updated_var = tf.tensor_scatter_nd_update(var, indices_sparse, updates_sparse)\n",
    "\n",
    "print(\"After scatter_nd_update(indices_sparse, updates_sparse):\", updated_var.numpy())\n",
    "# Output: [0.0, 5.0, 0.0, 7.0]"
   ]
  },
  {
   "cell_type": "code",
   "execution_count": 40,
   "metadata": {},
   "outputs": [
    {
     "name": "stdout",
     "output_type": "stream",
     "text": [
      "After scatter_nd_update(indices_sparse, updates_sparse):\n",
      "[[0. 5. 0.]\n",
      " [0. 0. 7.]\n",
      " [0. 0. 0.]]\n"
     ]
    }
   ],
   "source": [
    "import tensorflow as tf\n",
    "\n",
    "# Create a TensorFlow variable initialized with zeros (2D tensor)\n",
    "var = tf.Variable([[0.0, 0.0, 0.0],\n",
    "                   [0.0, 0.0, 0.0],\n",
    "                   [0.0, 0.0, 0.0]])\n",
    "\n",
    "# Define sparse indices and updates for a 2D tensor\n",
    "indices_sparse = tf.constant([[0, 1],   # Update element at row 0, column 1\n",
    "                              [1, 2]])  # Update element at row 1, column 2\n",
    "\n",
    "updates_sparse = tf.constant([5.0, 7.0])  # Corresponding sparse update values\n",
    "\n",
    "# Perform sparse scatter_nd_update on the 2D tensor\n",
    "updated_var = tf.tensor_scatter_nd_update(var, indices_sparse, updates_sparse)\n",
    "\n",
    "print(\"After scatter_nd_update(indices_sparse, updates_sparse):\")\n",
    "print(updated_var.numpy())\n"
   ]
  },
  {
   "cell_type": "code",
   "execution_count": 42,
   "metadata": {},
   "outputs": [
    {
     "name": "stdout",
     "output_type": "stream",
     "text": [
      "After modifying the range of elements:\n",
      "[[0. 0. 0. 0.]\n",
      " [0. 5. 7. 3.]\n",
      " [0. 1. 2. 4.]]\n"
     ]
    }
   ],
   "source": [
    "import tensorflow as tf\n",
    "\n",
    "# Create a TensorFlow variable initialized with zeros (2D tensor: 3x4 matrix)\n",
    "var = tf.Variable([[0.0, 0.0, 0.0, 0.0],\n",
    "                   [0.0, 0.0, 0.0, 0.0],\n",
    "                   [0.0, 0.0, 0.0, 0.0]])\n",
    "\n",
    "# Define the range of row and column indices to update (slicing)\n",
    "start_row = 1\n",
    "end_row = 3\n",
    "start_col = 1\n",
    "end_col = 4\n",
    "\n",
    "# Generate new values for the specified range (2D tensor: corresponding submatrix)\n",
    "new_values = tf.constant([[5.0, 7.0, 3.0],\n",
    "                          [1.0, 2.0, 4.0]])\n",
    "\n",
    "# Calculate the dimensions of the new values tensor\n",
    "num_rows, num_cols = new_values.shape\n",
    "\n",
    "# Generate indices for the range to update using meshgrid and stack\n",
    "rows, cols = tf.meshgrid(tf.range(start_row, end_row), tf.range(start_col, end_col), indexing='ij')\n",
    "indices_sparse = tf.stack([rows, cols], axis=-1)\n",
    "\n",
    "# Perform sparse scatter_nd_update to modify the specified submatrix range\n",
    "updated_var = tf.tensor_scatter_nd_update(var, indices_sparse, new_values)\n",
    "\n",
    "print(\"After modifying the range of elements:\")\n",
    "print(updated_var.numpy())"
   ]
  },
  {
   "cell_type": "markdown",
   "metadata": {},
   "source": [
    "### 5. Array Manipulation"
   ]
  },
  {
   "cell_type": "code",
   "execution_count": null,
   "metadata": {},
   "outputs": [],
   "source": [
    "# .reshape():\n",
    "# .reshape() is used to change the shape of a tensor while keeping the same underlying data.\n",
    "\n",
    "import tensorflow as tf\n",
    "\n",
    "# Create a tensor\n",
    "x = tf.constant([[1, 2],\n",
    "                 [3, 4]])\n",
    "\n",
    "# Reshape the tensor to a new shape\n",
    "x_reshaped = tf.reshape(x, [1, 4])  # Reshape to shape (1, 4)\n",
    "print(x_reshaped)"
   ]
  },
  {
   "cell_type": "code",
   "execution_count": null,
   "metadata": {},
   "outputs": [],
   "source": [
    "# tf.squeeze():\n",
    "# This function removes dimensions of size 1 from the shape of a tensor.\n",
    "\n",
    "import tensorflow as tf\n",
    "\n",
    "# Create a tensor with shape (1, 3, 1)\n",
    "x = tf.constant([[[1], [2], [3]]])\n",
    "\n",
    "# Squeeze the tensor to remove dimensions of size 1\n",
    "x_squeezed = tf.squeeze(x)\n",
    "print(x_squeezed)  # Output shape will be (3,)"
   ]
  },
  {
   "cell_type": "code",
   "execution_count": null,
   "metadata": {},
   "outputs": [],
   "source": [
    "# tile():\n",
    "# tf.tile() is used to construct a new tensor by tiling the input tensor.\n",
    "# It replicates the input tensor's data along specified dimensions.\n",
    "\n",
    "import tensorflow as tf\n",
    "\n",
    "# Create a tensor\n",
    "x = tf.constant([[1, 2],\n",
    "                 [3, 4]])\n",
    "\n",
    "# Tile the tensor along rows and columns\n",
    "x_tiled = tf.tile(x, [2, 3])  # Tile to (2, 3) replication\n",
    "print(x_tiled)"
   ]
  },
  {
   "cell_type": "markdown",
   "metadata": {},
   "source": [
    "### 6. Arithmetic Operations"
   ]
  },
  {
   "cell_type": "code",
   "execution_count": 21,
   "metadata": {},
   "outputs": [
    {
     "name": "stdout",
     "output_type": "stream",
     "text": [
      "tf.Tensor(\n",
      "[[ 2.0753746  -2.6628017  -2.52255   ]\n",
      " [-0.24900198  0.10738447  1.5652896 ]\n",
      " [-1.6457454  -0.5112914  -0.4650858 ]], shape=(3, 3), dtype=float32)\n"
     ]
    }
   ],
   "source": [
    "import tensorflow as tf\n",
    "\n",
    "# Define a 2D tensor (3x3)\n",
    "tensor_a = tf.random.normal((3, 3), mean=0.0, stddev=1.0, dtype=tf.float32)\n",
    "tensor_b = tf.random.normal((3, 3), mean=0.0, stddev=1.0, dtype=tf.float32)\n",
    "\n",
    "# Addition: Element-wise addition of two tensors.\n",
    "result = tf.add(tensor_a, tensor_b)\n",
    "result = tensor_a.__add__(tensor_b)\n",
    "result = tensor_a + tensor_b\n",
    "# Subtraction: Element-wise subtraction of two tensors.\n",
    "result = tf.subtract(tensor_a, tensor_b)\n",
    "# Multiplication: Element-wise multiplication of two tensors.\n",
    "result = tf.multiply(tensor_a, tensor_b)\n",
    "# Division: Element-wise division of two tensors.\n",
    "result = tf.divide(tensor_a, tensor_b)\n",
    "# Exponentiation: Element-wise exponentiation of a tensor.\n",
    "exponent = 2\n",
    "result = tf.pow(tensor_a, exponent)"
   ]
  },
  {
   "cell_type": "markdown",
   "metadata": {},
   "source": [
    "### 7. Broadcasting Basics\n",
    "* Broadcasting is a technique used in TensorFlow to perform element-wise operations on tensors of different shapes by implicitly aligning their dimensions. The main concept is to extend (or \"broadcast\") smaller tensors to match the shape of larger tensors before applying element-wise operations."
   ]
  },
  {
   "cell_type": "code",
   "execution_count": 6,
   "metadata": {},
   "outputs": [
    {
     "name": "stdout",
     "output_type": "stream",
     "text": [
      "[[ 2  4  6]\n",
      " [ 8 10 12]]\n"
     ]
    }
   ],
   "source": [
    "# Example 1: Broadcasting Scalars\n",
    "import tensorflow as tf\n",
    "\n",
    "# Define a tensor with shape (2, 3)\n",
    "tensor_a = tf.constant([[1, 2, 3],\n",
    "                         [4, 5, 6]])\n",
    "\n",
    "# Define a scalar value\n",
    "scalar_b = tf.constant(2)\n",
    "\n",
    "# Element-wise multiplication using broadcasting\n",
    "result = tensor_a * scalar_b\n",
    "\n",
    "# Display the result\n",
    "print(result.numpy())"
   ]
  },
  {
   "cell_type": "code",
   "execution_count": 7,
   "metadata": {},
   "outputs": [
    {
     "name": "stdout",
     "output_type": "stream",
     "text": [
      "[[11 22 33]\n",
      " [14 25 36]]\n"
     ]
    }
   ],
   "source": [
    "# Example 2: Broadcasting Vectors\n",
    "import tensorflow as tf\n",
    "\n",
    "# Define a matrix with shape (2, 3)\n",
    "matrix_a = tf.constant([[1, 2, 3],\n",
    "                        [4, 5, 6]])\n",
    "\n",
    "# Define a vector with shape (3,)\n",
    "vector_b = tf.constant([10, 20, 30])\n",
    "\n",
    "# Element-wise addition using broadcasting\n",
    "result = matrix_a + vector_b\n",
    "\n",
    "# Display the result\n",
    "print(result.numpy())"
   ]
  },
  {
   "cell_type": "code",
   "execution_count": 8,
   "metadata": {},
   "outputs": [
    {
     "name": "stdout",
     "output_type": "stream",
     "text": [
      "[[ 10  20  30]\n",
      " [ 80 100 120]]\n"
     ]
    }
   ],
   "source": [
    "# Example 3: Broadcasting Along Different Axes\n",
    "import tensorflow as tf\n",
    "\n",
    "# Define a matrix with shape (2, 3)\n",
    "matrix_a = tf.constant([[1, 2, 3],\n",
    "                        [4, 5, 6]])\n",
    "\n",
    "# Define a vector with shape (2,)\n",
    "vector_c = tf.constant([10, 20])\n",
    "\n",
    "# Element-wise multiplication using broadcasting along different axes\n",
    "result = matrix_a * vector_c[:, tf.newaxis]\n",
    "\n",
    "# Display the result\n",
    "print(result.numpy())"
   ]
  },
  {
   "cell_type": "markdown",
   "metadata": {},
   "source": [
    "### 8. Reduction operations\n",
    "* Reduction operations in TensorFlow are used to compute aggregate values (e.g., sum, mean, maximum, minimum) over specific dimensions of a tensor, resulting in a tensor with reduced dimensions or a scalar value. "
   ]
  },
  {
   "cell_type": "code",
   "execution_count": 9,
   "metadata": {},
   "outputs": [
    {
     "name": "stdout",
     "output_type": "stream",
     "text": [
      "Sum along axis 0: [5 7 9]\n",
      "Sum along axis 1: [ 6 15]\n"
     ]
    }
   ],
   "source": [
    "# 1. tf.reduce_sum\n",
    "\n",
    "import tensorflow as tf\n",
    "\n",
    "# Define a tensor\n",
    "tensor = tf.constant([[1, 2, 3],\n",
    "                       [4, 5, 6]])\n",
    "\n",
    "# Compute sum along axis 0 (sum of each column)\n",
    "sum_along_axis0 = tf.reduce_sum(tensor, axis=0)\n",
    "\n",
    "# Compute sum along axis 1 (sum of each row)\n",
    "sum_along_axis1 = tf.reduce_sum(tensor, axis=1)\n",
    "\n",
    "print(\"Sum along axis 0:\", sum_along_axis0.numpy())  # Output: [5 7 9]\n",
    "print(\"Sum along axis 1:\", sum_along_axis1.numpy())  # Output: [ 6 15]"
   ]
  },
  {
   "cell_type": "code",
   "execution_count": 10,
   "metadata": {},
   "outputs": [
    {
     "name": "stdout",
     "output_type": "stream",
     "text": [
      "Mean along axis 0: [2 3 4]\n",
      "Mean along axis 1: [2 5]\n"
     ]
    }
   ],
   "source": [
    "# 2. tf.reduce_mean\n",
    "import tensorflow as tf\n",
    "\n",
    "# Define a tensor\n",
    "tensor = tf.constant([[1, 2, 3],\n",
    "                       [4, 5, 6]])\n",
    "\n",
    "# Compute mean along axis 0 (mean of each column)\n",
    "mean_along_axis0 = tf.reduce_mean(tensor, axis=0)\n",
    "\n",
    "# Compute mean along axis 1 (mean of each row)\n",
    "mean_along_axis1 = tf.reduce_mean(tensor, axis=1)\n",
    "\n",
    "print(\"Mean along axis 0:\", mean_along_axis0.numpy())  # Output: [2.5 3.5 4.5]\n",
    "print(\"Mean along axis 1:\", mean_along_axis1.numpy())  # Output: [2. 5.]"
   ]
  },
  {
   "cell_type": "code",
   "execution_count": 11,
   "metadata": {},
   "outputs": [
    {
     "name": "stdout",
     "output_type": "stream",
     "text": [
      "Maximum along axis 0: [4 5 6]\n",
      "Minimum along axis 1: [1 4]\n"
     ]
    }
   ],
   "source": [
    "# 3. tf.reduce_max and tf.reduce_min\n",
    "import tensorflow as tf\n",
    "\n",
    "# Define a tensor\n",
    "tensor = tf.constant([[1, 2, 3],\n",
    "                       [4, 5, 6]])\n",
    "\n",
    "# Compute maximum along axis 0 (maximum of each column)\n",
    "max_along_axis0 = tf.reduce_max(tensor, axis=0)\n",
    "\n",
    "# Compute minimum along axis 1 (minimum of each row)\n",
    "min_along_axis1 = tf.reduce_min(tensor, axis=1)\n",
    "\n",
    "print(\"Maximum along axis 0:\", max_along_axis0.numpy())  # Output: [4 5 6]\n",
    "print(\"Minimum along axis 1:\", min_along_axis1.numpy())  # Output: [1 4]"
   ]
  },
  {
   "cell_type": "code",
   "execution_count": 12,
   "metadata": {},
   "outputs": [
    {
     "name": "stdout",
     "output_type": "stream",
     "text": [
      "Standard Deviation (all elements): 1.7078252\n",
      "Standard Deviation along axis 0 (column-wise): [1.5 1.5 1.5]\n",
      "Standard Deviation along axis 1 (row-wise): [0.8164966 0.8164966]\n"
     ]
    }
   ],
   "source": [
    "# 4. tf.math.reduce_std\n",
    "import tensorflow as tf\n",
    "\n",
    "# Define a tensor\n",
    "tensor = tf.constant([[1.0, 2.0, 3.0],\n",
    "                       [4.0, 5.0, 6.0]])\n",
    "\n",
    "# Compute the standard deviation across all elements\n",
    "std_all = tf.math.reduce_std(tensor)\n",
    "\n",
    "# Compute the standard deviation along axis 0 (column-wise)\n",
    "std_axis0 = tf.math.reduce_std(tensor, axis=0)\n",
    "\n",
    "# Compute the standard deviation along axis 1 (row-wise)\n",
    "std_axis1 = tf.math.reduce_std(tensor, axis=1)\n",
    "\n",
    "print(\"Standard Deviation (all elements):\", std_all.numpy())\n",
    "print(\"Standard Deviation along axis 0 (column-wise):\", std_axis0.numpy())\n",
    "print(\"Standard Deviation along axis 1 (row-wise):\", std_axis1.numpy())"
   ]
  },
  {
   "cell_type": "markdown",
   "metadata": {},
   "source": [
    "### 9. Basic Mathematical Functions"
   ]
  },
  {
   "cell_type": "code",
   "execution_count": 13,
   "metadata": {},
   "outputs": [],
   "source": [
    "import tensorflow as tf\n",
    "\n",
    "# Define a 2D tensor (3x3)\n",
    "tensor = tf.random.normal((3, 3), mean=0.0, stddev=1.0, dtype=tf.float32)\n",
    "\n",
    "# Square Root: Element-wise square root of a tensor.\n",
    "result = tf.sqrt(tensor)\n",
    "# Absolute Value: Element-wise absolute value of a tensor.\n",
    "result = tf.abs(tensor)\n",
    "# Negative: Element-wise negation of a tensor.\n",
    "result = tf.negative(tensor)\n",
    "# Sine, Cosine, Tangent: Element-wise trigonometric functions.\n",
    "result_sin = tf.sin(tensor)\n",
    "result_cos = tf.cos(tensor)\n",
    "result_tan = tf.tan(tensor)"
   ]
  },
  {
   "cell_type": "markdown",
   "metadata": {},
   "source": [
    "### 10. Matrix Operations"
   ]
  },
  {
   "cell_type": "code",
   "execution_count": 22,
   "metadata": {},
   "outputs": [],
   "source": [
    "# Multiplication of the tensors\n",
    "import tensorflow as tf\n",
    "\n",
    "# Matrix multiplication\n",
    "mat1 = tf.constant([[1, 2], [3, 4]])\n",
    "mat2 = tf.constant([[5, 6], [7, 8]])\n",
    "mat_mult = tf.matmul(mat1, mat2)\n",
    "\n",
    "\n",
    "# Perform matrix multiplication using the @ operator\n",
    "mat_mult = mat1 @ mat2  # This is equivalent to tf.matmul(mat1, mat2)"
   ]
  },
  {
   "cell_type": "code",
   "execution_count": 23,
   "metadata": {},
   "outputs": [
    {
     "name": "stdout",
     "output_type": "stream",
     "text": [
      "Original tensor:\n",
      "tf.Tensor(\n",
      "[[1 2 3]\n",
      " [4 5 6]], shape=(2, 3), dtype=int32)\n",
      "Transposed tensor:\n",
      "tf.Tensor(\n",
      "[[1 4]\n",
      " [2 5]\n",
      " [3 6]], shape=(3, 2), dtype=int32)\n"
     ]
    }
   ],
   "source": [
    "# Transpose of a tensor\n",
    "import tensorflow as tf\n",
    "\n",
    "# Create a tensor with shape (2, 3)\n",
    "x = tf.constant([[1, 2, 3],\n",
    "                 [4, 5, 6]])\n",
    "\n",
    "# Transpose the tensor\n",
    "x_transposed = tf.transpose(x)  # By default, this swaps the first and second dimensions\n",
    "\n",
    "print(\"Original tensor:\")\n",
    "print(x)\n",
    "print(\"Transposed tensor:\")\n",
    "print(x_transposed)\n"
   ]
  },
  {
   "cell_type": "code",
   "execution_count": null,
   "metadata": {},
   "outputs": [],
   "source": [
    "# Inverse of a tensor\n",
    "import tensorflow as tf\n",
    "\n",
    "# Create a square matrix (2x2) as a TensorFlow constant\n",
    "A = tf.constant([[1.0, 2.0],\n",
    "                 [3.0, 4.0]])\n",
    "\n",
    "# Compute the inverse of the matrix A\n",
    "A_inverse = tf.linalg.inv(A)\n",
    "\n",
    "# Print the original matrix and its inverse\n",
    "print(\"Original matrix A:\")\n",
    "print(A)\n",
    "\n",
    "print(\"Inverse of matrix A:\")\n",
    "print(A_inverse)"
   ]
  },
  {
   "cell_type": "markdown",
   "metadata": {},
   "source": [
    "### 11. Comparison Operations"
   ]
  },
  {
   "cell_type": "code",
   "execution_count": 14,
   "metadata": {},
   "outputs": [],
   "source": [
    "import tensorflow as tf\n",
    "\n",
    "# Define a 2D tensor (3x3)\n",
    "tensor_a = tf.random.normal((3, 3), mean=0.0, stddev=1.0, dtype=tf.float32)\n",
    "tensor_b = tf.random.normal((3, 3), mean=0.0, stddev=1.0, dtype=tf.float32)\n",
    "\n",
    "# Create condition_a and condition_b boolean tensors\n",
    "condition_a = tf.constant([True, False, True])   # Example boolean tensor 1\n",
    "condition_b = tf.constant([False, True, True])   # Example boolean tensor 2\n",
    "\n",
    "# Equal: Element-wise equality comparison of two tensors.\n",
    "result = tf.equal(tensor_a, tensor_b)\n",
    "# Not Equal: Element-wise inequality comparison of two tensors.\n",
    "result = tf.not_equal(tensor_a, tensor_b)\n",
    "# Greater Than, Less Than: Element-wise comparison of two tensors.\n",
    "result_gt = tf.greater(tensor_a, tensor_b)\n",
    "result_lt = tf.less(tensor_a, tensor_b)\n",
    "# Logical AND, OR: Element-wise logical operations.\n",
    "result_and = tf.logical_and(condition_a, condition_b)\n",
    "result_or = tf.logical_or(condition_a, condition_b)"
   ]
  },
  {
   "cell_type": "markdown",
   "metadata": {},
   "source": [
    "### 12. Clipping and Normalization"
   ]
  },
  {
   "cell_type": "code",
   "execution_count": 15,
   "metadata": {},
   "outputs": [],
   "source": [
    "import tensorflow as tf\n",
    "\n",
    "# Define a tensor with values\n",
    "tensor = tf.constant([1.0, 2.0, 3.0, 4.0, 5.0])\n",
    "\n",
    "# Clip the tensor values to be between 2.0 and 4.0\n",
    "clipped_tensor = tf.clip_by_value(tensor, clip_value_min=2.0, clip_value_max=4.0)\n",
    "\n",
    "# Perform L2 normalization along axis 1 (normalize each row)\n",
    "normalized_x = tf.nn.l2_normalize(tensor, axis=0)"
   ]
  },
  {
   "cell_type": "markdown",
   "metadata": {},
   "source": [
    "### 13. Handling Missing Values"
   ]
  },
  {
   "cell_type": "code",
   "execution_count": 16,
   "metadata": {},
   "outputs": [],
   "source": [
    "import tensorflow as tf\n",
    "\n",
    "# Define a tensor with values\n",
    "tensor = tf.constant([1.0, 2.0, 3.0, 4.0, 5.0])\n",
    "\n",
    "# Is NaN, Is Finite: Element-wise checks for NaN (Not a Number) and finite values.\n",
    "result_isnan = tf.math.is_nan(tensor)\n",
    "result_isfinite = tf.math.is_finite(tensor)"
   ]
  },
  {
   "cell_type": "markdown",
   "metadata": {},
   "source": [
    "### 14. Applying TensorFlow Operations to NumPy Arrays\n",
    "* You can convert NumPy arrays to TensorFlow tensors using tf.convert_to_tensor() and then apply TensorFlow operations to these tensors."
   ]
  },
  {
   "cell_type": "code",
   "execution_count": 25,
   "metadata": {},
   "outputs": [
    {
     "name": "stdout",
     "output_type": "stream",
     "text": [
      "Result (TensorFlow tensor):\n",
      "tf.Tensor(\n",
      "[[ 1.  4.]\n",
      " [ 9. 16.]], shape=(2, 2), dtype=float64)\n",
      "Result (NumPy array):\n",
      "[[ 1.  4.]\n",
      " [ 9. 16.]]\n"
     ]
    }
   ],
   "source": [
    "import tensorflow as tf\n",
    "import numpy as np\n",
    "\n",
    "# Create a NumPy array\n",
    "numpy_array = np.array([[1.0, 2.0],\n",
    "                         [3.0, 4.0]])\n",
    "\n",
    "# Convert NumPy array to a TensorFlow tensor\n",
    "tensor = tf.convert_to_tensor(numpy_array)\n",
    "\n",
    "# Apply TensorFlow operations to the tensor\n",
    "result = tf.square(tensor)  # Square each element\n",
    "\n",
    "# Convert the result back to a NumPy array (if needed)\n",
    "result_numpy = result.numpy()\n",
    "\n",
    "print(\"Result (TensorFlow tensor):\")\n",
    "print(result)\n",
    "\n",
    "print(\"Result (NumPy array):\")\n",
    "print(result_numpy)"
   ]
  },
  {
   "cell_type": "markdown",
   "metadata": {},
   "source": [
    "* You can apply TensorFlow operations on a NumPy array without converting it to a TensorFlow tensor:"
   ]
  },
  {
   "cell_type": "code",
   "execution_count": 26,
   "metadata": {},
   "outputs": [
    {
     "name": "stdout",
     "output_type": "stream",
     "text": [
      "Result (NumPy array after TensorFlow operation):\n",
      "tf.Tensor(\n",
      "[[ 1.  4.]\n",
      " [ 9. 16.]], shape=(2, 2), dtype=float64)\n"
     ]
    }
   ],
   "source": [
    "import tensorflow as tf\n",
    "import numpy as np\n",
    "\n",
    "# Create a NumPy array\n",
    "numpy_array = np.array([[1.0, 2.0],\n",
    "                         [3.0, 4.0]])\n",
    "\n",
    "# Apply TensorFlow operations directly on the NumPy array\n",
    "result_numpy = tf.square(numpy_array)  # Square each element using NumPy operation\n",
    "\n",
    "print(\"Result (NumPy array after TensorFlow operation):\")\n",
    "print(result_numpy)\n"
   ]
  },
  {
   "cell_type": "markdown",
   "metadata": {},
   "source": [
    "### 15. Applying NumPy Operations to TensorFlow Tensors\n",
    "* Similarly, you can convert TensorFlow tensors to NumPy arrays using .numpy() and apply NumPy operations to these arrays."
   ]
  },
  {
   "cell_type": "code",
   "execution_count": 24,
   "metadata": {},
   "outputs": [
    {
     "name": "stdout",
     "output_type": "stream",
     "text": [
      "Result (NumPy array):\n",
      "[[1.        1.4142135]\n",
      " [1.7320508 2.       ]]\n"
     ]
    }
   ],
   "source": [
    "import tensorflow as tf\n",
    "import numpy as np\n",
    "\n",
    "# Create a TensorFlow tensor\n",
    "tensor = tf.constant([[1.0, 2.0],\n",
    "                      [3.0, 4.0]])\n",
    "\n",
    "# Convert TensorFlow tensor to a NumPy array\n",
    "numpy_array = tensor.numpy()\n",
    "\n",
    "# Apply NumPy operations to the NumPy array\n",
    "result_numpy = np.sqrt(numpy_array)  # Compute element-wise square root\n",
    "\n",
    "print(\"Result (NumPy array):\")\n",
    "print(result_numpy)"
   ]
  },
  {
   "cell_type": "markdown",
   "metadata": {},
   "source": [
    "* To apply NumPy operations directly on TensorFlow tensors without converting them explicitly, you can utilize TensorFlow's ability to seamlessly interoperate with NumPy arrays within eager execution mode. "
   ]
  },
  {
   "cell_type": "code",
   "execution_count": 28,
   "metadata": {},
   "outputs": [
    {
     "name": "stdout",
     "output_type": "stream",
     "text": [
      "Result (NumPy array after applying NumPy operation on TensorFlow tensor):\n",
      "[[ 1.  4.]\n",
      " [ 9. 16.]]\n"
     ]
    }
   ],
   "source": [
    "import tensorflow as tf\n",
    "import numpy as np\n",
    "\n",
    "# Create a TensorFlow tensor\n",
    "tensor = tf.constant([[1.0, 2.0],\n",
    "                      [3.0, 4.0]])\n",
    "\n",
    "# Apply NumPy operations directly on the TensorFlow tensor\n",
    "result_numpy = np.square(tensor.numpy())  # Square each element using NumPy operation on tensor's numpy array\n",
    "\n",
    "print(\"Result (NumPy array after applying NumPy operation on TensorFlow tensor):\")\n",
    "print(result_numpy)"
   ]
  },
  {
   "cell_type": "markdown",
   "metadata": {},
   "source": [
    "### 16. Operations Between Tensors of Different Types\n",
    "\n",
    "* When you attempt to perform operations (like addition, multiplication, etc.) between tensors of different data types, TensorFlow will `raise an exception` indicating the type incompatibility.\n",
    "* If you need to perform operations between tensors of different types, you can `explicitly convert tensors` to compatible types using `tf.cast()`:\n",
    "* It's important to maintain data type consistency in your TensorFlow computations to ensure efficient execution and avoid unnecessary type conversions. When building TensorFlow models, specifying data types explicitly can help in optimizing performance and avoiding unexpected behaviors due to type mismatches."
   ]
  },
  {
   "cell_type": "code",
   "execution_count": null,
   "metadata": {},
   "outputs": [],
   "source": [
    "import tensorflow as tf\n",
    "\n",
    "# Create tensors of different types\n",
    "tensor_int = tf.constant(5)  # Integer tensor\n",
    "tensor_float = tf.constant(3.0)  # Float tensor\n",
    "\n",
    "# Attempt to add tensors of different types\n",
    "result = tensor_int + tensor_float  # This will raise a TypeError"
   ]
  },
  {
   "cell_type": "code",
   "execution_count": null,
   "metadata": {},
   "outputs": [],
   "source": [
    "# Explicit Type Conversion\n",
    "\n",
    "import tensorflow as tf\n",
    "\n",
    "# Create tensors of different types\n",
    "tensor_int = tf.constant(5)  # Integer tensor\n",
    "tensor_float = tf.constant(3.0)  # Float tensor\n",
    "\n",
    "# Convert integer tensor to float\n",
    "tensor_int_float = tf.cast(tensor_int, tf.float32)\n",
    "\n",
    "# Perform addition after type conversion\n",
    "result = tensor_int_float + tensor_float  # This will work"
   ]
  },
  {
   "cell_type": "markdown",
   "metadata": {},
   "source": [
    "### 17. Operations Between Tensors of Different Types\n",
    "\n",
    "* When you attempt to perform operations (like addition, multiplication, etc.) between tensors of different data types, TensorFlow will `raise an exception` indicating the type incompatibility.\n",
    "* If you need to perform operations between tensors of different types, you can `explicitly convert tensors` to compatible types using `tf.cast()`:\n",
    "* It's important to maintain data type consistency in your TensorFlow computations to ensure efficient execution and avoid unnecessary type conversions. When building TensorFlow models, specifying data types explicitly can help in optimizing performance and avoiding unexpected behaviors due to type mismatches."
   ]
  },
  {
   "cell_type": "code",
   "execution_count": null,
   "metadata": {},
   "outputs": [],
   "source": []
  }
 ],
 "metadata": {
  "kernelspec": {
   "display_name": "tf",
   "language": "python",
   "name": "python3"
  },
  "language_info": {
   "codemirror_mode": {
    "name": "ipython",
    "version": 3
   },
   "file_extension": ".py",
   "mimetype": "text/x-python",
   "name": "python",
   "nbconvert_exporter": "python",
   "pygments_lexer": "ipython3",
   "version": "3.10.8"
  }
 },
 "nbformat": 4,
 "nbformat_minor": 2
}
