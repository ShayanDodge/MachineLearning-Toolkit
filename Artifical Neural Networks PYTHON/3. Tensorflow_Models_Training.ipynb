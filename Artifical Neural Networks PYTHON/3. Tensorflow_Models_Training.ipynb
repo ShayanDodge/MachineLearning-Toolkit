{
 "cells": [
  {
   "cell_type": "markdown",
   "metadata": {},
   "source": [
    "# Using TensorFlow like NumPy\n",
    "* TensorFlow can be used in a way similar to NumPy for numerical computations, array manipulations, and mathematical operations. \n",
    "* TensorFlow like NumPy allows you to benefit from TensorFlow's powerful features such as `automatic differentiation`, `GPU acceleration`, `distributed computing`, and seamless integration with `deep learning frameworks`. This approach is ideal for scientific computing and building complex machine learning models."
   ]
  },
  {
   "cell_type": "markdown",
   "metadata": {},
   "source": [
    "## Tensors and operations\n",
    "\n",
    "* In TensorFlow, `tensors` are fundamental objects that represent data in the computation graph. They flow through operations, allowing for efficient computation and differentiation.\n",
    "\n",
    "* Tensors are central to TensorFlow's design, enabling efficient and scalable computation in deep learning models. By understanding how to create and manipulate tensors, you can effectively work with TensorFlow's API to build and train sophisticated machine learning models.\n",
    "\n",
    "* These tensors will be important when we create `custom cost functions`, `custom metrics`, `custom layers`, and more, so let’s see how to create and manipulate them."
   ]
  },
  {
   "cell_type": "markdown",
   "metadata": {},
   "source": [
    "### 1. Creating Tensors\n",
    "\n",
    "* You can create tensors in TensorFlow just like NumPy arrays:"
   ]
  },
  {
   "cell_type": "code",
   "execution_count": 1,
   "metadata": {},
   "outputs": [],
   "source": [
    "import tensorflow as tf\n",
    "\n",
    "# Create a constant tensor\n",
    "a = tf.constant([[1.0, 2.0], [3.0, 4.0]])\n",
    "\n",
    "# Create a variable tensor (can be updated)\n",
    "b = tf.Variable([[1.0, 2.0], [3.0, 4.0]])"
   ]
  }
 ],
 "metadata": {
  "kernelspec": {
   "display_name": "tf",
   "language": "python",
   "name": "python3"
  },
  "language_info": {
   "codemirror_mode": {
    "name": "ipython",
    "version": 3
   },
   "file_extension": ".py",
   "mimetype": "text/x-python",
   "name": "python",
   "nbconvert_exporter": "python",
   "pygments_lexer": "ipython3",
   "version": "3.10.8"
  }
 },
 "nbformat": 4,
 "nbformat_minor": 2
}
