{
 "cells": [
  {
   "cell_type": "markdown",
   "metadata": {},
   "source": [
    "# From Biological to Artificial Neural Networks\n",
    "\n",
    "- Artificial Neural Networks (ANNs) were first introduced in **1943** by neurophysiologist **Warren McCulloch** and mathematician **Walter Pitts**. Their foundational paper presented a computational model of how neurons in the brain might work together to perform complex computations, marking the creation of the first ANN architecture. Since then, many other ANN architectures have been developed.\n",
    "\n",
    "- Artificial Neural Networks (**ANNs**) are inspired by Biological Neural Networks (**BNNs**) in that both involve interconnected nodes (**neurons**) that process information. In BNNs, neurons are biological cells that **transmit signals**, while in ANNs, nodes are **mathematical** functions that simulate these processes to solve complex problems.\n",
    "\n",
    "- We are seeing renewed interest in ANNs due to several factors:\n",
    "    - **Abundant Data:** More data is available to train ANNs, enhancing their performance.\n",
    "    - **Improved Computing Power:** Advances in GPUs and cloud computing allow faster training of large networks.\n",
    "    - **Better Algorithms:** Slight improvements in training algorithms have significantly boosted performance.\n",
    "    - **Overcome Limitations:** Theoretical issues like local optima are less problematic in practice.\n",
    "    - **Funding and Progress:** Successful applications attract more funding, driving further advancements"
   ]
  },
  {
   "cell_type": "markdown",
   "metadata": {},
   "source": [
    "# The Perceptron Neural Network\n",
    "\n",
    "- Perceptrons were introduced by **Frank Rosenblatt** in **1957** and are fundamental building blocks in the field of artificial intelligence and machine learning. They can be used for **binary classification** tasks and serve as the basis for more **complex neural network architectures**.\n",
    "\n",
    "- A perceptron is one of the simplest types of artificial neural networks. It's a computational model inspired by the biological neuron's structure and function. \n",
    "\n",
    "    - The perceptron takes **multiple binary inputs**, multiplies each input ($x_i$) by its associated weight  ($w_i$), **sums** these products, and then applies a **step function** to produce a binary output.\n",
    "        - The formula for the **weighted sum**:\n",
    "            \n",
    "            $z = \\sum_{i=1}^{n} w_i \\cdot x_i + b = \\textbf{x}^{T} \\textbf{w}$\n",
    "\n",
    "        - **Step functions** (**Heaviside** step function and **Sign** function)\n",
    "        \n",
    "            $\\text{sgn}(z) = \\begin{cases} -1 & \\text{if } z < 0 \\\\ 0 & \\text{if } z = 0 \\\\ 1 & \\text{if } z > 0 \\end{cases}$ ,  $\\text{step}(z) = \\begin{cases}1 & \\text{if } z \\geq 0 \\\\0 & \\text{if } z < 0\\end{cases}$\n",
    "\n",
    "    - If the **weighted sum** of the inputs **exceeds** a certain **threshold**, the perceptron **activates**, *otherwise*, it remains **inactive**.\n",
    "\n",
    "    - This process allows the perceptron to learn and make decisions based on input data.\n",
    "\n",
    "- **Threshold Logic Unit (TLU):** It is a simplified version of the perceptron model. In a Threshold Logic Unit, the output is determined by whether the weighted sum of inputs exceeds a certain threshold. If the weighted sum exceeds the threshold, the TLU outputs one; otherwise, it outputs zero."
   ]
  },
  {
   "cell_type": "code",
   "execution_count": null,
   "metadata": {},
   "outputs": [],
   "source": [
    "'''     \n",
    "      Input Neurons\n",
    "       X1   X2   X3\n",
    "        \\   |    /\n",
    "        W1  W1  W1\n",
    "          \\ | /\n",
    "      --------------\n",
    "     |    Σ (Sum)   |  Threshold Logic Unit                                \n",
    "     |   Threshold  |          (TLU)\n",
    "      --------------\n",
    "           /|\\ \n",
    "          / | \\\n",
    "         /  |  \\\n",
    "        O   O   O\n",
    "      Output Neuron\n",
    "'''"
   ]
  }
 ],
 "metadata": {
  "kernelspec": {
   "display_name": "ml",
   "language": "python",
   "name": "python3"
  },
  "language_info": {
   "name": "python",
   "version": "3.10.8"
  }
 },
 "nbformat": 4,
 "nbformat_minor": 2
}
