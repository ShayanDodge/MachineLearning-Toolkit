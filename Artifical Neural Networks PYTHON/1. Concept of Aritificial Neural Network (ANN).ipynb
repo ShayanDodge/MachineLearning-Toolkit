{
 "cells": [
  {
   "cell_type": "markdown",
   "metadata": {},
   "source": [
    "# From Biological to Artificial Neural Networks\n",
    "\n",
    "- Artificial Neural Networks (ANNs) were first introduced in **1943** by neurophysiologist **Warren McCulloch** and mathematician **Walter Pitts**. Their foundational paper presented a computational model of how neurons in the brain might work together to perform complex computations, marking the creation of the first ANN architecture. Since then, many other ANN architectures have been developed.\n",
    "\n",
    "- Artificial Neural Networks (**ANNs**) are inspired by Biological Neural Networks (**BNNs**) in that both involve interconnected nodes (**neurons**) that process information. In BNNs, neurons are biological cells that **transmit signals**, while in ANNs, nodes are **mathematical** functions that simulate these processes to solve complex problems.\n",
    "\n",
    "- We are seeing renewed interest in ANNs due to several factors:\n",
    "    - **Abundant Data:** More data is available to train ANNs, enhancing their performance.\n",
    "    - **Improved Computing Power:** Advances in GPUs and cloud computing allow faster training of large networks.\n",
    "    - **Better Algorithms:** Slight improvements in training algorithms have significantly boosted performance.\n",
    "    - **Overcome Limitations:** Theoretical issues like local optima are less problematic in practice.\n",
    "    - **Funding and Progress:** Successful applications attract more funding, driving further advancements\n",
    "\n",
    "\n",
    "\n"
   ]
  },
  {
   "cell_type": "code",
   "execution_count": null,
   "metadata": {},
   "outputs": [],
   "source": []
  }
 ],
 "metadata": {
  "language_info": {
   "name": "python"
  }
 },
 "nbformat": 4,
 "nbformat_minor": 2
}
