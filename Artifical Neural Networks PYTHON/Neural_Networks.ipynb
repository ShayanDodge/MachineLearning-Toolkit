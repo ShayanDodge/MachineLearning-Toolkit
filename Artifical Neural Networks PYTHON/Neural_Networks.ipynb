{
 "cells": [
  {
   "cell_type": "markdown",
   "metadata": {},
   "source": [
    "* # Perceptron neural network\n",
    "\n",
    "    * A perceptron is the simplest form of a neural network, specifically a single-layer neural network. \n",
    "    * It was introduced by Frank Rosenblatt in 1957. \n",
    "    * The perceptron is a binary classifier that takes multiple binary inputs and produces a single binary output.  \n",
    "    * It's a fundamental building block for more complex neural networks."
   ]
  },
  {
   "cell_type": "code",
   "execution_count": 5,
   "metadata": {},
   "outputs": [],
   "source": [
    "import numpy as np\n",
    "from sklearn.datasets import load_iris\n",
    "from sklearn.linear_model import Perceptron\n",
    "\n",
    "# Load the Iris dataset\n",
    "iris = load_iris()\n",
    "# Extract petal length and petal width features from the dataset\n",
    "X = iris.data[:, (2, 3)]  # petal length, petal width\n",
    "# Create binary classification labels: 1 if Iris setosa, 0 otherwise\n",
    "y = (iris.target == 0).astype(int)\n",
    "\n",
    "# Create a Perceptron classifier with specified parameters\n",
    "## max_iter is the maximum number of training iterations.\n",
    "## tol is the tolerance, stopping training when the improvement is small.\n",
    "## random_state ensures reproducibility by setting a random seed.\n",
    "per_clf = Perceptron(max_iter=1000, tol=1e-3, random_state=42)\n",
    "# Train the Perceptron on the dataset\n",
    "per_clf.fit(X, y)\n",
    "# Make a prediction for a new input [2, 0.5]\n",
    "y_pred = per_clf.predict([[2, 0.5]])"
   ]
  }
 ],
 "metadata": {
  "kernelspec": {
   "display_name": "base",
   "language": "python",
   "name": "python3"
  },
  "language_info": {
   "codemirror_mode": {
    "name": "ipython",
    "version": 3
   },
   "file_extension": ".py",
   "mimetype": "text/x-python",
   "name": "python",
   "nbconvert_exporter": "python",
   "pygments_lexer": "ipython3",
   "version": "3.11.5"
  }
 },
 "nbformat": 4,
 "nbformat_minor": 2
}
