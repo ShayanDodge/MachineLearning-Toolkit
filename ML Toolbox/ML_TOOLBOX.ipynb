{
 "cells": [
  {
   "cell_type": "markdown",
   "metadata": {},
   "source": [
    "# 1. Downloading data"
   ]
  },
  {
   "cell_type": "code",
   "execution_count": 14,
   "metadata": {},
   "outputs": [],
   "source": [
    "# Import necessary modules\n",
    "import os  # Operating system module for file and directory operations\n",
    "import tarfile  # Module for working with tar archives\n",
    "import urllib.request  # Module for opening and reading URLs\n",
    "\n",
    "# Define a function to fetch data\n",
    "def fetch_data(data_url, data_path):\n",
    "    os.makedirs(data_path, exist_ok=True) # Create the local directory if it doesn't exist\n",
    "    tgz_path = os.path.join(data_path, \"housing.tgz\") # Construct the full path for the downloaded tar file\n",
    "    urllib.request.urlretrieve(data_url, tgz_path) # Download the tar file from the specified URL and save it locally\n",
    "    housing_tgz = tarfile.open(tgz_path) # Open the downloaded tar file\n",
    "    housing_tgz.extractall(path=data_path) # Extract all contents from the tar file to the specified directory\n",
    "    housing_tgz.close()  # Close the tar file\n",
    "\n",
    "# Call the function to fetch housing data\n",
    "if __name__==\"__main__\":\n",
    "    data_PATH = os.path.join(\"datasets\", \"housing\") # Define the local path where the dataset will be stored\n",
    "    data_URL = \"https://raw.githubusercontent.com/ageron/handson-ml2/master/datasets/housing/housing.tgz\" # Define the complete URL of the dataset\n",
    "    fetch_data(data_URL, data_PATH)"
   ]
  },
  {
   "cell_type": "markdown",
   "metadata": {},
   "source": [
    "# 2. Loading data"
   ]
  },
  {
   "cell_type": "code",
   "execution_count": 16,
   "metadata": {},
   "outputs": [],
   "source": [
    "import pandas as pd\n",
    "\n",
    "data_PATH = os.path.join(\"datasets\", \"housing\") # Define the local path where the housing dataset will be stored\n",
    "def load_data(housing_path=data_PATH):\n",
    "    csv_path = os.path.join(housing_path, \"housing.csv\")\n",
    "    return pd.read_csv(csv_path)"
   ]
  }
 ],
 "metadata": {
  "kernelspec": {
   "display_name": "base",
   "language": "python",
   "name": "python3"
  },
  "language_info": {
   "codemirror_mode": {
    "name": "ipython",
    "version": 3
   },
   "file_extension": ".py",
   "mimetype": "text/x-python",
   "name": "python",
   "nbconvert_exporter": "python",
   "pygments_lexer": "ipython3",
   "version": "3.11.5"
  }
 },
 "nbformat": 4,
 "nbformat_minor": 2
}
