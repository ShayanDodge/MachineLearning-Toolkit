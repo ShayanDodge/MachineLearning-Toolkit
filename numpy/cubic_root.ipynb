{
 "cells": [
  {
   "cell_type": "markdown",
   "metadata": {},
   "source": [
    "\n",
    "## Using the numpy library to find the cubic root of numbers"
   ]
  },
  {
   "cell_type": "code",
   "execution_count": 10,
   "metadata": {},
   "outputs": [
    {
     "name": "stdout",
     "output_type": "stream",
     "text": [
      "[5. 6.]\n"
     ]
    },
    {
     "name": "stderr",
     "output_type": "stream",
     "text": [
      "C:\\Users\\dodge\\AppData\\Local\\Temp\\ipykernel_23660\\3642563235.py:4: DeprecationWarning: scipy.cbrt is deprecated and will be removed in SciPy 2.0.0, use numpy.cbrt instead\n",
      "  cuberoot=scipy.cbrt([125,216])\n"
     ]
    }
   ],
   "source": [
    "import numpy\n",
    "cuberoot=numpy.cbrt([125,216])\n",
    "print(cuberoot)"
   ]
  }
 ],
 "metadata": {
  "kernelspec": {
   "display_name": "base",
   "language": "python",
   "name": "python3"
  },
  "language_info": {
   "codemirror_mode": {
    "name": "ipython",
    "version": 3
   },
   "file_extension": ".py",
   "mimetype": "text/x-python",
   "name": "python",
   "nbconvert_exporter": "python",
   "pygments_lexer": "ipython3",
   "version": "3.11.5"
  }
 },
 "nbformat": 4,
 "nbformat_minor": 2
}
