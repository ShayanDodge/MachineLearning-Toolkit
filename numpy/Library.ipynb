{
 "cells": [
  {
   "cell_type": "markdown",
   "metadata": {},
   "source": [
    "\n",
    "## Using the numpy library to find the **cubic root** of numbers"
   ]
  },
  {
   "cell_type": "code",
   "execution_count": 11,
   "metadata": {},
   "outputs": [
    {
     "name": "stdout",
     "output_type": "stream",
     "text": [
      "[5. 6.]\n"
     ]
    }
   ],
   "source": [
    "import numpy\n",
    "cuberoot=numpy.cbrt([125,216])\n",
    "print(cuberoot)"
   ]
  },
  {
   "cell_type": "markdown",
   "metadata": {},
   "source": [
    "# Using NumPy to create 2D **array**"
   ]
  },
  {
   "cell_type": "code",
   "execution_count": 13,
   "metadata": {},
   "outputs": [
    {
     "name": "stdout",
     "output_type": "stream",
     "text": [
      "[[ 0  1  2  3  4  5  6  7  8  9 10 11 12 13 14 15 16 17 18 19]\n",
      " [20 21 22 23 24 25 26 27 28 29 30 31 32 33 34 35 36 37 38 39]\n",
      " [40 41 42 43 44 45 46 47 48 49 50 51 52 53 54 55 56 57 58 59]\n",
      " [60 61 62 63 64 65 66 67 68 69 70 71 72 73 74 75 76 77 78 79]\n",
      " [80 81 82 83 84 85 86 87 88 89 90 91 92 93 94 95 96 97 98 99]]\n"
     ]
    }
   ],
   "source": [
    "import numpy as np\n",
    "a = np.arange(100).reshape(5,20)\n",
    "print(a)"
   ]
  },
  {
   "cell_type": "markdown",
   "metadata": {},
   "source": [
    "# Creating a **series** using Pandas"
   ]
  },
  {
   "cell_type": "code",
   "execution_count": 14,
   "metadata": {},
   "outputs": [
    {
     "name": "stdout",
     "output_type": "stream",
     "text": [
      "0       January\n",
      "1      February\n",
      "2         March\n",
      "3         April\n",
      "4           May\n",
      "5          June\n",
      "6          July\n",
      "7        August\n",
      "8     September\n",
      "9       October\n",
      "10     November\n",
      "11     December\n",
      "dtype: object\n"
     ]
    }
   ],
   "source": [
    "import pandas as pd\n",
    "import numpy as np \n",
    "t=np.array(['January', 'February', 'March','April','May','June','July', 'August','September', 'October','November','December'])\n",
    "p=pd.Series(t)\n",
    "print(p)"
   ]
  },
  {
   "cell_type": "markdown",
   "metadata": {},
   "source": [
    "## Creating **Data Frame** using Pandas\n"
   ]
  },
  {
   "cell_type": "code",
   "execution_count": 15,
   "metadata": {},
   "outputs": [
    {
     "name": "stdout",
     "output_type": "stream",
     "text": [
      "        Month  MonthNo\n",
      "0     January        1\n",
      "1    February        2\n",
      "2       March        3\n",
      "3       April        4\n",
      "4         May        5\n",
      "5        June        6\n",
      "6        July        7\n",
      "7      August        8\n",
      "8   September        9\n",
      "9     October       10\n",
      "10   November       11\n",
      "11   December       12\n"
     ]
    }
   ],
   "source": [
    "import pandas as pd\n",
    "t = [['January',1],['February',2],['March',3],['April',4],['May',5],['June',6],['July',7],['August',8],['September',9],['October',10],['November',11],['December',12]]\n",
    "dataframe = pd.DataFrame(t,columns=['Month','MonthNo'])\n",
    "print(dataframe)"
   ]
  },
  {
   "cell_type": "markdown",
   "metadata": {},
   "source": [
    "## Drawing a **plot** using matplotlib\n"
   ]
  },
  {
   "cell_type": "code",
   "execution_count": 20,
   "metadata": {},
   "outputs": [
    {
     "data": {
      "image/png": "[encoded data removed]",
      "text/plain": [
       "<Figure size 640x480 with 1 Axes>"
      ]
     },
     "metadata": {},
     "output_type": "display_data"
    }
   ],
   "source": [
    "import matplotlib.pyplot as plt\n",
    "x = [ 1, 2, 3, 4, 5, 6, 7, 8, 9, 10]\n",
    "y = [10, 20, 30, 40, 50, 60, 70, 80, 90, 100]\n",
    "plt.plot(x,y)\n",
    "plt.xlabel('xaxis')\n",
    "plt.ylabel('yaxis')\n",
    "plt.title('Value of y corresponding to x')\n",
    "plt.show()"
   ]
  }
 ],
 "metadata": {
  "kernelspec": {
   "display_name": "base",
   "language": "python",
   "name": "python3"
  },
  "language_info": {
   "codemirror_mode": {
    "name": "ipython",
    "version": 3
   },
   "file_extension": ".py",
   "mimetype": "text/x-python",
   "name": "python",
   "nbconvert_exporter": "python",
   "pygments_lexer": "ipython3",
   "version": "3.11.5"
  }
 },
 "nbformat": 4,
 "nbformat_minor": 2
}
