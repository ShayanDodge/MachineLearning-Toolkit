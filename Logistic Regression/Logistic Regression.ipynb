{
 "cells": [
  {
   "cell_type": "markdown",
   "metadata": {},
   "source": [
    "# The Python code for logistic regression"
   ]
  },
  {
   "cell_type": "markdown",
   "metadata": {},
   "source": [
    "### A student's exam performance is to be predicted based on the hours they devoted to studying and sleeping. We aim to determine whether the student will pass (denoted as 1) or fail (denoted as 0) given the respective amounts of study and sleep."
   ]
  },
  {
   "cell_type": "code",
   "execution_count": 10,
   "metadata": {},
   "outputs": [
    {
     "name": "stdout",
     "output_type": "stream",
     "text": [
      "   HoursStudied  HoursSlept  PassorFail\n",
      "0      1.228312    0.757178           0\n",
      "1      0.698409    1.380295           0\n",
      "2      2.548817    2.502258           1\n",
      "3      0.573579    1.352979           0\n",
      "4      0.585900    1.337457           0\n",
      "Accuracy: 64.0\n",
      "Prediction for the first student: [1]\n",
      "Prediction for the second student: [0]\n"
     ]
    },
    {
     "name": "stderr",
     "output_type": "stream",
     "text": [
      "c:\\Users\\dodge\\anaconda3\\Lib\\site-packages\\sklearn\\base.py:439: UserWarning: X does not have valid feature names, but LogisticRegression was fitted with feature names\n",
      "  warnings.warn(\n",
      "c:\\Users\\dodge\\anaconda3\\Lib\\site-packages\\sklearn\\base.py:439: UserWarning: X does not have valid feature names, but LogisticRegression was fitted with feature names\n",
      "  warnings.warn(\n"
     ]
    }
   ],
   "source": [
    "import pandas as pd\n",
    "import numpy as np\n",
    "from sklearn import metrics\n",
    "from sklearn.linear_model import LogisticRegression \n",
    "from sklearn.model_selection import train_test_split\n",
    "from sklearn.datasets import make_classification\n",
    "\n",
    "\n",
    "# Generating a synthetic dataset\n",
    "X, y = make_classification(\n",
    "    n_samples=100,  # Number of samples\n",
    "    n_features=2,   # Number of features\n",
    "    n_classes=2,    # Number of classes (binary classification)\n",
    "    n_clusters_per_class=1,\n",
    "    n_redundant=0,\n",
    "    random_state=42\n",
    ")\n",
    "X = abs(X)\n",
    "# Creating a DataFrame\n",
    "df = pd.DataFrame(data=np.c_[X, y], columns=['HoursStudied', 'HoursSlept', 'PassorFail'])\n",
    "\n",
    "# Converting 'PassorFail' column to integer type\n",
    "df['PassorFail'] = df['PassorFail'].astype(int)\n",
    "\n",
    "# Displaying the first few rows of the dataset\n",
    "print(df.head())\n",
    "\n",
    "\n",
    "# Separating features (x) and target variable (y)\n",
    "x = df.drop(\"PassorFail\", axis=1)\n",
    "y = df.PassorFail\n",
    "\n",
    "# Splitting the dataset into training and testing sets\n",
    "x_train, x_test, y_train, y_test = train_test_split(x, y, random_state=4)\n",
    "\n",
    "# Creating a Logistic Regression model\n",
    "logistic_regression = LogisticRegression() \n",
    "\n",
    "# Training the model on the training set\n",
    "logistic_regression.fit(x_train, y_train)\n",
    "\n",
    "# Making predictions on the test set\n",
    "y_prediction = logistic_regression.predict(x_test) \n",
    "\n",
    "# Evaluating the accuracy of the model\n",
    "accuracy = metrics.accuracy_score(y_test, y_prediction)\n",
    "accuracy_percentage = 100 * accuracy\n",
    "\n",
    "# Displaying the accuracy\n",
    "print(\"Accuracy:\", accuracy_percentage)\n",
    "\n",
    "# Predicting whether the first student will pass or fail\n",
    "first_student = logistic_regression.predict((np.array([7, 5]).reshape(1, -1)))\n",
    "print(\"Prediction for the first student:\", first_student)\n",
    "\n",
    "# Predicting whether the second student will pass or fail\n",
    "second_student = logistic_regression.predict((np.array([2, 10]).reshape(1, -1)))\n",
    "print(\"Prediction for the second student:\", second_student)"
   ]
  }
 ],
 "metadata": {
  "kernelspec": {
   "display_name": "base",
   "language": "python",
   "name": "python3"
  },
  "language_info": {
   "codemirror_mode": {
    "name": "ipython",
    "version": 3
   },
   "file_extension": ".py",
   "mimetype": "text/x-python",
   "name": "python",
   "nbconvert_exporter": "python",
   "pygments_lexer": "ipython3",
   "version": "3.11.5"
  }
 },
 "nbformat": 4,
 "nbformat_minor": 2
}
